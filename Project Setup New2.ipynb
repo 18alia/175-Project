{
 "cells": [
  {
   "cell_type": "code",
   "execution_count": 2,
   "id": "53d1af0a",
   "metadata": {},
   "outputs": [],
   "source": [
    "# Imports\n",
    "from mne.io.snirf import read_raw_snirf\n",
    "import matplotlib.pyplot as plt\n",
    "import pandas as pd\n",
    "import numpy as np\n",
    "from sklearn.linear_model import LogisticRegression\n",
    "from sklearn.metrics import classification_report, confusion_matrix\n",
    "from sklearn.metrics import accuracy_score,precision_score,recall_score\n",
    "from sklearn.model_selection import cross_val_score\n",
    "from sklearn.model_selection import KFold\n",
    "from sklearn.model_selection import StratifiedKFold\n",
    "from sklearn.preprocessing import scale\n",
    "from sklearn.svm import SVC\n",
    "from sklearn.cross_decomposition import PLSRegression\n",
    "from scipy.signal import butter, lfilter, freqz\n",
    "import warnings\n",
    "warnings.filterwarnings('ignore')"
   ]
  },
  {
   "cell_type": "markdown",
   "id": "66bcee57",
   "metadata": {},
   "source": [
    "## Loading Data Sets"
   ]
  },
  {
   "cell_type": "code",
   "execution_count": 3,
   "id": "cb79eb84",
   "metadata": {},
   "outputs": [
    {
     "name": "stdout",
     "output_type": "stream",
     "text": [
      "Loading /Users/sarabadih/Desktop/mne-python/f096049-Hb_Moments.snirf\n",
      "Loading /Users/sarabadih/Desktop/mne-python/1745f1d-Hb_Moments.snirf\n",
      "Loading /Users/sarabadih/Desktop/mne-python/157dcb4-Hb_Moments.snirf\n"
     ]
    }
   ],
   "source": [
    "# Reading the data files\n",
    "path_to_snirf = \"f096049-Hb_Moments.snirf\" #Patient 1 Run 1 data\n",
    "path_to_snirf_1 = \"1745f1d-Hb_Moments.snirf\" #Patient 1 Run 2 data\n",
    "path_to_snirf_2 = \"157dcb4-Hb_Moments.snirf\" #Patient 2 data\n",
    "snirf = read_raw_snirf(path_to_snirf)\n",
    "snirf_1 = read_raw_snirf(path_to_snirf_1)\n",
    "snirf_2 = read_raw_snirf(path_to_snirf_2)"
   ]
  },
  {
   "cell_type": "code",
   "execution_count": 4,
   "id": "c6671cf9",
   "metadata": {},
   "outputs": [],
   "source": [
    "# Obtaining NIRS data\n",
    "data = snirf.get_data() #Patient 1 Run 1\n",
    "data_1 = snirf_1.get_data() #Patient 1 Run 2\n",
    "data_2 = snirf_2.get_data() #Patient 2 "
   ]
  },
  {
   "cell_type": "code",
   "execution_count": 5,
   "id": "105cd989",
   "metadata": {},
   "outputs": [],
   "source": [
    "# Obtaining channels' names and locations\n",
    "channel_names = [x['ch_name'] for x in snirf.info['chs']] #Patient 1 Run 1 channel names\n",
    "channel_names_1 = [x['ch_name'] for x in snirf_1.info['chs']] #Patient 1 Run 2 channel names\n",
    "channel_names_2 = [x['ch_name'] for x in snirf_2.info['chs']] #Patient 2 channel names\n",
    "\n",
    "channel_locations_3d = [x['loc'][:3] for x in snirf.info['chs']] \n",
    "channel_locations_3d_1 = [x['loc'][:3] for x in snirf_1.info['chs']] \n",
    "channel_locations_3d_2 = [x['loc'][:3] for x in snirf_2.info['chs']] \n",
    "\n",
    "assert len(channel_names)==len(channel_locations_3d)"
   ]
  },
  {
   "cell_type": "code",
   "execution_count": 6,
   "id": "0ef2e5c1",
   "metadata": {},
   "outputs": [],
   "source": [
    "#Channel labels array: each element is 'True' if channel is Hbo or 'False' if it is HbR\n",
    "is_hbo = np.array([1 if channel_name.endswith('HbO') else 0 for channel_name in channel_names], dtype=bool)\n",
    "is_hbo_1 = np.array([1 if channel_name_1.endswith('HbO') else 0 for channel_name_1 in channel_names_1], dtype=bool)\n",
    "is_hbo_2 = np.array([1 if channel_name_2.endswith('HbO') else 0 for channel_name_2 in channel_names_2], dtype=bool)"
   ]
  },
  {
   "cell_type": "markdown",
   "id": "d8d8e714",
   "metadata": {},
   "source": [
    "Note: Channel endings will either be HbO or hbo depending on dataloading properties."
   ]
  },
  {
   "cell_type": "code",
   "execution_count": 7,
   "id": "de5c4be5",
   "metadata": {},
   "outputs": [
    {
     "name": "stdout",
     "output_type": "stream",
     "text": [
      "For patient 1 run 1, there are 2206 channels. Each channel outputs HbO data (Oxygenated Hemoglobin) and HbR data (Deoxygenated Hemoglobin).\n"
     ]
    }
   ],
   "source": [
    "#Patient 1 Run 1 number of channels\n",
    "print('For patient 1 run 1, there are '+str(len(data[is_hbo, :]))+' channels. Each channel outputs HbO data (Oxygenated Hemoglobin) and HbR data (Deoxygenated Hemoglobin).')"
   ]
  },
  {
   "cell_type": "code",
   "execution_count": 8,
   "id": "200843ce",
   "metadata": {},
   "outputs": [
    {
     "name": "stdout",
     "output_type": "stream",
     "text": [
      "For patient 1 run 2, there are 2206 channels. Each channel outputs HbO data (Oxygenated Hemoglobin) and HbR data (Deoxygenated Hemoglobin).\n"
     ]
    }
   ],
   "source": [
    "#Patient 1 Run 2 number of channels\n",
    "print('For patient 1 run 2, there are '+str(len(data_1[is_hbo_1, :]))+' channels. Each channel outputs HbO data (Oxygenated Hemoglobin) and HbR data (Deoxygenated Hemoglobin).')"
   ]
  },
  {
   "cell_type": "code",
   "execution_count": 9,
   "id": "e98e21cc",
   "metadata": {},
   "outputs": [
    {
     "name": "stdout",
     "output_type": "stream",
     "text": [
      "For patient 2, there are 2206 channels. Each channel outputs HbO data (Oxygenated Hemoglobin) and HbR data (Deoxygenated Hemoglobin).\n"
     ]
    }
   ],
   "source": [
    "#Patient 2 number of channels\n",
    "print('For patient 2, there are '+str(len(data_2[is_hbo_2, :]))+' channels. Each channel outputs HbO data (Oxygenated Hemoglobin) and HbR data (Deoxygenated Hemoglobin).')"
   ]
  },
  {
   "cell_type": "markdown",
   "id": "801bd361",
   "metadata": {},
   "source": [
    "## Raw Data Plotting"
   ]
  },
  {
   "cell_type": "code",
   "execution_count": 38,
   "id": "33c43208",
   "metadata": {},
   "outputs": [
    {
     "data": {
      "image/png": "[encoded data removed]",
      "text/plain": [
       "<Figure size 720x360 with 2 Axes>"
      ]
     },
     "metadata": {
      "needs_background": "light"
     },
     "output_type": "display_data"
    }
   ],
   "source": [
    "# Plotting raw data from patient 1 run 1\n",
    "_, ax = plt.subplots(ncols=2, figsize=(10, 5))\n",
    "ax[0].pcolor(snirf.times, np.arange(np.sum(is_hbo)), data[is_hbo, :], shading='nearest', color='green')\n",
    "ax[0].set_title('HbO')\n",
    "ax[0].set_xlabel('Time [s]')\n",
    "ax[0].set_ylabel('Channel number')\n",
    "ax[1].pcolor(snirf.times, np.arange(np.sum(~is_hbo)), data[~is_hbo, :], shading='nearest', color='darkblue')\n",
    "ax[1].set_title('HbR')\n",
    "ax[1].set_xlabel('Time [s]')\n",
    "plt.show() "
   ]
  },
  {
   "cell_type": "code",
   "execution_count": 10,
   "id": "9b93fa59",
   "metadata": {},
   "outputs": [
    {
     "data": {
      "image/png": "[encoded data removed]",
      "text/plain": [
       "<Figure size 720x360 with 2 Axes>"
      ]
     },
     "metadata": {
      "needs_background": "light"
     },
     "output_type": "display_data"
    }
   ],
   "source": [
    "# Plotting raw data from patient 1 run 2\n",
    "_, ax = plt.subplots(ncols=2, figsize=(10, 5))\n",
    "ax[0].pcolor(snirf_1.times, np.arange(np.sum(is_hbo_1)), data_1[is_hbo_1, :], shading='nearest', color='green')\n",
    "ax[0].set_title('HbO')\n",
    "ax[0].set_xlabel('Time [s]')\n",
    "ax[0].set_ylabel('Channel number')\n",
    "ax[1].pcolor(snirf_1.times, np.arange(np.sum(~is_hbo_1)), data_1[~is_hbo_1, :], shading='nearest', color='darkblue')\n",
    "ax[1].set_title('HbR')\n",
    "ax[1].set_xlabel('Time [s]')\n",
    "plt.show() "
   ]
  },
  {
   "cell_type": "code",
   "execution_count": 41,
   "id": "d8f8ac08",
   "metadata": {},
   "outputs": [
    {
     "data": {
      "image/png": "[encoded data removed]",
      "text/plain": [
       "<Figure size 720x360 with 2 Axes>"
      ]
     },
     "metadata": {
      "needs_background": "light"
     },
     "output_type": "display_data"
    }
   ],
   "source": [
    "# Plotting raw data from patient 2\n",
    "_, ax = plt.subplots(ncols=2, figsize=(10, 5))\n",
    "ax[0].pcolor(snirf_2.times, np.arange(np.sum(is_hbo_2)), data_2[is_hbo_2, :], shading='nearest', color='green')\n",
    "ax[0].set_title('HbO')\n",
    "ax[0].set_xlabel('Time [s]')\n",
    "ax[0].set_ylabel('Channel number')\n",
    "ax[1].pcolor(snirf_2.times, np.arange(np.sum(~is_hbo_2)), data_2[~is_hbo_2, :], shading='nearest', color='darkblue')\n",
    "ax[1].set_title('HbR')\n",
    "ax[1].set_xlabel('Time [s]')\n",
    "plt.show() "
   ]
  },
  {
   "cell_type": "code",
   "execution_count": 11,
   "id": "0602859a",
   "metadata": {},
   "outputs": [
    {
     "name": "stdout",
     "output_type": "stream",
     "text": [
      "[nan nan nan ... nan nan nan]\n",
      "[nan nan nan ... nan nan nan]\n",
      "[nan nan nan ... nan nan nan]\n"
     ]
    }
   ],
   "source": [
    "#Identifying Channels with no Data \n",
    "print(data[is_hbo, :][2000])\n",
    "print(data_1[is_hbo_1,:][2000])\n",
    "print(data_2[is_hbo_2, :][2000])"
   ]
  },
  {
   "cell_type": "markdown",
   "id": "2647e444",
   "metadata": {},
   "source": [
    "We can see on the plots above that some channels do not have any data, such as channel 2000. Let's remove all of these channels from our data arrays."
   ]
  },
  {
   "cell_type": "markdown",
   "id": "308bb9cb",
   "metadata": {},
   "source": [
    "## Data Preprocessing"
   ]
  },
  {
   "cell_type": "markdown",
   "id": "4ecc3ed4",
   "metadata": {},
   "source": [
    "#### Souli's code"
   ]
  },
  {
   "cell_type": "code",
   "execution_count": 12,
   "id": "f1daa011",
   "metadata": {},
   "outputs": [],
   "source": [
    "#Creating array that has the indices of the channels without data\n",
    "nan_index=[]\n",
    "for i in range(len(data)):\n",
    "    if np.isnan(data[i][0])==True:\n",
    "            nan_index.append(i)\n",
    "            \n",
    "nan_index_1=[]\n",
    "for i in range(len(data_1)):\n",
    "    if np.isnan(data_1[i][0])==True:\n",
    "            nan_index_1.append(i)\n",
    "    \n",
    "nan_index_2=[]\n",
    "for i in range(len(data_2)):\n",
    "    if np.isnan(data_2[i][0])==True:\n",
    "            nan_index_2.append(i)"
   ]
  },
  {
   "cell_type": "code",
   "execution_count": 13,
   "id": "72a1f453",
   "metadata": {},
   "outputs": [],
   "source": [
    "#Creating data array that only has channels with data\n",
    "real_data=np.delete(data, nan_index, 0)\n",
    "real_data_1=np.delete(data_1, nan_index_1, 0)\n",
    "real_data_2=np.delete(data_2, nan_index_2, 0)\n",
    "\n",
    "#Creating channel label array that only has channels with data\n",
    "real_is_hbo=np.delete(is_hbo, nan_index, 0)\n",
    "real_is_hbo_1=np.delete(is_hbo_1, nan_index_1, 0)\n",
    "real_is_hbo_2=np.delete(is_hbo_2, nan_index_2, 0)\n",
    "\n",
    "assert len(real_data)==len(data)-len(nan_index)\n",
    "assert len(real_data)==len(is_hbo)-len(nan_index)\n",
    "assert len(real_data)==len(real_is_hbo)"
   ]
  },
  {
   "cell_type": "code",
   "execution_count": 14,
   "id": "e681b797",
   "metadata": {},
   "outputs": [],
   "source": [
    "#Checking that our new data arrays have no NaN elements\n",
    "for i in range(len(real_data)):\n",
    "    assert np.isnan(real_data[i][0])==False\n",
    "for i in range(len(real_data_1)):\n",
    "    assert np.isnan(real_data_1[i][0])==False\n",
    "for i in range(len(real_data_2)):\n",
    "    assert np.isnan(real_data_2[i][0])==False"
   ]
  },
  {
   "cell_type": "code",
   "execution_count": 16,
   "id": "b6931d79",
   "metadata": {},
   "outputs": [
    {
     "name": "stdout",
     "output_type": "stream",
     "text": [
      "For patient 1 run 1, only 1145 channels actually carry data.\n"
     ]
    }
   ],
   "source": [
    "#Patient 1 Run 1 number of channels with data\n",
    "print('For patient 1 run 1, only '+str(len(real_data[real_is_hbo, :]))+' channels actually carry data.')"
   ]
  },
  {
   "cell_type": "code",
   "execution_count": 15,
   "id": "8e1290a0",
   "metadata": {},
   "outputs": [
    {
     "name": "stdout",
     "output_type": "stream",
     "text": [
      "For patient 1 run 2, only 1195 channels actually carry data.\n"
     ]
    }
   ],
   "source": [
    "#Patien 1 Run 2 number of channels with data\n",
    "print('For patient 1 run 2, only '+str(len(real_data_1[real_is_hbo_1, :]))+' channels actually carry data.')"
   ]
  },
  {
   "cell_type": "code",
   "execution_count": 17,
   "id": "7486d548",
   "metadata": {},
   "outputs": [
    {
     "name": "stdout",
     "output_type": "stream",
     "text": [
      "For patient 2, only 666 channels actually carry data.\n"
     ]
    }
   ],
   "source": [
    "#Patient 2 number of channels with data\n",
    "print('For patient 2, only '+str(len(real_data_2[real_is_hbo_2, :]))+' channels actually carry data.')"
   ]
  },
  {
   "cell_type": "code",
   "execution_count": 18,
   "id": "c39756cc",
   "metadata": {},
   "outputs": [],
   "source": [
    "#Creating HbO data and HbR data arrays\n",
    "hbo_data=real_data[real_is_hbo, :]\n",
    "hbo_data_1=real_data_1[real_is_hbo_1, :]\n",
    "hbo_data_2=real_data_2[real_is_hbo_2, :]\n",
    "\n",
    "hbr_data=real_data[~real_is_hbo, :]\n",
    "hbr_data_1=real_data_1[~real_is_hbo_1, :]\n",
    "hbr_data_2=real_data_2[~real_is_hbo_2, :]"
   ]
  },
  {
   "cell_type": "code",
   "execution_count": 19,
   "id": "688607bf",
   "metadata": {},
   "outputs": [
    {
     "data": {
      "image/png": "[encoded data removed]",
      "text/plain": [
       "<Figure size 720x360 with 2 Axes>"
      ]
     },
     "metadata": {
      "needs_background": "light"
     },
     "output_type": "display_data"
    }
   ],
   "source": [
    "# Plotting preprocessed data from patient 1 run 1\n",
    "_, ax = plt.subplots(ncols=2, figsize=(10, 5))\n",
    "ax[0].pcolor(snirf.times, np.arange(np.sum(real_is_hbo)), hbo_data, shading='nearest', color='green')\n",
    "ax[0].set_title('HbO')\n",
    "ax[0].set_xlabel('Time [s]')\n",
    "ax[0].set_ylabel('Channel number')\n",
    "ax[1].pcolor(snirf.times, np.arange(np.sum(~real_is_hbo)), hbr_data, shading='nearest', color='darkblue')\n",
    "ax[1].set_title('HbR')\n",
    "ax[1].set_xlabel('Time [s]')\n",
    "plt.show() "
   ]
  },
  {
   "cell_type": "code",
   "execution_count": 33,
   "id": "08e4070c",
   "metadata": {},
   "outputs": [
    {
     "data": {
      "image/png": "[encoded data removed]",
      "text/plain": [
       "<Figure size 720x360 with 2 Axes>"
      ]
     },
     "metadata": {
      "needs_background": "light"
     },
     "output_type": "display_data"
    }
   ],
   "source": [
    "# Plotting preprocessed data from patient 2\n",
    "_, ax = plt.subplots(ncols=2, figsize=(10, 5))\n",
    "ax[0].pcolor(snirf_2.times, np.arange(np.sum(real_is_hbo_2)), hbo_data_2, shading='nearest', color='green')\n",
    "ax[0].set_title('HbO')\n",
    "ax[0].set_xlabel('Time [s]')\n",
    "ax[0].set_ylabel('Channel number')\n",
    "ax[1].pcolor(snirf_2.times, np.arange(np.sum(~real_is_hbo_2)), hbr_data_2, shading='nearest', color='darkblue')\n",
    "ax[1].set_title('HbR')\n",
    "ax[1].set_xlabel('Time [s]')\n",
    "plt.show() "
   ]
  },
  {
   "cell_type": "markdown",
   "id": "480c5b74",
   "metadata": {},
   "source": [
    "This again confirms that we successfully removed all of the channels that didn't output any data."
   ]
  },
  {
   "cell_type": "markdown",
   "id": "155f952f",
   "metadata": {},
   "source": [
    "## Labels Setup"
   ]
  },
  {
   "cell_type": "markdown",
   "id": "ef51aaba",
   "metadata": {},
   "source": [
    "#### Souli's code"
   ]
  },
  {
   "cell_type": "code",
   "execution_count": 21,
   "id": "1600ce4f",
   "metadata": {},
   "outputs": [
    {
     "name": "stdout",
     "output_type": "stream",
     "text": [
      "      timestamp             event    duration experiment_type  block  \\\n",
      "0      0.000000  start_experiment  789.392488  finger_tapping    NaN   \n",
      "1      0.089842        start_rest   20.018517  finger_tapping    NaN   \n",
      "2     20.108440       start_block   17.714409  finger_tapping    1.0   \n",
      "3     20.156964         start_ITI    0.513069  finger_tapping    1.0   \n",
      "4     20.670118       start_trial    0.806002  finger_tapping    1.0   \n",
      "..          ...               ...         ...             ...    ...   \n",
      "577  766.298867       start_trial    0.791355  finger_tapping   20.0   \n",
      "578  767.139773         start_ITI    0.752528  finger_tapping   20.0   \n",
      "579  767.892369       start_trial    0.802379  finger_tapping   20.0   \n",
      "580  768.739782         start_ITI    0.567454  finger_tapping   20.0   \n",
      "581  769.374845        start_rest   20.017540  finger_tapping    NaN   \n",
      "\n",
      "    block_type  trial trial_type  \n",
      "0          NaN    NaN        NaN  \n",
      "1          NaN    NaN        NaN  \n",
      "2        right    NaN        NaN  \n",
      "3        right    NaN        NaN  \n",
      "4        right    1.0     middle  \n",
      "..         ...    ...        ...  \n",
      "577      right  259.0      index  \n",
      "578      right    NaN        NaN  \n",
      "579      right  260.0      index  \n",
      "580      right    NaN        NaN  \n",
      "581        NaN    NaN        NaN  \n",
      "\n",
      "[582 rows x 8 columns]\n"
     ]
    }
   ],
   "source": [
    "#Reading event task files\n",
    "task_events_df = pd.read_csv('f096049_task_events.tsv', sep='\\t') #Patient 1 Run 1 task events\n",
    "task_events_df_1 = pd.read_csv('1745f1d_task_events.tsv', sep='\\t') #Patient 1 Run 2 task events\n",
    "task_events_df_2 = pd.read_csv('157dcb4_task_events.tsv', sep='\\t') #Patient 2 task events\n",
    "\n",
    "#Printing task events dataframe for Patient 1 Run 1 \n",
    "print(task_events_df)"
   ]
  },
  {
   "cell_type": "code",
   "execution_count": 22,
   "id": "5751f854",
   "metadata": {},
   "outputs": [
    {
     "name": "stdout",
     "output_type": "stream",
     "text": [
      "(5653,)\n"
     ]
    }
   ],
   "source": []
  },
  {
   "cell_type": "markdown",
   "id": "b7eef342",
   "metadata": {},
   "source": [
    "#### Sara"
   ]
  },
  {
   "cell_type": "markdown",
   "id": "68cfc55a",
   "metadata": {},
   "source": [
    "##### Here we are manually creating our labels array to include a total of 5653 datapoints since this many datapoints is recorded in the snirf files. We were given right and left tapping labels in an excel sheet for only 583 datapoints in a time interval of about 800 seconds. We need to manually take in our 5653 snirf datapoints and assign them to left and right taps. "
   ]
  },
  {
   "cell_type": "code",
   "execution_count": 23,
   "id": "a97c67de",
   "metadata": {},
   "outputs": [],
   "source": [
    "# Labels Array for Patient 1 Run 1 data\n",
    "blocks_labels=np.empty(snirf.times.size) #5653 #This is a 0 (right-tapping block) or 1 (left-tapping block) array\n",
    "rest_index=[]\n",
    "\n",
    "for i in range(len(snirf.times)): #0 to 5653   \n",
    "    #Right Ranges\n",
    "    if snirf.times[i,] >=20.1084403991699 and snirf.times[i,] < 37.2906377315521:\n",
    "        blocks_labels[i]=0\n",
    "    elif snirf.times[i,] >=96.0085089206695 and snirf.times[i,] <115.45904135704:\n",
    "        blocks_labels[i]=0\n",
    "    elif snirf.times[i,] >=215.648464679718 and snirf.times[i,] <233.39488863945:\n",
    "        blocks_labels[i]=0\n",
    "    elif snirf.times[i,] >=254.080522060394 and snirf.times[i,] <270.762350082397:\n",
    "        blocks_labels[i]=0\n",
    "    elif snirf.times[i,] >=329.180588245391 and snirf.times[i,] <347.297376155853:\n",
    "        blocks_labels[i]=0\n",
    "    elif snirf.times[i,] >=407.016450643539 and snirf.times[i,] <423.932327508926:\n",
    "        blocks_labels[i]=0\n",
    "    elif snirf.times[i,] >=521.084533214569 and snirf.times[i,] <538.435498714447:\n",
    "        blocks_labels[i]=0\n",
    "    elif snirf.times[i,] >=597.4884724617 and snirf.times[i,] <615.069853544235:\n",
    "        blocks_labels[i]=0\n",
    "    elif snirf.times[i,] >=673.024507522583 and snirf.times[i,] <691.171491146087:\n",
    "        blocks_labels[i]=0\n",
    "    elif snirf.times[i,] >=750.456876039505 and snirf.times[i,] <768.739782094955:\n",
    "        blocks_labels[i]=0\n",
    "\n",
    "    #Left Ranges\n",
    "    elif snirf.times[i,] >=57.9085166454315 and snirf.times[i,] <75.3247609138488:\n",
    "        blocks_labels[i]=1\n",
    "    elif snirf.times[i,] >=136.044531583786 and snirf.times[i,] <155.393176078796:\n",
    "        blocks_labels[i]=1\n",
    "    elif snirf.times[i,] >=176.312454462051 and snirf.times[i,] <194.860765457153:\n",
    "        blocks_labels[i]=1\n",
    "    elif snirf.times[i,] >=291.416473150253 and snirf.times[i,] <308.596531152725:\n",
    "        blocks_labels[i]=1\n",
    "    elif snirf.times[i,] >=368.048515081405 and snirf.times[i,] <386.398197889328:\n",
    "        blocks_labels[i]=1\n",
    "    elif snirf.times[i,] >=444.316514968872 and snirf.times[i,] <462.033178329467:\n",
    "        blocks_labels[i]=1\n",
    "    elif snirf.times[i,] >=482.384647130966 and snirf.times[i,] <500.434092283248:\n",
    "        blocks_labels[i]=1\n",
    "    elif snirf.times[i,] >=558.784443378448 and snirf.times[i,] <576.868988275528:\n",
    "        blocks_labels[i]=1\n",
    "    elif snirf.times[i,] >=635.356453895568 and snirf.times[i,] <651.970604419708:\n",
    "        blocks_labels[i]=1\n",
    "    elif snirf.times[i,] >=711.756521224975 and snirf.times[i,] <729.5390236377:\n",
    "        blocks_labels[i]=1\n",
    "    else: \n",
    "        blocks_labels[i]=2\n",
    "        rest_index.append(i)"
   ]
  },
  {
   "cell_type": "code",
   "execution_count": 24,
   "id": "4d42b7c3",
   "metadata": {},
   "outputs": [],
   "source": [
    "# Labels Array for Patient 1 Run 2 data\n",
    "blocks_labels_1=np.empty(snirf_1.times.size) #5653 #This is a 0 (right-tapping block) or 1 (left-tapping block) array\n",
    "rest_index_1=[]\n",
    "\n",
    "for i in range(len(snirf_1.times)): #0 to 5653   \n",
    "    #Right Ranges\n",
    "    if snirf_1.times[i,] >=20.1086583137512 and snirf_1.times[i,] < 37.1245105266571:\n",
    "        blocks_labels_1[i]=0\n",
    "    elif snirf_1.times[i,] >=133.612738 and snirf_1.times[i,] < 151.06035542488:\n",
    "        blocks_labels_1[i]=0\n",
    "    elif snirf_1.times[i,] >=208.912713527679 and snirf_1.times[i,] <225.882631540298:\n",
    "        blocks_labels_1[i]=0\n",
    "    elif snirf_1.times[i,] >=285.848896265029 and snirf_1.times[i,] <302.33035326004:\n",
    "        blocks_labels_1[i]=0\n",
    "    elif snirf_1.times[i,] >=361.364654779434 and snirf_1.times[i,] <378.615277767181:\n",
    "        blocks_labels_1[i]=0\n",
    "    elif snirf_1.times[i,] >=399.502045869827 and snirf_1.times[i,] <417.082849025726:\n",
    "        blocks_labels_1[i]=0\n",
    "    elif snirf_1.times[i,] >=512.704719305038 and snirf_1.times[i,] <530.351920366287:\n",
    "        blocks_labels_1[i]=0\n",
    "    elif snirf_1.times[i,] >=589.804739236831 and snirf_1.times[i,] <615.069853544235:\n",
    "        blocks_labels_1[i]=0\n",
    "    elif snirf_1.times[i,] >=673.024507522583 and snirf_1.times[i,] <606.586908817291:\n",
    "        blocks_labels_1[i]=0\n",
    "    elif snirf_1.times[i,] >=665.640746831893 and snirf_1.times[i,] <683.088618993759:\n",
    "        blocks_labels_1[i]=0\n",
    "    elif snirf_1.times[i,] >=703.474778890609 and snirf_1.times[i,] <719.356036186218:\n",
    "        blocks_labels_1[i]=0\n",
    "\n",
    "    #Left Ranges\n",
    "    elif snirf_1.times[i,] >=57.9486932754516 and snirf_1.times[i,] <76.0942878723144:\n",
    "        blocks_labels_1[i]=1\n",
    "    elif snirf_1.times[i,] >=96.6807014942169 and snirf_1.times[i,] <113.165368318557:\n",
    "        blocks_labels_1[i]=1\n",
    "    elif snirf_1.times[i,] >=171.376758575439 and snirf_1.times[i,] <188.227774620056:\n",
    "        blocks_labels_1[i]=1\n",
    "    elif snirf_1.times[i,] >=247.150136470794 and snirf_1.times[i,] <264.962820529937:\n",
    "        blocks_labels_1[i]=1\n",
    "    elif snirf_1.times[i,] >=322.748689174652 and snirf_1.times[i,] <340.681576251983:\n",
    "        blocks_labels_1[i]=1\n",
    "    elif snirf_1.times[i,] >=437.600652217865 and snirf_1.times[i,] <454.91695356369:\n",
    "        blocks_labels_1[i]=1\n",
    "    elif snirf_1.times[i,] >=475.402074098587 and snirf_1.times[i,] <492.317756414413:\n",
    "        blocks_labels_1[i]=1\n",
    "    elif snirf_1.times[i,] >=550.968777179718 and snirf_1.times[i,] <568.952736854553:\n",
    "        blocks_labels_1[i]=1\n",
    "    elif snirf_1.times[i,] >=627.272651195526 and snirf_1.times[i,] <644.857827425003:\n",
    "        blocks_labels_1[i]=1\n",
    "    elif snirf_1.times[i,] >=739.712754964828 and snirf_1.times[i,] <756.823478:\n",
    "        blocks_labels_1[i]=1\n",
    "    else: \n",
    "        blocks_labels_1[i]=2\n",
    "        rest_index_1.append(i)"
   ]
  },
  {
   "cell_type": "code",
   "execution_count": 26,
   "id": "49e9e84e",
   "metadata": {},
   "outputs": [],
   "source": [
    "# Labels Array for Patient 2 data\n",
    "blocks_labels_2=np.empty(snirf_2.times.size) #This is a 0 (right-tapping block) or 1 (left-tapping block) array of length 5493, which is the number of timestamps\n",
    "rest_index_2=[]\n",
    "\n",
    "for i in range(len(snirf_2.times)): #0 to 5493 \n",
    "    #Right Ranges\n",
    "    if snirf_2.times[i,] >=20.0404598712921 and snirf_2.times[i,] <=36.7387335300445 :\n",
    "        blocks_labels_2[i]=0\n",
    "    elif snirf_2.times[i,] >=95.0564653873443 and snirf_2.times[i,] <=110.852770090103:\n",
    "        blocks_labels_2[i]=0\n",
    "    elif snirf_2.times[i,] >=168.936528921127 and snirf_2.times[i,] <=185.850895881652:\n",
    "        blocks_labels_2[i]=0\n",
    "    elif snirf_2.times[i,] >=280.968475580215 and snirf_2.times[i,] <=297.413870334625:\n",
    "        blocks_labels_2[i]=0\n",
    "    elif snirf_2.times[i,] >=355.496618986129 and snirf_2.times[i,] <=373.029193162918:\n",
    "        blocks_labels_2[i]=0\n",
    "    elif snirf_2.times[i,] >=393.532568216323 and snirf_2.times[i,] <=410.99533867836:\n",
    "        blocks_labels_2[i]=0\n",
    "    elif snirf_2.times[i,] >=505.112452745437 and snirf_2.times[i,] <=521.557640314102:\n",
    "        blocks_labels_2[i]=0\n",
    "    elif snirf_2.times[i,] >=578.59243941307 and snirf_2.times[i,] <=595.454669713974:\n",
    "        blocks_labels_2[i]=0\n",
    "    elif snirf_2.times[i,] >=653.588501691818 and snirf_2.times[i,] <=670.286049604415:\n",
    "        blocks_labels_2[i]=0\n",
    "    elif snirf_2.times[i,] >=690.87249302864 and snirf_2.times[i,] <=707.718648910522:\n",
    "        blocks_labels_2[i]=0\n",
    "\n",
    "    #Left Ranges\n",
    "    elif snirf_2.times[i,] >=57.5405182838439 and snirf_2.times[i,] <=74.6882479190826:\n",
    "        blocks_labels_2[i]=1\n",
    "    elif snirf_2.times[i,] >=131.9044659137726 and snirf_2.times[i,] <=148.735503435134:\n",
    "        blocks_labels_2[i]=1\n",
    "    elif snirf_2.times[i,] >=206.252545595169 and snirf_2.times[i,] <=223.566793203353:\n",
    "        blocks_labels_2[i]=1\n",
    "    elif snirf_2.times[i,] >=244.204538106918 and snirf_2.times[i,] <=260.23189663887:\n",
    "        blocks_labels_2[i]=1\n",
    "    elif snirf_2.times[i,] >=317.669047117233 and snirf_2.times[i,] <=334.762775421142:\n",
    "        blocks_labels_2[i]=1\n",
    "    elif snirf_2.times[i,] >=431.196606874465 and snirf_2.times[i,] <=447.677822351455:\n",
    "        blocks_labels_2[i]=1\n",
    "    elif snirf_2.times[i,] >=468.0444419384 and snirf_2.times[i,] <=484.558886051178:\n",
    "        blocks_labels_2[i]=1\n",
    "    elif snirf_2.times[i,] >=541.976702928543 and snirf_2.times[i,] <=558.139090299606:\n",
    "        blocks_labels_2[i]=1\n",
    "    elif snirf_2.times[i,] >=616.340427160263 and snirf_2.times[i,] <=632.904483795166:\n",
    "        blocks_labels_2[i]=1\n",
    "    elif snirf_2.times[i,] >=727.96843957901 and snirf_2.times[i,] <=745.050502777099:\n",
    "        blocks_labels_2[i]=1\n",
    "    else: \n",
    "        blocks_labels_2[i]=2\n",
    "        rest_index_2.append(i)"
   ]
  },
  {
   "cell_type": "code",
   "execution_count": 27,
   "id": "7946e8b4",
   "metadata": {},
   "outputs": [],
   "source": [
    "#Patient 1 Run 1\n",
    "#Creating array of data only from left and right tapping blocks\n",
    "right_left_data=np.delete(real_data, rest_index, 1) #Remove rest indicies\n",
    "\n",
    "#Creating label array of data only from left and right tapping blocks\n",
    "right_left_labels=np.delete(blocks_labels, rest_index)\n",
    "\n",
    "assert len(blocks_labels)-len(rest_index)==len(right_left_labels)\n",
    "assert len(right_left_labels)==len(right_left_data[0])"
   ]
  },
  {
   "cell_type": "code",
   "execution_count": 29,
   "id": "a8ad430a",
   "metadata": {},
   "outputs": [],
   "source": [
    "#Repeat for Patient 1 Run 2\n",
    "right_left_data_1=np.delete(real_data_1, rest_index_1, 1) #Remove rest indicies\n",
    "right_left_labels_1=np.delete(blocks_labels_1, rest_index_1)\n",
    "\n",
    "assert len(blocks_labels_1)-len(rest_index_1)==len(right_left_labels_1)\n",
    "assert len(right_left_labels_1)==len(right_left_data_1[0])"
   ]
  },
  {
   "cell_type": "code",
   "execution_count": 30,
   "id": "7683ba85",
   "metadata": {},
   "outputs": [],
   "source": [
    "#Repeat for Patient 2\n",
    "right_left_data_2=np.delete(real_data_2, rest_index_2, 1)\n",
    "\n",
    "right_left_labels_2=np.delete(blocks_labels_2, rest_index_2) #Remove rest indicies\n",
    "\n",
    "assert len(blocks_labels_2)-len(rest_index_2)==len(right_left_labels_2)\n",
    "assert len(right_left_labels_2)==len(right_left_data_2[0])"
   ]
  },
  {
   "cell_type": "code",
   "execution_count": 31,
   "id": "7480ef1b",
   "metadata": {},
   "outputs": [
    {
     "name": "stdout",
     "output_type": "stream",
     "text": [
      "For patient 1 run 1, each channel now has 2523 data points.\n"
     ]
    }
   ],
   "source": [
    "#Patient 1 Run 1, number of data points per channel\n",
    "print('For patient 1 run 1, each channel now has '+str(len(right_left_labels))+' data points.')"
   ]
  },
  {
   "cell_type": "code",
   "execution_count": 32,
   "id": "b2c0ab36",
   "metadata": {},
   "outputs": [
    {
     "name": "stdout",
     "output_type": "stream",
     "text": [
      "For patient 1 run 2, each channel now has 2917 data points.\n"
     ]
    }
   ],
   "source": [
    "#Patient 1 Run 2, number of data points per channel\n",
    "print('For patient 1 run 2, each channel now has '+str(len(right_left_labels_1))+' data points.')"
   ]
  },
  {
   "cell_type": "code",
   "execution_count": 33,
   "id": "33518ac1",
   "metadata": {},
   "outputs": [
    {
     "name": "stdout",
     "output_type": "stream",
     "text": [
      "For patient 2, each channel now has 2373 data points.\n"
     ]
    }
   ],
   "source": [
    "#Patient 2, number of data points per channel\n",
    "print('For patient 2, each channel now has '+str(len(right_left_labels_2))+' data points.')"
   ]
  },
  {
   "cell_type": "markdown",
   "id": "c861ff28",
   "metadata": {},
   "source": [
    "#### Sara's code"
   ]
  },
  {
   "cell_type": "code",
   "execution_count": 34,
   "id": "d74d912e",
   "metadata": {},
   "outputs": [
    {
     "data": {
      "text/html": [
       "<div>\n",
       "<style scoped>\n",
       "    .dataframe tbody tr th:only-of-type {\n",
       "        vertical-align: middle;\n",
       "    }\n",
       "\n",
       "    .dataframe tbody tr th {\n",
       "        vertical-align: top;\n",
       "    }\n",
       "\n",
       "    .dataframe thead th {\n",
       "        text-align: right;\n",
       "    }\n",
       "</style>\n",
       "<table border=\"1\" class=\"dataframe\">\n",
       "  <thead>\n",
       "    <tr style=\"text-align: right;\">\n",
       "      <th></th>\n",
       "      <th>timestamp</th>\n",
       "      <th>event</th>\n",
       "      <th>duration</th>\n",
       "      <th>experiment_type</th>\n",
       "      <th>block</th>\n",
       "      <th>block_type</th>\n",
       "      <th>trial</th>\n",
       "      <th>trial_type</th>\n",
       "    </tr>\n",
       "  </thead>\n",
       "  <tbody>\n",
       "    <tr>\n",
       "      <th>0</th>\n",
       "      <td>0.000000</td>\n",
       "      <td>start_experiment</td>\n",
       "      <td>789.392488</td>\n",
       "      <td>finger_tapping</td>\n",
       "      <td>NaN</td>\n",
       "      <td>NaN</td>\n",
       "      <td>NaN</td>\n",
       "      <td>NaN</td>\n",
       "    </tr>\n",
       "    <tr>\n",
       "      <th>1</th>\n",
       "      <td>0.089842</td>\n",
       "      <td>start_rest</td>\n",
       "      <td>20.018517</td>\n",
       "      <td>finger_tapping</td>\n",
       "      <td>NaN</td>\n",
       "      <td>NaN</td>\n",
       "      <td>NaN</td>\n",
       "      <td>NaN</td>\n",
       "    </tr>\n",
       "    <tr>\n",
       "      <th>2</th>\n",
       "      <td>20.108440</td>\n",
       "      <td>start_block</td>\n",
       "      <td>17.714409</td>\n",
       "      <td>finger_tapping</td>\n",
       "      <td>1.0</td>\n",
       "      <td>right</td>\n",
       "      <td>NaN</td>\n",
       "      <td>NaN</td>\n",
       "    </tr>\n",
       "    <tr>\n",
       "      <th>3</th>\n",
       "      <td>20.156964</td>\n",
       "      <td>start_ITI</td>\n",
       "      <td>0.513069</td>\n",
       "      <td>finger_tapping</td>\n",
       "      <td>1.0</td>\n",
       "      <td>right</td>\n",
       "      <td>NaN</td>\n",
       "      <td>NaN</td>\n",
       "    </tr>\n",
       "    <tr>\n",
       "      <th>4</th>\n",
       "      <td>20.670118</td>\n",
       "      <td>start_trial</td>\n",
       "      <td>0.806002</td>\n",
       "      <td>finger_tapping</td>\n",
       "      <td>1.0</td>\n",
       "      <td>right</td>\n",
       "      <td>1.0</td>\n",
       "      <td>middle</td>\n",
       "    </tr>\n",
       "    <tr>\n",
       "      <th>...</th>\n",
       "      <td>...</td>\n",
       "      <td>...</td>\n",
       "      <td>...</td>\n",
       "      <td>...</td>\n",
       "      <td>...</td>\n",
       "      <td>...</td>\n",
       "      <td>...</td>\n",
       "      <td>...</td>\n",
       "    </tr>\n",
       "    <tr>\n",
       "      <th>577</th>\n",
       "      <td>766.298867</td>\n",
       "      <td>start_trial</td>\n",
       "      <td>0.791355</td>\n",
       "      <td>finger_tapping</td>\n",
       "      <td>20.0</td>\n",
       "      <td>right</td>\n",
       "      <td>259.0</td>\n",
       "      <td>index</td>\n",
       "    </tr>\n",
       "    <tr>\n",
       "      <th>578</th>\n",
       "      <td>767.139773</td>\n",
       "      <td>start_ITI</td>\n",
       "      <td>0.752528</td>\n",
       "      <td>finger_tapping</td>\n",
       "      <td>20.0</td>\n",
       "      <td>right</td>\n",
       "      <td>NaN</td>\n",
       "      <td>NaN</td>\n",
       "    </tr>\n",
       "    <tr>\n",
       "      <th>579</th>\n",
       "      <td>767.892369</td>\n",
       "      <td>start_trial</td>\n",
       "      <td>0.802379</td>\n",
       "      <td>finger_tapping</td>\n",
       "      <td>20.0</td>\n",
       "      <td>right</td>\n",
       "      <td>260.0</td>\n",
       "      <td>index</td>\n",
       "    </tr>\n",
       "    <tr>\n",
       "      <th>580</th>\n",
       "      <td>768.739782</td>\n",
       "      <td>start_ITI</td>\n",
       "      <td>0.567454</td>\n",
       "      <td>finger_tapping</td>\n",
       "      <td>20.0</td>\n",
       "      <td>right</td>\n",
       "      <td>NaN</td>\n",
       "      <td>NaN</td>\n",
       "    </tr>\n",
       "    <tr>\n",
       "      <th>581</th>\n",
       "      <td>769.374845</td>\n",
       "      <td>start_rest</td>\n",
       "      <td>20.017540</td>\n",
       "      <td>finger_tapping</td>\n",
       "      <td>NaN</td>\n",
       "      <td>NaN</td>\n",
       "      <td>NaN</td>\n",
       "      <td>NaN</td>\n",
       "    </tr>\n",
       "  </tbody>\n",
       "</table>\n",
       "<p>582 rows × 8 columns</p>\n",
       "</div>"
      ],
      "text/plain": [
       "      timestamp             event    duration experiment_type  block  \\\n",
       "0      0.000000  start_experiment  789.392488  finger_tapping    NaN   \n",
       "1      0.089842        start_rest   20.018517  finger_tapping    NaN   \n",
       "2     20.108440       start_block   17.714409  finger_tapping    1.0   \n",
       "3     20.156964         start_ITI    0.513069  finger_tapping    1.0   \n",
       "4     20.670118       start_trial    0.806002  finger_tapping    1.0   \n",
       "..          ...               ...         ...             ...    ...   \n",
       "577  766.298867       start_trial    0.791355  finger_tapping   20.0   \n",
       "578  767.139773         start_ITI    0.752528  finger_tapping   20.0   \n",
       "579  767.892369       start_trial    0.802379  finger_tapping   20.0   \n",
       "580  768.739782         start_ITI    0.567454  finger_tapping   20.0   \n",
       "581  769.374845        start_rest   20.017540  finger_tapping    NaN   \n",
       "\n",
       "    block_type  trial trial_type  \n",
       "0          NaN    NaN        NaN  \n",
       "1          NaN    NaN        NaN  \n",
       "2        right    NaN        NaN  \n",
       "3        right    NaN        NaN  \n",
       "4        right    1.0     middle  \n",
       "..         ...    ...        ...  \n",
       "577      right  259.0      index  \n",
       "578      right    NaN        NaN  \n",
       "579      right  260.0      index  \n",
       "580      right    NaN        NaN  \n",
       "581        NaN    NaN        NaN  \n",
       "\n",
       "[582 rows x 8 columns]"
      ]
     },
     "metadata": {},
     "output_type": "display_data"
    }
   ],
   "source": [
    "df = pd.read_excel (r'/Users/sarabadih/Desktop/f096049_task_events.xlsx', sheet_name='f096049_task_events')\n",
    "display(df)\n",
    "\n",
    "#Extract the timestamp and block_type columns\n",
    "time_stamps=df[\"timestamp\"] #582 timestamps\n",
    "block_type=df[\"block_type\"]"
   ]
  },
  {
   "cell_type": "code",
   "execution_count": 35,
   "id": "a4e9af1f",
   "metadata": {},
   "outputs": [],
   "source": [
    "#Defining moving average function\n",
    "def movingaverage (values, window):\n",
    "    weights = np.repeat(1.0, window)/window\n",
    "    return np.convolve(np.squeeze(values), weights, 'valid')"
   ]
  },
  {
   "cell_type": "markdown",
   "id": "9c7475a3",
   "metadata": {},
   "source": [
    "#### Setting Up Separate Labels Array for Running Logistic Regression on only one Channel"
   ]
  },
  {
   "cell_type": "code",
   "execution_count": 36,
   "id": "6403f467",
   "metadata": {},
   "outputs": [],
   "source": [
    "# Labels Array for Training Datatset\n",
    "avg=movingaverage(snirf.times,100)\n",
    "blocks=np.empty(avg.size) #5554 #This is a 0 or 1 array representing the y_train\n",
    "\n",
    "for i in range(len(avg)): #0 to 5554   \n",
    "    #Right Ranges\n",
    "    if avg[i,] >=20.1084403991699 and avg[i,] <= 37.2906377315521:\n",
    "        blocks[i]=0\n",
    "    elif avg[i,] >=96.0085089206695 and avg[i,] <= 115.45904135704:\n",
    "        blocks[i]=0\n",
    "    elif avg[i,] >=215.648464679718 and avg[i,] <=233.39488863945:\n",
    "        blocks[i]=0\n",
    "    elif avg[i,] >=254.080522060394 and avg[i,] <=270.762350082397:\n",
    "        blocks[i]=0\n",
    "    elif avg[i,] >=329.180588245391 and avg[i,] <=347.297376155853:\n",
    "        blocks[i]=0\n",
    "    elif avg[i,] >=407.016450643539 and avg[i,] <=423.932327508926:\n",
    "        blocks[i]=0\n",
    "    elif avg[i,] >=521.084533214569 and avg[i,] <=538.435498714447:\n",
    "        blocks[i]=0\n",
    "    elif avg[i,] >=597.4884724617 and avg[i,] <=615.069853544235:\n",
    "        blocks[i]=0\n",
    "    elif avg[i,] >=673.024507522583 and avg[i,] <=691.171491146087:\n",
    "        blocks[i]=0\n",
    "    elif avg[i,] >=750.456876039505 and avg[i,] <=768.739782094955:\n",
    "        blocks[i]=0\n",
    "\n",
    "    #Left Ranges\n",
    "    elif avg[i,] >=57.9085166454315 and avg[i,] <= 75.3247609138488:\n",
    "        blocks[i]=1\n",
    "    elif avg[i,] >=136.044531583786 and avg[i,] <= 155.393176078796:\n",
    "        blocks[i]=1\n",
    "    elif avg[i,] >=176.312454462051 and avg[i,] <= 194.860765457153:\n",
    "        blocks[i]=1\n",
    "    elif avg[i,] >=291.416473150253 and avg[i,] <=308.596531152725:\n",
    "        blocks[i]=1\n",
    "    elif avg[i,] >=368.048515081405 and avg[i,] <=386.398197889328:\n",
    "        blocks[i]=1\n",
    "    elif avg[i,] >=444.316514968872 and avg[i,] <=462.033178329467:\n",
    "        blocks[i]=1\n",
    "    elif avg[i,] >=482.384647130966 and avg[i,] <=500.434092283248:\n",
    "        blocks[i]=1\n",
    "    elif avg[i,] >=558.784443378448 and avg[i,] <=576.868988275528:\n",
    "        blocks[i]=1\n",
    "    elif avg[i,] >=635.356453895568 and avg[i,] <=651.970604419708:\n",
    "        blocks[i]=1\n",
    "    elif avg[i,] >=711.756521224975 and avg[i,] <=729.5390236377:\n",
    "        blocks[i]=1\n",
    "    else: \n",
    "        blocks[i]=0 #What do i set my nan to\n",
    "#Assertions \n",
    "assert(blocks[4988]==1.0)\n",
    "assert(blocks[93]==0.0)\n",
    "assert(blocks[0]==0.0)\n",
    "assert(blocks.shape==(5554,))"
   ]
  },
  {
   "cell_type": "code",
   "execution_count": 37,
   "id": "b59e63af",
   "metadata": {},
   "outputs": [
    {
     "name": "stdout",
     "output_type": "stream",
     "text": [
      "Loading /Users/sarabadih/Desktop/mne-python/157dcb4-Hb_Moments.snirf\n"
     ]
    }
   ],
   "source": [
    "#Read in Test DataSet\n",
    "path = \"157dcb4-Hb_Moments.snirf\" #Patient 2 data\n",
    "snirf_test = read_raw_snirf(path)\n",
    "\n",
    "#Labels Array for Test Dataset\n",
    "avg=movingaverage(snirf_test.times,100)\n",
    "y_test=np.empty(avg.size) #5394 #This is a 0,1 array representing the y_test\n",
    "\n",
    "for i in range(len(avg)): #0 to 5394 \n",
    "    #Right Ranges\n",
    "    if avg[i,] >=20.0404598712921 and avg[i,] <=36.7387335300445 :\n",
    "        y_test[i]=0\n",
    "    elif avg[i,] >=95.0564653873443 and avg[i,] <=110.852770090103:\n",
    "        y_test[i]=0\n",
    "    elif avg[i,] >=168.936528921127 and avg[i,] <=185.850895881652:\n",
    "        y_test[i]=0\n",
    "    elif avg[i,] >=280.968475580215 and avg[i,] <=297.413870334625:\n",
    "        y_test[i]=0\n",
    "    elif avg[i,] >=355.496618986129 and avg[i,] <=373.029193162918:\n",
    "        y_test[i]=0\n",
    "    elif avg[i,] >=393.532568216323 and avg[i,] <=410.99533867836:\n",
    "        y_test[i]=0\n",
    "    elif avg[i,] >=505.112452745437 and avg[i,] <=521.557640314102:\n",
    "        y_test[i]=0\n",
    "    elif avg[i,] >=578.59243941307 and avg[i,] <=595.454669713974:\n",
    "        y_test[i]=0\n",
    "    elif avg[i,] >=653.588501691818 and avg[i,] <=670.286049604415:\n",
    "        y_test[i]=0\n",
    "    elif avg[i,] >=690.87249302864 and avg[i,] <=707.718648910522:\n",
    "        y_test[i]=0\n",
    "\n",
    "    #Left Ranges\n",
    "    elif avg[i,] >=57.5405182838439 and avg[i,] <=74.6882479190826:\n",
    "        y_test[i]=1\n",
    "    elif avg[i,] >=131.9044659137726 and avg[i,] <=148.735503435134:\n",
    "        y_test[i]=1\n",
    "    elif avg[i,] >=206.252545595169 and avg[i,] <=223.566793203353:\n",
    "        y_test[i]=1\n",
    "    elif avg[i,] >=244.204538106918 and avg[i,] <=260.23189663887:\n",
    "        y_test[i]=1\n",
    "    elif avg[i,] >=317.669047117233 and avg[i,] <=334.762775421142:\n",
    "        y_test[i]=1\n",
    "    elif avg[i,] >=431.196606874465 and avg[i,] <=447.677822351455:\n",
    "        y_test[i]=1\n",
    "    elif avg[i,] >=468.0444419384 and avg[i,] <=484.558886051178:\n",
    "        y_test[i]=1\n",
    "    elif avg[i,] >=541.976702928543 and avg[i,] <=558.139090299606:\n",
    "        y_test[i]=1\n",
    "    elif avg[i,] >=616.340427160263 and avg[i,] <=632.904483795166:\n",
    "        y_test[i]=1\n",
    "    elif avg[i,] >=727.96843957901 and avg[i,] <=745.050502777099:\n",
    "        y_test[i]=1\n",
    "    else: \n",
    "        y_test[i]=0 #What do i set my nan to"
   ]
  },
  {
   "cell_type": "markdown",
   "id": "235d6905",
   "metadata": {},
   "source": [
    "## Data Processing"
   ]
  },
  {
   "cell_type": "markdown",
   "id": "ad13f326",
   "metadata": {},
   "source": [
    "#### Souli's code"
   ]
  },
  {
   "cell_type": "code",
   "execution_count": 38,
   "id": "30aaee7d",
   "metadata": {},
   "outputs": [],
   "source": [
    "#Patient 1 Run 1\n",
    "#Creating an array of the moving average of the data from right and left blocks\n",
    "avg_right_left_data=[np.empty(movingaverage(right_left_data[0], 100).shape)]\n",
    "\n",
    "for i in range(len(right_left_data)):\n",
    "    avg_right_left_data=np.append(avg_right_left_data,[movingaverage(right_left_data[i], 100).tolist()],axis=0)\n",
    "    \n",
    "avg_right_left_data=np.delete(avg_right_left_data, 0, 0)\n",
    "\n",
    "assert len(avg_right_left_data)==len(right_left_data)"
   ]
  },
  {
   "cell_type": "code",
   "execution_count": 39,
   "id": "20fdddc8",
   "metadata": {},
   "outputs": [],
   "source": [
    "#Repeat for Patient 1 Run 2\n",
    "avg_right_left_data_1=[np.empty(movingaverage(right_left_data_1[0], 100).shape)]\n",
    "\n",
    "for i in range(len(right_left_data_1)):\n",
    "    avg_right_left_data_1=np.append(avg_right_left_data_1,[movingaverage(right_left_data_1[i], 100).tolist()],axis=0)\n",
    "    \n",
    "avg_right_left_data_1=np.delete(avg_right_left_data_1, 0, 0)\n",
    "\n",
    "assert len(avg_right_left_data_1)==len(right_left_data_1)"
   ]
  },
  {
   "cell_type": "code",
   "execution_count": 40,
   "id": "a1b659e3",
   "metadata": {},
   "outputs": [],
   "source": [
    "#Repeat for Patient 2\n",
    "avg_right_left_data_2=[np.empty(movingaverage(right_left_data_2[0], 100).shape)]\n",
    "\n",
    "for i in range(len(right_left_data_2)):\n",
    "    avg_right_left_data_2=np.append(avg_right_left_data_2,[movingaverage(right_left_data_2[i], 100).tolist()],axis=0)\n",
    "    \n",
    "avg_right_left_data_2=np.delete(avg_right_left_data_2, 0, 0)\n",
    "\n",
    "assert len(avg_right_left_data_2)==len(right_left_data_2)"
   ]
  },
  {
   "cell_type": "code",
   "execution_count": 41,
   "id": "17dfda39",
   "metadata": {},
   "outputs": [],
   "source": [
    "#Patient 1 Run 1\n",
    "#Creating an array of the moving average of the labels for right and left blocks\n",
    "avg_right_left_labels=movingaverage(right_left_labels, 100)\n",
    "\n",
    "assert len(avg_right_left_labels)==len(avg_right_left_data[0])"
   ]
  },
  {
   "cell_type": "code",
   "execution_count": 42,
   "id": "e28bc012",
   "metadata": {},
   "outputs": [],
   "source": [
    "#Repeat for Patient 1 Run 2 \n",
    "avg_right_left_labels_1=movingaverage(right_left_labels_1, 100)\n",
    "assert len(avg_right_left_labels_1)==len(avg_right_left_data_1[0])"
   ]
  },
  {
   "cell_type": "code",
   "execution_count": 43,
   "id": "00d33a34",
   "metadata": {},
   "outputs": [],
   "source": [
    "#Repeat for Patient 2\n",
    "avg_right_left_labels_2=movingaverage(right_left_labels_2, 100)\n",
    "\n",
    "assert len(avg_right_left_labels_2)==len(avg_right_left_data_2[0])"
   ]
  },
  {
   "cell_type": "code",
   "execution_count": 44,
   "id": "49220527",
   "metadata": {},
   "outputs": [
    {
     "data": {
      "text/plain": [
       "2424"
      ]
     },
     "execution_count": 44,
     "metadata": {},
     "output_type": "execute_result"
    }
   ],
   "source": [
    "#Patient 1 Run 1\n",
    "#Printing number of data points per channel\n",
    "len(avg_right_left_labels)"
   ]
  },
  {
   "cell_type": "code",
   "execution_count": 45,
   "id": "252dd73d",
   "metadata": {},
   "outputs": [
    {
     "data": {
      "text/plain": [
       "2818"
      ]
     },
     "execution_count": 45,
     "metadata": {},
     "output_type": "execute_result"
    }
   ],
   "source": [
    "#Repeat for Patient 1 Run 1\n",
    "len(avg_right_left_labels_1)"
   ]
  },
  {
   "cell_type": "code",
   "execution_count": 46,
   "id": "067e0c0e",
   "metadata": {},
   "outputs": [
    {
     "data": {
      "text/plain": [
       "2274"
      ]
     },
     "execution_count": 46,
     "metadata": {},
     "output_type": "execute_result"
    }
   ],
   "source": [
    "#Repeat for Patient 2\n",
    "len(avg_right_left_labels_2)"
   ]
  },
  {
   "cell_type": "code",
   "execution_count": 47,
   "id": "893a1dff",
   "metadata": {},
   "outputs": [
    {
     "data": {
      "text/plain": [
       "0.79"
      ]
     },
     "execution_count": 47,
     "metadata": {},
     "output_type": "execute_result"
    }
   ],
   "source": [
    "#Patient 1 Run 1\n",
    "#Showing that labels array has values different than 0 or 1\n",
    "avg_right_left_labels[100]"
   ]
  },
  {
   "cell_type": "code",
   "execution_count": 48,
   "id": "173fed3b",
   "metadata": {},
   "outputs": [
    {
     "data": {
      "text/plain": [
       "0.6000000000000001"
      ]
     },
     "execution_count": 48,
     "metadata": {},
     "output_type": "execute_result"
    }
   ],
   "source": [
    "#Repeat for Patient 1 Run 1 \n",
    "avg_right_left_labels_1[100]"
   ]
  },
  {
   "cell_type": "code",
   "execution_count": 53,
   "id": "e4ea913c",
   "metadata": {},
   "outputs": [
    {
     "data": {
      "text/plain": [
       "0.81"
      ]
     },
     "execution_count": 53,
     "metadata": {},
     "output_type": "execute_result"
    }
   ],
   "source": [
    "#Repeat for Patient 2\n",
    "avg_right_left_labels_2[100]"
   ]
  },
  {
   "cell_type": "markdown",
   "id": "9f1e4a0c",
   "metadata": {},
   "source": [
    "Each channel now has 2424,2818 data points for patient 1(2 Runs) and 2274 for patient 2. However, our labels array now has averaged values that are neither 0 nor 1 but all of these values are greater than 0 and less than 0. Therefore, let's fix this by having all values greaer than or equal to 0.5 be 1 and all values less than 0.5 be 0."
   ]
  },
  {
   "cell_type": "code",
   "execution_count": 54,
   "id": "01b40372",
   "metadata": {},
   "outputs": [],
   "source": [
    "#Patient 1 Run 1\n",
    "#Creating label array of size 2274 with labels 0 (right-tapping) or 1 (left-tapping)\n",
    "filt_right_left_labels=np.array([])\n",
    "\n",
    "for i in avg_right_left_labels:\n",
    "    if i>=0.5:\n",
    "        filt_right_left_labels=np.append(filt_right_left_labels,1)\n",
    "    else:\n",
    "        filt_right_left_labels=np.append(filt_right_left_labels,0)\n",
    "        \n",
    "assert len(filt_right_left_labels)==len(avg_right_left_labels)"
   ]
  },
  {
   "cell_type": "code",
   "execution_count": 55,
   "id": "ba418c22",
   "metadata": {},
   "outputs": [],
   "source": [
    "#Patient 1 Run 2\n",
    "#Creating label array of size 2274 with labels 0 (right-tapping) or 1 (left-tapping)\n",
    "filt_right_left_labels_1=np.array([])\n",
    "\n",
    "for i in avg_right_left_labels_1:\n",
    "    if i>=0.5:\n",
    "        filt_right_left_labels_1=np.append(filt_right_left_labels_1,1)\n",
    "    else:\n",
    "        filt_right_left_labels_1=np.append(filt_right_left_labels_1,0)\n",
    "        \n",
    "assert len(filt_right_left_labels_1)==len(avg_right_left_labels_1)"
   ]
  },
  {
   "cell_type": "code",
   "execution_count": 56,
   "id": "073135f3",
   "metadata": {},
   "outputs": [],
   "source": [
    "#Repeat for Patient 2\n",
    "filt_right_left_labels_2=np.array([])\n",
    "\n",
    "for i in avg_right_left_labels_2:\n",
    "    if i>=0.5:\n",
    "        filt_right_left_labels_2=np.append(filt_right_left_labels_2,1)\n",
    "    else:\n",
    "        filt_right_left_labels_2=np.append(filt_right_left_labels_2,0)\n",
    "        \n",
    "assert len(filt_right_left_labels_2)==len(avg_right_left_labels_2)"
   ]
  },
  {
   "cell_type": "code",
   "execution_count": 57,
   "id": "4ba85c20",
   "metadata": {},
   "outputs": [
    {
     "data": {
      "image/png": "[encoded data removed]",
      "text/plain": [
       "<Figure size 432x288 with 1 Axes>"
      ]
     },
     "metadata": {
      "needs_background": "light"
     },
     "output_type": "display_data"
    }
   ],
   "source": [
    "#Low Pass Filter\n",
    "def butter_lowpass(cutoff, fs, order=5):\n",
    "    nyq = 0.5 * fs\n",
    "    normal_cutoff = cutoff / nyq\n",
    "    b, a = butter(order, normal_cutoff, btype='low', analog=False)\n",
    "    return b, a\n",
    "\n",
    "def butter_lowpass_filter(data, cutoff, fs, order=5):\n",
    "    b, a = butter_lowpass(cutoff, fs, order=order)\n",
    "    y = lfilter(b, a, data)\n",
    "    return y\n",
    "\n",
    "# Setting standard filter requirements.\n",
    "order = 6\n",
    "fs = 10   #This is the sampling rate I derived from the cutoff frequency they used(0.1=Fs/2)(Sampling Frequency has to be greater than 0.2)   \n",
    "cutoff = 0.1  \n",
    "\n",
    "b, a = butter_lowpass(cutoff, fs, order)\n",
    "\n",
    "# Plotting the frequency response.\n",
    "w, h = freqz(b, a, worN=8000)\n",
    "plt.plot(0.5*fs*w/np.pi, np.abs(h), 'b')\n",
    "plt.plot(cutoff, 0.5*np.sqrt(2), 'ko')\n",
    "plt.axvline(cutoff, color='k')\n",
    "plt.xlim(0, 0.5*fs)\n",
    "plt.title(\"Lowpass Filter Frequency Response\")\n",
    "plt.xlabel('Frequency [Hz]')\n",
    "plt.grid()"
   ]
  },
  {
   "cell_type": "code",
   "execution_count": 58,
   "id": "c09c0bda",
   "metadata": {},
   "outputs": [],
   "source": [
    "#Patient 1 Run 1\n",
    "#Creating an array of the filtered moving average of the data from right and left blocks\n",
    "filt_right_left_data=[np.empty(len(avg_right_left_labels))]\n",
    "\n",
    "for i in range(len(avg_right_left_data)):\n",
    "    filt_right_left_data=np.append(filt_right_left_data,[butter_lowpass_filter(avg_right_left_data[i], cutoff, fs, order).tolist()],axis=0)\n",
    "    \n",
    "filt_right_left_data=np.delete(filt_right_left_data, 0, 0)\n",
    "\n",
    "assert len(filt_right_left_data)==len(avg_right_left_data)"
   ]
  },
  {
   "cell_type": "code",
   "execution_count": 59,
   "id": "adfbae8f",
   "metadata": {},
   "outputs": [],
   "source": [
    "#Repeat for Patient 1 Run 2\n",
    "filt_right_left_data_1=[np.empty(len(avg_right_left_labels_1))]\n",
    "\n",
    "for i in range(len(avg_right_left_data_1)):\n",
    "    filt_right_left_data_1=np.append(filt_right_left_data_1,[butter_lowpass_filter(avg_right_left_data_1[i], cutoff, fs, order).tolist()],axis=0)\n",
    "    \n",
    "filt_right_left_data_1=np.delete(filt_right_left_data_1, 0, 0)\n",
    "\n",
    "assert len(filt_right_left_data_1)==len(avg_right_left_data_1)"
   ]
  },
  {
   "cell_type": "code",
   "execution_count": 60,
   "id": "00f1dc5b",
   "metadata": {},
   "outputs": [],
   "source": [
    "#Repeat for Patient 2\n",
    "filt_right_left_data_2=[np.empty(len(avg_right_left_labels_2))]\n",
    "\n",
    "for i in range(len(avg_right_left_data_2)):\n",
    "    filt_right_left_data_2=np.append(filt_right_left_data_2,[butter_lowpass_filter(avg_right_left_data_2[i], cutoff, fs, order).tolist()],axis=0)\n",
    "    \n",
    "filt_right_left_data_2=np.delete(filt_right_left_data_2, 0, 0)\n",
    "\n",
    "assert len(filt_right_left_data_2)==len(avg_right_left_data_2)"
   ]
  },
  {
   "cell_type": "markdown",
   "id": "eaabd327",
   "metadata": {},
   "source": [
    "## Sample Signal Visualization"
   ]
  },
  {
   "cell_type": "markdown",
   "id": "5f8e7166",
   "metadata": {},
   "source": [
    "#### Sara's code"
   ]
  },
  {
   "cell_type": "code",
   "execution_count": 62,
   "id": "741b777b",
   "metadata": {},
   "outputs": [
    {
     "data": {
      "text/plain": [
       "Text(0, 0.5, 'Left Channel')"
      ]
     },
     "execution_count": 62,
     "metadata": {},
     "output_type": "execute_result"
    },
    {
     "data": {
      "image/png": "[encoded data removed]",
      "text/plain": [
       "<Figure size 432x288 with 2 Axes>"
      ]
     },
     "metadata": {
      "needs_background": "light"
     },
     "output_type": "display_data"
    }
   ],
   "source": [
    "#Patient 1 Run 1, Obtaining 2 HbO Channels (Left and Right of Brain)\n",
    "\n",
    "#Right Channel HbO Signal\n",
    "assert(is_hbo[8])== True #Make sure we are choosing a HbO signal (Oxygenated Hemoglobin)\n",
    "assert(snirf.get_data().shape)==(4412,5653) #4412 channels by 5653 signal points per channel\n",
    "snirf_d=snirf.get_data()\n",
    "d=snirf_d[8,:] #Extract the 8th channel signal\n",
    "fig, axs = plt.subplots(2)\n",
    "fig.suptitle('Patient 1 Trial 1 Right and Left Sample Raw Signals')\n",
    "axs[0].plot(d,color=\"blue\",label=\"Right\")\n",
    "axs[0].set_ylabel(\"Right Channel\")\n",
    "\n",
    "#Left Channel HbO Signal\n",
    "assert(is_hbo[4380])== True #Make sure we are choosing a HbO signal (Oxygenated Hemoglobin)\n",
    "f=snirf_d[4380,:] #Extract the 4380th channel signal\n",
    "axs[1].plot(f,color=\"blue\",label=\"Left\")\n",
    "axs[1].set_ylabel(\"Left Channel\")"
   ]
  },
  {
   "cell_type": "code",
   "execution_count": 63,
   "id": "d64a5e3e",
   "metadata": {},
   "outputs": [
    {
     "data": {
      "text/plain": [
       "Text(0, 0.5, 'Left Channel')"
      ]
     },
     "execution_count": 63,
     "metadata": {},
     "output_type": "execute_result"
    },
    {
     "data": {
      "image/png": "[encoded data removed]",
      "text/plain": [
       "<Figure size 432x288 with 2 Axes>"
      ]
     },
     "metadata": {
      "needs_background": "light"
     },
     "output_type": "display_data"
    }
   ],
   "source": [
    "#Apply Moving Average to the data\n",
    "def movingaverage (values, window):\n",
    "    weights = np.repeat(1.0, window)/window\n",
    "    return np.convolve(np.squeeze(values), weights, 'valid')\n",
    "\n",
    "fig, axs = plt.subplots(2)\n",
    "fig.suptitle('Patient 1 Trial 1 Right and Left Moving Average Signals')\n",
    "axs[0].plot(movingaverage(d, 100),color=\"blue\",label=\"Right\")\n",
    "axs[0].set_ylabel(\"Right Channel\")\n",
    "\n",
    "#Left Channel HbO Signal\n",
    "assert(is_hbo[4380])== True #Make sure we are choosing a HbO signal (Oxygenated Hemoglobin)\n",
    "f=snirf_d[4380,:] #Extract the 8th channel signal\n",
    "axs[1].plot(movingaverage(f, 100),color=\"blue\",label=\"Left\")\n",
    "axs[1].set_ylabel(\"Left Channel\")"
   ]
  },
  {
   "cell_type": "code",
   "execution_count": 64,
   "id": "2484ac00",
   "metadata": {},
   "outputs": [
    {
     "data": {
      "image/png": "[encoded data removed]",
      "text/plain": [
       "<Figure size 432x288 with 2 Axes>"
      ]
     },
     "metadata": {
      "needs_background": "light"
     },
     "output_type": "display_data"
    }
   ],
   "source": [
    "# Filter Setup\n",
    "T = 800         # value taken in seconds\n",
    "t = np.linspace(0, T, 5653, endpoint=False)\n",
    "\n",
    "# Filtering and plotting\n",
    "p1_rf = butter_lowpass_filter(movingaverage(d,100), cutoff, fs, order) #patient 1 right filtered signal\n",
    "plt.subplot(2, 1, 1)\n",
    "plt.title(\"Patient 1 Right Channel Signals\")\n",
    "plt.plot(movingaverage(d,100), 'b-', label='Moving Average data')\n",
    "plt.plot(p1_rf, 'r-', linewidth=2, label='Moving Average+Filtered data')\n",
    "plt.grid()\n",
    "plt.legend(bbox_to_anchor=(1.05, 1))\n",
    "plt.subplot(2, 1, 2)\n",
    "plt.plot(p1_rf, 'r-', linewidth=2, label='Moving Average+Filtered data')\n",
    "plt.xlabel('Time [sec]')\n",
    "plt.grid()\n",
    "plt.subplots_adjust(hspace=0.35)"
   ]
  },
  {
   "cell_type": "code",
   "execution_count": 65,
   "id": "e220eb04",
   "metadata": {},
   "outputs": [
    {
     "data": {
      "text/plain": [
       "Text(0.5, 0, 'Time [sec]')"
      ]
     },
     "execution_count": 65,
     "metadata": {},
     "output_type": "execute_result"
    },
    {
     "data": {
      "image/png": "[encoded data removed]",
      "text/plain": [
       "<Figure size 432x288 with 2 Axes>"
      ]
     },
     "metadata": {
      "needs_background": "light"
     },
     "output_type": "display_data"
    }
   ],
   "source": [
    "# Filtering and plotting\n",
    "p1_lf = butter_lowpass_filter(movingaverage(f,100), cutoff, fs, order) #patient 1 left filtered signal\n",
    "plt.subplot(2, 1, 1)\n",
    "plt.plot(movingaverage(f,100), 'b-', label='Moving Average data')\n",
    "plt.plot(p1_lf, 'r-', linewidth=2,label='Moving Average+Filtered data')\n",
    "plt.title(\"Patient 1 Left Channel Signals\")\n",
    "plt.grid()\n",
    "plt.legend(bbox_to_anchor=(1.05, 1))\n",
    "plt.subplot(2, 1, 2)\n",
    "plt.plot(p1_lf, 'r-', linewidth=2, label='Moving Average+Filtered data')\n",
    "plt.grid()\n",
    "plt.subplots_adjust(hspace=0.35)\n",
    "plt.xlabel('Time [sec]')"
   ]
  },
  {
   "cell_type": "code",
   "execution_count": 66,
   "id": "19863d63",
   "metadata": {},
   "outputs": [
    {
     "name": "stdout",
     "output_type": "stream",
     "text": [
      "(5554,)\n",
      "(5554,)\n",
      "(5653,)\n",
      "(5653,)\n",
      "(5554,)\n"
     ]
    }
   ],
   "source": [
    "print(p1_lf.shape)\n",
    "print(movingaverage(f,100).shape)\n",
    "print(f.shape)\n",
    "print(snirf.times.shape)\n",
    "print(movingaverage(snirf.times,100).shape)"
   ]
  },
  {
   "cell_type": "code",
   "execution_count": 69,
   "id": "90bf395f",
   "metadata": {},
   "outputs": [
    {
     "name": "stdout",
     "output_type": "stream",
     "text": [
      "Loading /Users/sarabadih/Desktop/mne-python/157dcb4-Hb_Moments.snirf\n"
     ]
    }
   ],
   "source": [
    "#Read in Test DataSet\n",
    "path = \"157dcb4-Hb_Moments.snirf\" #Patient 1 Run 1 data\n",
    "snirf_test = read_raw_snirf(path)\n",
    "\n",
    "channel_names_test = [z['ch_name'] for z in snirf.info['chs']]\n",
    "is_hbo_test = np.array([1 if channel_name.endswith('HbO') else 0 for channel_name in channel_names_test], dtype=bool)\n",
    "channel_locations_3d_test = [z['loc'][:3] for z in snirf_test.info['chs']] "
   ]
  },
  {
   "cell_type": "code",
   "execution_count": 70,
   "id": "42c2b17b",
   "metadata": {},
   "outputs": [
    {
     "data": {
      "text/plain": [
       "Text(0, 0.5, 'Left Channel')"
      ]
     },
     "execution_count": 70,
     "metadata": {},
     "output_type": "execute_result"
    },
    {
     "data": {
      "image/png": "[encoded data removed]",
      "text/plain": [
       "<Figure size 432x288 with 2 Axes>"
      ]
     },
     "metadata": {
      "needs_background": "light"
     },
     "output_type": "display_data"
    }
   ],
   "source": [
    "#Right Channel HbO Signal\n",
    "assert(is_hbo_test[8])== True #Make sure we are choosing a HbO signal (Oxygenated Hemoglobin)\n",
    "snirf_t=snirf_test.get_data()\n",
    "test_r=snirf_t[8,:] #Extract the 9th channel signal\n",
    "\n",
    "#Left Channel HbO Signal\n",
    "assert(is_hbo_test[152])== True #Make sure we are choosing a HbO signal (Oxygenated Hemoglobin)\n",
    "test_l=snirf_t[152,:] #Extract the 151th channel signal \n",
    "\n",
    "#Apply Moving Average and Filter\n",
    "p_test_r=butter_lowpass_filter(movingaverage(test_r,100), cutoff, fs, order)\n",
    "p_test_l=butter_lowpass_filter(movingaverage(test_l,100), cutoff, fs, order)\n",
    "\n",
    "#Plot\n",
    "fig, axs = plt.subplots(2)\n",
    "fig.suptitle('Patient 2 (test) Right and Left Processed Data')\n",
    "axs[0].plot(p_test_r,color=\"blue\",label=\"Right\")\n",
    "axs[0].set_ylabel(\"Right Channel\")\n",
    "\n",
    "#Left Channel HbO Signal\n",
    "axs[1].plot(p_test_l,color=\"blue\",label=\"Left\")\n",
    "axs[1].set_ylabel(\"Left Channel\")"
   ]
  },
  {
   "cell_type": "code",
   "execution_count": 71,
   "id": "ea9f9069",
   "metadata": {},
   "outputs": [
    {
     "name": "stdout",
     "output_type": "stream",
     "text": [
      "(5493,)\n",
      "(5653,)\n"
     ]
    }
   ],
   "source": [
    "print(snirf_test.times.shape)\n",
    "print(snirf.times.shape) #Our timestamps are different for training and testing data"
   ]
  },
  {
   "cell_type": "markdown",
   "id": "e3de785d",
   "metadata": {},
   "source": [
    "## Logistic Regression Initial Model with One Channel for Training"
   ]
  },
  {
   "cell_type": "markdown",
   "id": "7f77411e",
   "metadata": {},
   "source": [
    "#### Sara's code"
   ]
  },
  {
   "cell_type": "code",
   "execution_count": 75,
   "id": "9308a7f4",
   "metadata": {},
   "outputs": [
    {
     "name": "stdout",
     "output_type": "stream",
     "text": [
      "Our Labels Are: [0. 1.]\n",
      "Our Models Intercept is: [-1.22984279]\n",
      "Our Models Coefficients are: [[0.87373667]]\n"
     ]
    },
    {
     "data": {
      "text/html": [
       "<div>\n",
       "<style scoped>\n",
       "    .dataframe tbody tr th:only-of-type {\n",
       "        vertical-align: middle;\n",
       "    }\n",
       "\n",
       "    .dataframe tbody tr th {\n",
       "        vertical-align: top;\n",
       "    }\n",
       "\n",
       "    .dataframe thead th {\n",
       "        text-align: right;\n",
       "    }\n",
       "</style>\n",
       "<table border=\"1\" class=\"dataframe\">\n",
       "  <thead>\n",
       "    <tr style=\"text-align: right;\">\n",
       "      <th></th>\n",
       "      <th>Right Tap(0)</th>\n",
       "      <th>Left Tap(1)</th>\n",
       "    </tr>\n",
       "  </thead>\n",
       "  <tbody>\n",
       "    <tr>\n",
       "      <th>0</th>\n",
       "      <td>0.773791</td>\n",
       "      <td>0.226209</td>\n",
       "    </tr>\n",
       "    <tr>\n",
       "      <th>1</th>\n",
       "      <td>0.773791</td>\n",
       "      <td>0.226209</td>\n",
       "    </tr>\n",
       "    <tr>\n",
       "      <th>2</th>\n",
       "      <td>0.773791</td>\n",
       "      <td>0.226209</td>\n",
       "    </tr>\n",
       "    <tr>\n",
       "      <th>3</th>\n",
       "      <td>0.773791</td>\n",
       "      <td>0.226209</td>\n",
       "    </tr>\n",
       "    <tr>\n",
       "      <th>4</th>\n",
       "      <td>0.773791</td>\n",
       "      <td>0.226209</td>\n",
       "    </tr>\n",
       "    <tr>\n",
       "      <th>...</th>\n",
       "      <td>...</td>\n",
       "      <td>...</td>\n",
       "    </tr>\n",
       "    <tr>\n",
       "      <th>5389</th>\n",
       "      <td>0.816588</td>\n",
       "      <td>0.183412</td>\n",
       "    </tr>\n",
       "    <tr>\n",
       "      <th>5390</th>\n",
       "      <td>0.815989</td>\n",
       "      <td>0.184011</td>\n",
       "    </tr>\n",
       "    <tr>\n",
       "      <th>5391</th>\n",
       "      <td>0.815396</td>\n",
       "      <td>0.184604</td>\n",
       "    </tr>\n",
       "    <tr>\n",
       "      <th>5392</th>\n",
       "      <td>0.814809</td>\n",
       "      <td>0.185191</td>\n",
       "    </tr>\n",
       "    <tr>\n",
       "      <th>5393</th>\n",
       "      <td>0.814229</td>\n",
       "      <td>0.185771</td>\n",
       "    </tr>\n",
       "  </tbody>\n",
       "</table>\n",
       "<p>5394 rows × 2 columns</p>\n",
       "</div>"
      ],
      "text/plain": [
       "      Right Tap(0)   Left Tap(1)\n",
       "0          0.773791     0.226209\n",
       "1          0.773791     0.226209\n",
       "2          0.773791     0.226209\n",
       "3          0.773791     0.226209\n",
       "4          0.773791     0.226209\n",
       "...             ...          ...\n",
       "5389       0.816588     0.183412\n",
       "5390       0.815989     0.184011\n",
       "5391       0.815396     0.184604\n",
       "5392       0.814809     0.185191\n",
       "5393       0.814229     0.185771\n",
       "\n",
       "[5394 rows x 2 columns]"
      ]
     },
     "metadata": {},
     "output_type": "display_data"
    },
    {
     "data": {
      "text/html": [
       "<div>\n",
       "<style scoped>\n",
       "    .dataframe tbody tr th:only-of-type {\n",
       "        vertical-align: middle;\n",
       "    }\n",
       "\n",
       "    .dataframe tbody tr th {\n",
       "        vertical-align: top;\n",
       "    }\n",
       "\n",
       "    .dataframe thead th {\n",
       "        text-align: right;\n",
       "    }\n",
       "</style>\n",
       "<table border=\"1\" class=\"dataframe\">\n",
       "  <thead>\n",
       "    <tr style=\"text-align: right;\">\n",
       "      <th></th>\n",
       "      <th>Model Prediction</th>\n",
       "    </tr>\n",
       "  </thead>\n",
       "  <tbody>\n",
       "    <tr>\n",
       "      <th>0</th>\n",
       "      <td>0.0</td>\n",
       "    </tr>\n",
       "    <tr>\n",
       "      <th>1</th>\n",
       "      <td>0.0</td>\n",
       "    </tr>\n",
       "    <tr>\n",
       "      <th>2</th>\n",
       "      <td>0.0</td>\n",
       "    </tr>\n",
       "    <tr>\n",
       "      <th>3</th>\n",
       "      <td>0.0</td>\n",
       "    </tr>\n",
       "    <tr>\n",
       "      <th>4</th>\n",
       "      <td>0.0</td>\n",
       "    </tr>\n",
       "    <tr>\n",
       "      <th>...</th>\n",
       "      <td>...</td>\n",
       "    </tr>\n",
       "    <tr>\n",
       "      <th>5389</th>\n",
       "      <td>0.0</td>\n",
       "    </tr>\n",
       "    <tr>\n",
       "      <th>5390</th>\n",
       "      <td>0.0</td>\n",
       "    </tr>\n",
       "    <tr>\n",
       "      <th>5391</th>\n",
       "      <td>0.0</td>\n",
       "    </tr>\n",
       "    <tr>\n",
       "      <th>5392</th>\n",
       "      <td>0.0</td>\n",
       "    </tr>\n",
       "    <tr>\n",
       "      <th>5393</th>\n",
       "      <td>0.0</td>\n",
       "    </tr>\n",
       "  </tbody>\n",
       "</table>\n",
       "<p>5394 rows × 1 columns</p>\n",
       "</div>"
      ],
      "text/plain": [
       "      Model Prediction\n",
       "0                  0.0\n",
       "1                  0.0\n",
       "2                  0.0\n",
       "3                  0.0\n",
       "4                  0.0\n",
       "...                ...\n",
       "5389               0.0\n",
       "5390               0.0\n",
       "5391               0.0\n",
       "5392               0.0\n",
       "5393               0.0\n",
       "\n",
       "[5394 rows x 1 columns]"
      ]
     },
     "metadata": {},
     "output_type": "display_data"
    },
    {
     "name": "stdout",
     "output_type": "stream",
     "text": [
      "Accuracy: 0.6909529106414535\n",
      "Precision: 0.6832048107896046\n",
      "Recall: 0.6909529106414535\n",
      "Cross Validation prediction error for liblinear solver with a l2 penalty is 0.7716970106225489\n"
     ]
    }
   ],
   "source": [
    "#Logistic Regression Model 1 (right channel data)\n",
    "\n",
    "#Set Inputs\n",
    "x1=p1_lf.reshape(-1,1) #left channel\n",
    "x2=p1_rf.reshape(-1,1) #right channel\n",
    "\n",
    "#Make the Model\n",
    "model_r = LogisticRegression(solver='liblinear',random_state=0)\n",
    "\n",
    "#Fit the Model\n",
    "model_r.fit(x2,blocks) #Blocks is y_train\n",
    "\n",
    "#Model Attributes\n",
    "print(\"Our Labels Are:\",model_r.classes_)\n",
    "print(\"Our Models Intercept is:\", model_r.intercept_)\n",
    "print(\"Our Models Coefficients are:\",model_r.coef_)\n",
    "\n",
    "#Evaluate Model's Performance on Test Dataset\n",
    "display(pd.DataFrame(model_r.predict_proba(p_test_r.reshape(-1,1)),columns=['Right Tap(0) ','Left Tap(1)']))\n",
    "display(pd.DataFrame(model_r.predict(p_test_r.reshape(-1,1)),columns=['Model Prediction']))\n",
    "y_pred=model_r.predict(p_test_r.reshape(-1,1)) #Predict tapping for test dataset\n",
    "print(\"Accuracy:\",accuracy_score(y_test, y_pred)) #Accuracy on Completely New Dataset\n",
    "print(\"Precision:\",precision_score(y_test, y_pred,average='weighted'))\n",
    "print(\"Recall:\",recall_score(y_test, y_pred,average='weighted'))\n",
    "\n",
    "#Cross Validation Score for l1 Penalty\n",
    "scores = cross_val_score(model_r,x2,blocks,cv=20)\n",
    "print(\"Cross Validation prediction error for liblinear solver with a l2 penalty is\",scores.mean())"
   ]
  },
  {
   "cell_type": "code",
   "execution_count": 76,
   "id": "84b26080",
   "metadata": {
    "scrolled": true
   },
   "outputs": [
    {
     "data": {
      "image/png": "[encoded data removed]",
      "text/plain": [
       "<Figure size 576x576 with 1 Axes>"
      ]
     },
     "metadata": {
      "needs_background": "light"
     },
     "output_type": "display_data"
    }
   ],
   "source": [
    "#More Evaluation Metrics\n",
    "cm = confusion_matrix(y_test,y_pred)\n",
    "\n",
    "fig, ax = plt.subplots(figsize=(8, 8))\n",
    "ax.imshow(cm)\n",
    "ax.grid(False)\n",
    "ax.xaxis.set(ticks=(0, 1), ticklabels=('Predicted 0s', 'Predicted 1s'))\n",
    "ax.yaxis.set(ticks=(0, 1), ticklabels=('Actual 0s', 'Actual 1s'))\n",
    "ax.set_ylim(1.5, -0.5)\n",
    "for i in range(2):\n",
    "    for j in range(2):\n",
    "        ax.text(j, i, cm[i, j], ha='center', va='center', color='red')\n",
    "plt.show()"
   ]
  },
  {
   "cell_type": "markdown",
   "id": "6ba62f68",
   "metadata": {},
   "source": [
    "## Hyperparameter Tuning Using Cross Validation"
   ]
  },
  {
   "cell_type": "code",
   "execution_count": 78,
   "id": "c4b900a4",
   "metadata": {},
   "outputs": [
    {
     "name": "stdout",
     "output_type": "stream",
     "text": [
      "Accuracy for liblinear solver with a l1 penalty is: 0.7716960749009723\n",
      "Precision for liblinear solver with a l1 penalty is: 0.595514832017567\n",
      "Recall for liblinear solver with a l1 penalty is: 0.7716960749009723\n",
      "Accuracy for saga solver with a elasticnet penalty is: 0.7716960749009723\n",
      "Precision for saga solver with a elasticnet penalty is: 0.595514832017567\n",
      "Recall for saga solver with a elasticnet penalty is: 0.7716960749009723\n"
     ]
    }
   ],
   "source": [
    "# Regularization penalty optimization\n",
    "p=np.array(['l1','elasticnet']) #penalty array\n",
    "s=np.array(['liblinear','saga']) #solver array\n",
    "r=np.array([None,0.8])\n",
    "\n",
    "for i in range(2):\n",
    "    skf = StratifiedKFold(n_splits=20, shuffle=True, random_state=1,)\n",
    "    y_true, y_pred = np.zeros(5554), np.zeros(5554)\n",
    "\n",
    "    for train_index, test_index in skf.split(x2,blocks):\n",
    "        X_train, X_test = x2[train_index], x2[test_index]\n",
    "        y_train, y_test = blocks[train_index], blocks[test_index]\n",
    "     \n",
    "        #Create Linear Regression model with varying solver and associated penalty\n",
    "        model_r = LogisticRegression(penalty=p[i],solver=s[i],l1_ratio=r[i],random_state=0)\n",
    "\n",
    "        #Fit the Model to training set\n",
    "        model_r.fit(x2[train_index],blocks[train_index]) #Blocks is y_train\n",
    "\n",
    "        #Predict Tapping \n",
    "        pred=model_r.predict(x2[test_index]) \n",
    "    \n",
    "        #Store predicted vs true values\n",
    "        y_true[test_index]=y_test\n",
    "        y_pred[test_index]=pred #Storing our tapping predictions\n",
    "    \n",
    "    print(\"Accuracy for\", s[i],\"solver with a\",p[i],\"penalty is:\",accuracy_score(y_true, y_pred))\n",
    "    print(\"Precision for\",s[i],\"solver with a\",p[i],\"penalty is:\",precision_score(y_true, y_pred,average='weighted'))\n",
    "    print(\"Recall for\", s[i],\"solver with a\",p[i],\"penalty is:\", recall_score(y_true, y_pred,average='weighted'))"
   ]
  },
  {
   "cell_type": "code",
   "execution_count": 79,
   "id": "c6406181",
   "metadata": {},
   "outputs": [
    {
     "name": "stdout",
     "output_type": "stream",
     "text": [
      "Accuracy Value for liblinear solver with a l1 penalty is 0.7716970106225489\n",
      "Accuracy Value for saga solver with a elasticnet penalty is 0.7716970106225489\n"
     ]
    }
   ],
   "source": [
    "# Regularization penalty optimization\n",
    "\n",
    "#Easier Way to Perform Cross Validation\n",
    "from sklearn.model_selection import cross_val_score\n",
    "for i in range(2):\n",
    "    clf = LogisticRegression(penalty=p[i],solver=s[i],l1_ratio=r[i],random_state=0)\n",
    "    scores = cross_val_score(clf, x2,blocks , cv=20)\n",
    "    print(\"Accuracy Value for\", s[i],\"solver with a\",p[i],\"penalty is\",scores.mean())"
   ]
  },
  {
   "cell_type": "markdown",
   "id": "5504c9c6",
   "metadata": {},
   "source": [
    "No significant change in accuracy was observed when we changed the regularization penalty from l2 (defualt) to l1 and elasticnet. "
   ]
  },
  {
   "cell_type": "code",
   "execution_count": 80,
   "id": "2e1e3094",
   "metadata": {},
   "outputs": [
    {
     "data": {
      "text/plain": [
       "<matplotlib.legend.Legend at 0x7fe6dc82e5e0>"
      ]
     },
     "execution_count": 80,
     "metadata": {},
     "output_type": "execute_result"
    },
    {
     "data": {
      "image/png": "[encoded data removed]",
      "text/plain": [
       "<Figure size 432x288 with 1 Axes>"
      ]
     },
     "metadata": {
      "needs_background": "light"
     },
     "output_type": "display_data"
    }
   ],
   "source": [
    "# C parameter optimization\n",
    "c=np.logspace(-3,0,num=20)\n",
    "ac=np.empty(20)\n",
    "\n",
    "for i in range(20):\n",
    "    clf = LogisticRegression(solver='liblinear',C=c[i],random_state=0)\n",
    "    score = cross_val_score(clf, x2,blocks , cv=20)\n",
    "    ac[i]=score.mean()\n",
    "#Plot Accuracy as a Function of Varying C values\n",
    "plt.plot(c,ac,'r-',label=\"Q2Y\")\n",
    "#plt.plot(a,p,'b-',label=\"R2Y\")\n",
    "plt.xlabel(\"C Value\")\n",
    "plt.ylabel(\"Prediction Accuracy\")\n",
    "plt.title(\"Effects of Varying Gamma on Model's Prediction Accuracy\")\n",
    "plt.legend()"
   ]
  },
  {
   "cell_type": "markdown",
   "id": "381b3d08",
   "metadata": {},
   "source": [
    "We observe that there is no effect of varying C value on the model's ability to predict."
   ]
  },
  {
   "cell_type": "markdown",
   "id": "8426a2d8",
   "metadata": {},
   "source": [
    "https://realpython.com/logistic-regression-python/"
   ]
  },
  {
   "cell_type": "markdown",
   "id": "a71ec3e1",
   "metadata": {},
   "source": [
    "## Logistic Regression Model Trained on All Channels"
   ]
  },
  {
   "cell_type": "markdown",
   "id": "1838b7e5",
   "metadata": {},
   "source": [
    "#### Souli's code"
   ]
  },
  {
   "cell_type": "code",
   "execution_count": 82,
   "id": "3f0db842",
   "metadata": {},
   "outputs": [
    {
     "data": {
      "image/png": "[encoded data removed]",
      "text/plain": [
       "<Figure size 576x576 with 1 Axes>"
      ]
     },
     "metadata": {
      "needs_background": "light"
     },
     "output_type": "display_data"
    },
    {
     "name": "stdout",
     "output_type": "stream",
     "text": [
      "Our logistic regression model's accuracy for Patient 1 Run 1 is 0.5152640264026402.\n",
      "Our logistic regression model's mean accuracy is 0.5717783899602081.\n"
     ]
    }
   ],
   "source": [
    "#Patient 1 Run 1\n",
    "#10-Fold Cross Validation\n",
    "CV_predicted_Y_array_reg = []\n",
    "Y_test_array_reg = []\n",
    "\n",
    "kf = KFold(n_splits=10)\n",
    "for train_index, test_index in kf.split(filt_right_left_data.T):\n",
    "    X_train, X_test = filt_right_left_data.T[train_index], filt_right_left_data.T[test_index]\n",
    "    Y_train, Y_test = filt_right_left_labels[train_index], filt_right_left_labels[test_index]\n",
    "    Y_test_array_reg.append(Y_test)\n",
    "    reg = LogisticRegression(solver='liblinear',random_state=0)\n",
    "    reg.fit(X_train, Y_train)\n",
    "    CV_predicted_Y_array_reg.append(reg.predict(X_test))\n",
    "    \n",
    "Y_test_total_reg=[]\n",
    "\n",
    "for i in range(len(Y_test_array_reg)):\n",
    "    for s in range(len(Y_test_array_reg[i])):\n",
    "        Y_test_total_reg.append(Y_test_array_reg[i][s])\n",
    "        \n",
    "CV_predicted_Y_total_reg=[]\n",
    "\n",
    "for i in range(len(CV_predicted_Y_array_reg)):\n",
    "    for s in range(len(CV_predicted_Y_array_reg[i])):\n",
    "        CV_predicted_Y_total_reg.append(CV_predicted_Y_array_reg[i][s])\n",
    "                \n",
    "#Confusion Matrix\n",
    "cm = confusion_matrix(Y_test_total_reg,CV_predicted_Y_total_reg)\n",
    "\n",
    "fig, ax = plt.subplots(figsize=(8, 8))\n",
    "ax.imshow(cm)\n",
    "ax.grid(False)\n",
    "ax.xaxis.set(ticks=(0, 1), ticklabels=('Predicted 0s', 'Predicted 1s'))\n",
    "ax.yaxis.set(ticks=(0, 1), ticklabels=('Actual 0s', 'Actual 1s'))\n",
    "ax.set_ylim(1.5, -0.5)\n",
    "for i in range(2):\n",
    "    for j in range(2):\n",
    "        ax.text(j, i, cm[i, j], ha='center', va='center', color='red')\n",
    "plt.show()\n",
    "\n",
    "print(\"Our logistic regression model's accuracy for Patient 1 Run 1 is \" + str(accuracy_score(Y_test_total_reg,CV_predicted_Y_total_reg)) + \".\")\n",
    "CV_accuracy_reg=cross_val_score(SVC(kernel='rbf'), filt_right_left_data.T, filt_right_left_labels, cv=10).mean()\n",
    "print(\"Our logistic regression model's mean accuracy is \" + str(CV_accuracy_reg) + \".\")"
   ]
  },
  {
   "cell_type": "code",
   "execution_count": 85,
   "id": "9dc2a3c8",
   "metadata": {},
   "outputs": [
    {
     "data": {
      "image/png": "[encoded data removed]",
      "text/plain": [
       "<Figure size 576x576 with 1 Axes>"
      ]
     },
     "metadata": {
      "needs_background": "light"
     },
     "output_type": "display_data"
    },
    {
     "name": "stdout",
     "output_type": "stream",
     "text": [
      "Our logistic regression model's accuracy for Patient 1 Run 2 is 0.5542938254080908.\n",
      "Our logistic regression model's mean accuracy is 0.6210633250044167.\n"
     ]
    }
   ],
   "source": [
    "#Patient 1 Run 1\n",
    "#10-Fold Cross Validation\n",
    "CV_predicted_Y_array_reg_1 = []\n",
    "Y_test_array_reg_1 = []\n",
    "\n",
    "kf = KFold(n_splits=10)\n",
    "for train_index, test_index in kf.split(filt_right_left_data_1.T):\n",
    "    X_train, X_test = filt_right_left_data_1.T[train_index], filt_right_left_data_1.T[test_index]\n",
    "    Y_train, Y_test = filt_right_left_labels_1[train_index], filt_right_left_labels_1[test_index]\n",
    "    Y_test_array_reg_1.append(Y_test)\n",
    "    reg = LogisticRegression(solver='liblinear',random_state=0)\n",
    "    reg.fit(X_train, Y_train)\n",
    "    CV_predicted_Y_array_reg_1.append(reg.predict(X_test))\n",
    "    \n",
    "Y_test_total_reg_1=[]\n",
    "\n",
    "for i in range(len(Y_test_array_reg_1)):\n",
    "    for s in range(len(Y_test_array_reg_1[i])):\n",
    "        Y_test_total_reg_1.append(Y_test_array_reg_1[i][s])\n",
    "        \n",
    "CV_predicted_Y_total_reg_1=[]\n",
    "\n",
    "for i in range(len(CV_predicted_Y_array_reg_1)):\n",
    "    for s in range(len(CV_predicted_Y_array_reg_1[i])):\n",
    "        CV_predicted_Y_total_reg_1.append(CV_predicted_Y_array_reg_1[i][s])\n",
    "                \n",
    "#SVM Confusion Matrix\n",
    "cm = confusion_matrix(Y_test_total_reg_1,CV_predicted_Y_total_reg_1)\n",
    "\n",
    "fig, ax = plt.subplots(figsize=(8, 8))\n",
    "ax.imshow(cm)\n",
    "ax.grid(False)\n",
    "ax.xaxis.set(ticks=(0, 1), ticklabels=('Predicted 0s', 'Predicted 1s'))\n",
    "ax.yaxis.set(ticks=(0, 1), ticklabels=('Actual 0s', 'Actual 1s'))\n",
    "ax.set_ylim(1.5, -0.5)\n",
    "for i in range(2):\n",
    "    for j in range(2):\n",
    "        ax.text(j, i, cm[i, j], ha='center', va='center', color='red')\n",
    "plt.show()\n",
    "\n",
    "print(\"Our logistic regression model's accuracy for Patient 1 Run 2 is \" + str(accuracy_score(Y_test_total_reg_1,CV_predicted_Y_total_reg_1)) + \".\")\n",
    "CV_accuracy_reg_1=cross_val_score(SVC(kernel='rbf'), filt_right_left_data_1.T, filt_right_left_labels_1, cv=10).mean()\n",
    "print(\"Our logistic regression model's mean accuracy is \" + str(CV_accuracy_reg_1) + \".\")"
   ]
  },
  {
   "cell_type": "code",
   "execution_count": 86,
   "id": "8c7b671d",
   "metadata": {},
   "outputs": [
    {
     "data": {
      "image/png": "[encoded data removed]",
      "text/plain": [
       "<Figure size 576x576 with 1 Axes>"
      ]
     },
     "metadata": {
      "needs_background": "light"
     },
     "output_type": "display_data"
    },
    {
     "name": "stdout",
     "output_type": "stream",
     "text": [
      "Our logistic regression model's accuracy for patient 2 is 0.6204925241864556.\n",
      "Our logistic regression model's mean accuracy is 0.6969549424221346.\n"
     ]
    }
   ],
   "source": [
    "#Patient 2\n",
    "#10-Fold Cross Validation\n",
    "CV_predicted_Y_array_reg_2 = []\n",
    "Y_test_array_reg_2 = []\n",
    "\n",
    "kf = KFold(n_splits=10)\n",
    "for train_index, test_index in kf.split(filt_right_left_data_2.T):\n",
    "    X_train, X_test = filt_right_left_data_2.T[train_index], filt_right_left_data_2.T[test_index]\n",
    "    Y_train, Y_test = filt_right_left_labels_2[train_index], filt_right_left_labels_2[test_index]\n",
    "    Y_test_array_reg_2.append(Y_test)\n",
    "    reg = LogisticRegression(solver='liblinear',random_state=0)\n",
    "    reg.fit(X_train, Y_train)\n",
    "    CV_predicted_Y_array_reg_2.append(reg.predict(X_test))\n",
    "    \n",
    "Y_test_total_reg_2=[]\n",
    "\n",
    "for i in range(len(Y_test_array_reg_2)):\n",
    "    for s in range(len(Y_test_array_reg_2[i])):\n",
    "        Y_test_total_reg_2.append(Y_test_array_reg_2[i][s])\n",
    "        \n",
    "CV_predicted_Y_total_reg_2=[]\n",
    "\n",
    "for i in range(len(CV_predicted_Y_array_reg_2)):\n",
    "    for s in range(len(CV_predicted_Y_array_reg_2[i])):\n",
    "        CV_predicted_Y_total_reg_2.append(CV_predicted_Y_array_reg_2[i][s])\n",
    "                \n",
    "#SVM Confusion Matrix\n",
    "cm = confusion_matrix(Y_test_total_reg_2,CV_predicted_Y_total_reg_2)\n",
    "\n",
    "fig, ax = plt.subplots(figsize=(8, 8))\n",
    "ax.imshow(cm)\n",
    "ax.grid(False)\n",
    "ax.xaxis.set(ticks=(0, 1), ticklabels=('Predicted 0s', 'Predicted 1s'))\n",
    "ax.yaxis.set(ticks=(0, 1), ticklabels=('Actual 0s', 'Actual 1s'))\n",
    "ax.set_ylim(1.5, -0.5)\n",
    "for i in range(2):\n",
    "    for j in range(2):\n",
    "        ax.text(j, i, cm[i, j], ha='center', va='center', color='red')\n",
    "plt.show()\n",
    "\n",
    "print(\"Our logistic regression model's accuracy for patient 2 is \" + str(accuracy_score(Y_test_total_reg_2,CV_predicted_Y_total_reg_2)) + \".\")\n",
    "CV_accuracy_reg_2=cross_val_score(SVC(kernel='rbf'), filt_right_left_data_2.T, filt_right_left_labels_2, cv=10).mean()\n",
    "print(\"Our logistic regression model's mean accuracy is \" + str(CV_accuracy_reg_2) + \".\")"
   ]
  },
  {
   "cell_type": "markdown",
   "id": "5042559d",
   "metadata": {},
   "source": [
    "## PLS-DA Model"
   ]
  },
  {
   "cell_type": "code",
   "execution_count": 88,
   "id": "362963eb",
   "metadata": {},
   "outputs": [
    {
     "data": {
      "image/png": "[encoded data removed]",
      "text/plain": [
       "<Figure size 576x576 with 1 Axes>"
      ]
     },
     "metadata": {
      "needs_background": "light"
     },
     "output_type": "display_data"
    },
    {
     "name": "stdout",
     "output_type": "stream",
     "text": [
      "Our PLSR model's accuracy for patient 1 run 1 is 0.4884488448844885.\n",
      "Our PLSR model's mean accuracy is -0.6450198726183843.\n"
     ]
    }
   ],
   "source": [
    "#Patient 1 Run 1\n",
    "#10-Fold Cross Validation\n",
    "CV_predicted_Y_array_plsr = []\n",
    "Y_test_array_plsr = []\n",
    "\n",
    "kf = KFold(n_splits=10)\n",
    "for train_index, test_index in kf.split(filt_right_left_data.T):\n",
    "    X_train, X_test = filt_right_left_data.T[train_index], filt_right_left_data.T[test_index]\n",
    "    Y_train, Y_test = filt_right_left_labels[train_index], filt_right_left_labels[test_index]\n",
    "    Y_test_array_plsr.append(Y_test)\n",
    "    plsr=PLSRegression(n_components=2)\n",
    "    plsr.fit(X_train, Y_train)\n",
    "    CV_predicted_Y_array_plsr.append(plsr.predict(X_test))\n",
    "    \n",
    "Y_test_total_plsr=[]\n",
    "\n",
    "for i in range(len(Y_test_array_plsr)):\n",
    "    for s in range(len(Y_test_array_plsr[i])):\n",
    "        Y_test_total_plsr.append(Y_test_array_plsr[i][s])\n",
    "        \n",
    "CV_predicted_Y_total_plsr=[]\n",
    "\n",
    "for i in range(len(CV_predicted_Y_array_plsr)):\n",
    "    for s in range(len(CV_predicted_Y_array_plsr[i])):\n",
    "        CV_predicted_Y_total_plsr.append(CV_predicted_Y_array_plsr[i][s])\n",
    "        \n",
    "CV_predicted_Y_plsr=[]\n",
    "\n",
    "for i in CV_predicted_Y_total_plsr:\n",
    "    if i>=0.5:\n",
    "        CV_predicted_Y_plsr.append(1)\n",
    "    else:\n",
    "        CV_predicted_Y_plsr.append(0)\n",
    "        \n",
    "assert len(CV_predicted_Y_plsr)==len(CV_predicted_Y_total_plsr)\n",
    "        \n",
    "#PLSR Confusion Matrix\n",
    "cm = confusion_matrix(Y_test_total_plsr,CV_predicted_Y_plsr)\n",
    "\n",
    "fig, ax = plt.subplots(figsize=(8, 8))\n",
    "ax.imshow(cm)\n",
    "ax.grid(False)\n",
    "ax.xaxis.set(ticks=(0, 1), ticklabels=('Predicted 0s', 'Predicted 1s'))\n",
    "ax.yaxis.set(ticks=(0, 1), ticklabels=('Actual 0s', 'Actual 1s'))\n",
    "ax.set_ylim(1.5, -0.5)\n",
    "for i in range(2):\n",
    "    for j in range(2):\n",
    "        ax.text(j, i, cm[i, j], ha='center', va='center', color='red')\n",
    "plt.show()\n",
    "\n",
    "print(\"Our PLSR model's accuracy for patient 1 run 1 is \" + str(accuracy_score(Y_test_total_plsr,CV_predicted_Y_plsr)) + \".\")\n",
    "CV_accuracy_plsr=cross_val_score(PLSRegression(n_components=2), filt_right_left_data.T, filt_right_left_labels, cv=10).mean()\n",
    "print(\"Our PLSR model's mean accuracy is \" + str(CV_accuracy_plsr) + \".\")"
   ]
  },
  {
   "cell_type": "code",
   "execution_count": 89,
   "id": "5e0c4206",
   "metadata": {},
   "outputs": [
    {
     "data": {
      "image/png": "[encoded data removed]",
      "text/plain": [
       "<Figure size 576x576 with 1 Axes>"
      ]
     },
     "metadata": {
      "needs_background": "light"
     },
     "output_type": "display_data"
    },
    {
     "name": "stdout",
     "output_type": "stream",
     "text": [
      "Our PLSR model's accuracy for patient 2 is 0.5716820440028388.\n",
      "Our PLSR model's mean accuracy is -0.1946955991562172.\n"
     ]
    }
   ],
   "source": [
    "#Patient 1 Run 2\n",
    "#10-Fold Cross Validation\n",
    "CV_predicted_Y_array_plsr_1 = []\n",
    "Y_test_array_plsr_1 = []\n",
    "\n",
    "kf = KFold(n_splits=10)\n",
    "for train_index, test_index in kf.split(filt_right_left_data_1.T):\n",
    "    X_train, X_test = filt_right_left_data_1.T[train_index], filt_right_left_data_1.T[test_index]\n",
    "    Y_train, Y_test = filt_right_left_labels_1[train_index], filt_right_left_labels_1[test_index]\n",
    "    Y_test_array_plsr_1.append(Y_test)\n",
    "    plsr=PLSRegression(n_components=2)\n",
    "    plsr.fit(X_train, Y_train)\n",
    "    CV_predicted_Y_array_plsr_1.append(plsr.predict(X_test))\n",
    "    \n",
    "Y_test_total_plsr_1=[]\n",
    "\n",
    "for i in range(len(Y_test_array_plsr_1)):\n",
    "    for s in range(len(Y_test_array_plsr_1[i])):\n",
    "        Y_test_total_plsr_1.append(Y_test_array_plsr_1[i][s])\n",
    "        \n",
    "CV_predicted_Y_total_plsr_1=[]\n",
    "\n",
    "for i in range(len(CV_predicted_Y_array_plsr_1)):\n",
    "    for s in range(len(CV_predicted_Y_array_plsr_1[i])):\n",
    "        CV_predicted_Y_total_plsr_1.append(CV_predicted_Y_array_plsr_1[i][s])\n",
    "        \n",
    "CV_predicted_Y_plsr_1=[]\n",
    "\n",
    "for i in CV_predicted_Y_total_plsr_1:\n",
    "    if i>=0.5:\n",
    "        CV_predicted_Y_plsr_1.append(1)\n",
    "    else:\n",
    "        CV_predicted_Y_plsr_1.append(0)\n",
    "        \n",
    "assert len(CV_predicted_Y_plsr_1)==len(CV_predicted_Y_total_plsr_1)\n",
    "        \n",
    "#PLSR Confusion Matrix\n",
    "cm = confusion_matrix(Y_test_total_plsr_1,CV_predicted_Y_plsr_1)\n",
    "\n",
    "fig, ax = plt.subplots(figsize=(8, 8))\n",
    "ax.imshow(cm)\n",
    "ax.grid(False)\n",
    "ax.xaxis.set(ticks=(0, 1), ticklabels=('Predicted 0s', 'Predicted 1s'))\n",
    "ax.yaxis.set(ticks=(0, 1), ticklabels=('Actual 0s', 'Actual 1s'))\n",
    "ax.set_ylim(1.5, -0.5)\n",
    "for i in range(2):\n",
    "    for j in range(2):\n",
    "        ax.text(j, i, cm[i, j], ha='center', va='center', color='red')\n",
    "plt.show()\n",
    "\n",
    "print(\"Our PLSR model's accuracy for patient 1 run 2 is \" + str(accuracy_score(Y_test_total_plsr_1,CV_predicted_Y_plsr_1)) + \".\")\n",
    "CV_accuracy_plsr_1=cross_val_score(PLSRegression(n_components=2), filt_right_left_data_1.T, filt_right_left_labels_1, cv=10).mean()\n",
    "print(\"Our PLSR model's mean accuracy is \" + str(CV_accuracy_plsr_1) + \".\")"
   ]
  },
  {
   "cell_type": "code",
   "execution_count": 90,
   "id": "ae4ea760",
   "metadata": {},
   "outputs": [
    {
     "data": {
      "image/png": "[encoded data removed]",
      "text/plain": [
       "<Figure size 576x576 with 1 Axes>"
      ]
     },
     "metadata": {
      "needs_background": "light"
     },
     "output_type": "display_data"
    },
    {
     "name": "stdout",
     "output_type": "stream",
     "text": [
      "Our PLSR model's accuracy for patient 2 is 0.5919085312225154.\n",
      "Our PLSR model's mean accuracy is -0.0677056743996981.\n"
     ]
    }
   ],
   "source": [
    "#Patient 2\n",
    "#10-Fold Cross Validation\n",
    "CV_predicted_Y_array_plsr_2 = []\n",
    "Y_test_array_plsr_2 = []\n",
    "\n",
    "kf = KFold(n_splits=10)\n",
    "for train_index, test_index in kf.split(filt_right_left_data_2.T):\n",
    "    X_train, X_test = filt_right_left_data_2.T[train_index], filt_right_left_data_2.T[test_index]\n",
    "    Y_train, Y_test = filt_right_left_labels_2[train_index], filt_right_left_labels_2[test_index]\n",
    "    Y_test_array_plsr_2.append(Y_test)\n",
    "    plsr=PLSRegression(n_components=2)\n",
    "    plsr.fit(X_train, Y_train)\n",
    "    CV_predicted_Y_array_plsr_2.append(plsr.predict(X_test))\n",
    "    \n",
    "Y_test_total_plsr_2=[]\n",
    "\n",
    "for i in range(len(Y_test_array_plsr_2)):\n",
    "    for s in range(len(Y_test_array_plsr_2[i])):\n",
    "        Y_test_total_plsr_2.append(Y_test_array_plsr_2[i][s])\n",
    "        \n",
    "CV_predicted_Y_total_plsr_2=[]\n",
    "\n",
    "for i in range(len(CV_predicted_Y_array_plsr_2)):\n",
    "    for s in range(len(CV_predicted_Y_array_plsr_2[i])):\n",
    "        CV_predicted_Y_total_plsr_2.append(CV_predicted_Y_array_plsr_2[i][s])\n",
    "        \n",
    "CV_predicted_Y_plsr_2=[]\n",
    "\n",
    "for i in CV_predicted_Y_total_plsr_2:\n",
    "    if i>=0.5:\n",
    "        CV_predicted_Y_plsr_2.append(1)\n",
    "    else:\n",
    "        CV_predicted_Y_plsr_2.append(0)\n",
    "        \n",
    "assert len(CV_predicted_Y_plsr_2)==len(CV_predicted_Y_total_plsr_2)\n",
    "        \n",
    "#PLSR Confusion Matrix\n",
    "cm = confusion_matrix(Y_test_total_plsr_2,CV_predicted_Y_plsr_2)\n",
    "\n",
    "fig, ax = plt.subplots(figsize=(8, 8))\n",
    "ax.imshow(cm)\n",
    "ax.grid(False)\n",
    "ax.xaxis.set(ticks=(0, 1), ticklabels=('Predicted 0s', 'Predicted 1s'))\n",
    "ax.yaxis.set(ticks=(0, 1), ticklabels=('Actual 0s', 'Actual 1s'))\n",
    "ax.set_ylim(1.5, -0.5)\n",
    "for i in range(2):\n",
    "    for j in range(2):\n",
    "        ax.text(j, i, cm[i, j], ha='center', va='center', color='red')\n",
    "plt.show()\n",
    "\n",
    "print(\"Our PLSR model's accuracy for patient 2 is \" + str(accuracy_score(Y_test_total_plsr_2,CV_predicted_Y_plsr_2)) + \".\")\n",
    "CV_accuracy_plsr_2=cross_val_score(PLSRegression(n_components=2), filt_right_left_data_2.T, filt_right_left_labels_2, cv=10).mean()\n",
    "print(\"Our PLSR model's mean accuracy is \" + str(CV_accuracy_plsr_2) + \".\")"
   ]
  },
  {
   "cell_type": "markdown",
   "id": "57a91b32",
   "metadata": {},
   "source": [
    "## SVM Model"
   ]
  },
  {
   "cell_type": "code",
   "execution_count": 92,
   "id": "9c1ec40b",
   "metadata": {},
   "outputs": [
    {
     "data": {
      "image/png": "[encoded data removed]",
      "text/plain": [
       "<Figure size 576x576 with 1 Axes>"
      ]
     },
     "metadata": {
      "needs_background": "light"
     },
     "output_type": "display_data"
    },
    {
     "name": "stdout",
     "output_type": "stream",
     "text": [
      "Our SVM rbf model's accuracy for patient 1 run 1 is 0.5577557755775577.\n",
      "Our SVM linear model's mean accuracy is 0.5717783899602081.\n"
     ]
    }
   ],
   "source": [
    "#Patient 1 Run 1\n",
    "#10-Fold Cross Validation\n",
    "CV_predicted_Y_array_svm = []\n",
    "Y_test_array_svm = []\n",
    "\n",
    "kf = KFold(n_splits=10)\n",
    "for train_index, test_index in kf.split(filt_right_left_data.T):\n",
    "    X_train, X_test = filt_right_left_data.T[train_index], filt_right_left_data.T[test_index]\n",
    "    Y_train, Y_test = filt_right_left_labels[train_index], filt_right_left_labels[test_index]\n",
    "    Y_test_array_svm.append(Y_test)\n",
    "    svm=SVC(kernel='rbf')\n",
    "    svm.fit(X_train, Y_train)\n",
    "    CV_predicted_Y_array_svm.append(svm.predict(X_test))\n",
    "    \n",
    "Y_test_total_svm=[]\n",
    "\n",
    "for i in range(len(Y_test_array_svm)):\n",
    "    for s in range(len(Y_test_array_svm[i])):\n",
    "        Y_test_total_svm.append(Y_test_array_svm[i][s])\n",
    "        \n",
    "CV_predicted_Y_total_svm=[]\n",
    "\n",
    "for i in range(len(CV_predicted_Y_array_svm)):\n",
    "    for s in range(len(CV_predicted_Y_array_svm[i])):\n",
    "        CV_predicted_Y_total_svm.append(CV_predicted_Y_array_svm[i][s])\n",
    "                \n",
    "#SVM Confusion Matrix\n",
    "cm = confusion_matrix(Y_test_total_svm,CV_predicted_Y_total_svm)\n",
    "\n",
    "fig, ax = plt.subplots(figsize=(8, 8))\n",
    "ax.imshow(cm)\n",
    "ax.grid(False)\n",
    "ax.xaxis.set(ticks=(0, 1), ticklabels=('Predicted 0s', 'Predicted 1s'))\n",
    "ax.yaxis.set(ticks=(0, 1), ticklabels=('Actual 0s', 'Actual 1s'))\n",
    "ax.set_ylim(1.5, -0.5)\n",
    "for i in range(2):\n",
    "    for j in range(2):\n",
    "        ax.text(j, i, cm[i, j], ha='center', va='center', color='red')\n",
    "plt.show()\n",
    "\n",
    "print(\"Our SVM rbf model's accuracy for patient 1 run 1 is \" + str(accuracy_score(Y_test_total_svm,CV_predicted_Y_total_svm)) + \".\")\n",
    "CV_accuracy_svm=cross_val_score(SVC(kernel='rbf'), filt_right_left_data.T, filt_right_left_labels, cv=10).mean()\n",
    "print(\"Our SVM linear model's mean accuracy is \" + str(CV_accuracy_svm) + \".\")"
   ]
  },
  {
   "cell_type": "code",
   "execution_count": 93,
   "id": "b746049b",
   "metadata": {},
   "outputs": [
    {
     "data": {
      "image/png": "[encoded data removed]",
      "text/plain": [
       "<Figure size 576x576 with 1 Axes>"
      ]
     },
     "metadata": {
      "needs_background": "light"
     },
     "output_type": "display_data"
    },
    {
     "name": "stdout",
     "output_type": "stream",
     "text": [
      "Our SVM rbf model's accuracy for patient 1 run 2 is 0.6980127750177431.\n",
      "Our SVM linear model's mean accuracy is 0.6210633250044167.\n"
     ]
    }
   ],
   "source": [
    "#Patient 1 Run 2\n",
    "#10-Fold Cross Validation\n",
    "CV_predicted_Y_array_svm_1 = []\n",
    "Y_test_array_svm_1 = []\n",
    "\n",
    "kf = KFold(n_splits=10)\n",
    "for train_index, test_index in kf.split(filt_right_left_data_1.T):\n",
    "    X_train, X_test = filt_right_left_data_1.T[train_index], filt_right_left_data_1.T[test_index]\n",
    "    Y_train, Y_test = filt_right_left_labels_1[train_index], filt_right_left_labels_1[test_index]\n",
    "    Y_test_array_svm_1.append(Y_test)\n",
    "    svm=SVC(kernel='rbf')\n",
    "    svm.fit(X_train, Y_train)\n",
    "    CV_predicted_Y_array_svm_1.append(svm.predict(X_test))\n",
    "    \n",
    "Y_test_total_svm_1=[]\n",
    "\n",
    "for i in range(len(Y_test_array_svm_1)):\n",
    "    for s in range(len(Y_test_array_svm_1[i])):\n",
    "        Y_test_total_svm_1.append(Y_test_array_svm_1[i][s])\n",
    "        \n",
    "CV_predicted_Y_total_svm_1=[]\n",
    "\n",
    "for i in range(len(CV_predicted_Y_array_svm_1)):\n",
    "    for s in range(len(CV_predicted_Y_array_svm_1[i])):\n",
    "        CV_predicted_Y_total_svm_1.append(CV_predicted_Y_array_svm_1[i][s])\n",
    "                \n",
    "#SVM Confusion Matrix\n",
    "cm = confusion_matrix(Y_test_total_svm_1,CV_predicted_Y_total_svm_1)\n",
    "\n",
    "fig, ax = plt.subplots(figsize=(8, 8))\n",
    "ax.imshow(cm)\n",
    "ax.grid(False)\n",
    "ax.xaxis.set(ticks=(0, 1), ticklabels=('Predicted 0s', 'Predicted 1s'))\n",
    "ax.yaxis.set(ticks=(0, 1), ticklabels=('Actual 0s', 'Actual 1s'))\n",
    "ax.set_ylim(1.5, -0.5)\n",
    "for i in range(2):\n",
    "    for j in range(2):\n",
    "        ax.text(j, i, cm[i, j], ha='center', va='center', color='red')\n",
    "plt.show()\n",
    "\n",
    "print(\"Our SVM rbf model's accuracy for patient 1 run 2 is \" + str(accuracy_score(Y_test_total_svm_1,CV_predicted_Y_total_svm_1)) + \".\")\n",
    "CV_accuracy_svm_1=cross_val_score(SVC(kernel='rbf'), filt_right_left_data_1.T, filt_right_left_labels_1, cv=10).mean()\n",
    "print(\"Our SVM linear model's mean accuracy is \" + str(CV_accuracy_svm_1) + \".\")"
   ]
  },
  {
   "cell_type": "code",
   "execution_count": 94,
   "id": "fa3fa737",
   "metadata": {},
   "outputs": [
    {
     "data": {
      "image/png": "[encoded data removed]",
      "text/plain": [
       "<Figure size 576x576 with 1 Axes>"
      ]
     },
     "metadata": {
      "needs_background": "light"
     },
     "output_type": "display_data"
    },
    {
     "name": "stdout",
     "output_type": "stream",
     "text": [
      "Our SVM rbf model's accuracy for patient 2 is 0.6816182937554969.\n",
      "Our SVM linear model's mean accuracy is 0.6969549424221346.\n"
     ]
    }
   ],
   "source": [
    "#Patient 2\n",
    "#10-Fold Cross Validation\n",
    "CV_predicted_Y_array_svm_2 = []\n",
    "Y_test_array_svm_2 = []\n",
    "\n",
    "kf = KFold(n_splits=10)\n",
    "for train_index, test_index in kf.split(filt_right_left_data_2.T):\n",
    "    X_train, X_test = filt_right_left_data_2.T[train_index], filt_right_left_data_2.T[test_index]\n",
    "    Y_train, Y_test = filt_right_left_labels_2[train_index], filt_right_left_labels_2[test_index]\n",
    "    Y_test_array_svm_2.append(Y_test)\n",
    "    svm=SVC(kernel='rbf')\n",
    "    svm.fit(X_train, Y_train)\n",
    "    CV_predicted_Y_array_svm_2.append(svm.predict(X_test))\n",
    "    \n",
    "Y_test_total_svm_2=[]\n",
    "\n",
    "for i in range(len(Y_test_array_svm_2)):\n",
    "    for s in range(len(Y_test_array_svm_2[i])):\n",
    "        Y_test_total_svm_2.append(Y_test_array_svm_2[i][s])\n",
    "        \n",
    "CV_predicted_Y_total_svm_2=[]\n",
    "\n",
    "for i in range(len(CV_predicted_Y_array_svm_2)):\n",
    "    for s in range(len(CV_predicted_Y_array_svm_2[i])):\n",
    "        CV_predicted_Y_total_svm_2.append(CV_predicted_Y_array_svm_2[i][s])\n",
    "                \n",
    "#SVM Confusion Matrix\n",
    "cm = confusion_matrix(Y_test_total_svm_2,CV_predicted_Y_total_svm_2)\n",
    "\n",
    "fig, ax = plt.subplots(figsize=(8, 8))\n",
    "ax.imshow(cm)\n",
    "ax.grid(False)\n",
    "ax.xaxis.set(ticks=(0, 1), ticklabels=('Predicted 0s', 'Predicted 1s'))\n",
    "ax.yaxis.set(ticks=(0, 1), ticklabels=('Actual 0s', 'Actual 1s'))\n",
    "ax.set_ylim(1.5, -0.5)\n",
    "for i in range(2):\n",
    "    for j in range(2):\n",
    "        ax.text(j, i, cm[i, j], ha='center', va='center', color='red')\n",
    "plt.show()\n",
    "\n",
    "print(\"Our SVM rbf model's accuracy for patient 2 is \" + str(accuracy_score(Y_test_total_svm_2,CV_predicted_Y_total_svm_2)) + \".\")\n",
    "CV_accuracy_svm_2=cross_val_score(SVC(kernel='rbf'), filt_right_left_data_2.T, filt_right_left_labels_2, cv=10).mean()\n",
    "print(\"Our SVM linear model's mean accuracy is \" + str(CV_accuracy_svm_2) + \".\")"
   ]
  },
  {
   "cell_type": "markdown",
   "id": "beb1112d",
   "metadata": {},
   "source": [
    "### Hyperparameter Tuning for SVM Model"
   ]
  },
  {
   "cell_type": "markdown",
   "id": "b0a91f42",
   "metadata": {},
   "source": [
    "#### Since our SVM model showed the highest prediction accuracy, we tried to tune some hyperparameters to improve it."
   ]
  },
  {
   "cell_type": "code",
   "execution_count": 96,
   "id": "7384a7fa",
   "metadata": {},
   "outputs": [
    {
     "name": "stdout",
     "output_type": "stream",
     "text": [
      "(2818, 2390)\n",
      "(2818,)\n"
     ]
    }
   ],
   "source": [
    "print(filt_right_left_data_1.T.shape)\n",
    "print(filt_right_left_labels_1.shape)"
   ]
  },
  {
   "cell_type": "code",
   "execution_count": 103,
   "id": "649e2f99",
   "metadata": {},
   "outputs": [
    {
     "name": "stdout",
     "output_type": "stream",
     "text": [
      "Q2Y Value for C = 0.001 is 0.5564229950319376\n",
      "Q2Y Value for C = 0.00206913808111479 is 0.5564229950319376\n",
      "Q2Y Value for C = 0.004281332398719396 is 0.5564229950319376\n",
      "Q2Y Value for C = 0.008858667904100823 is 0.602555003548616\n",
      "Q2Y Value for C = 0.018329807108324356 is 0.5943931866572036\n",
      "Q2Y Value for C = 0.0379269019073225 is 0.5943931866572036\n",
      "Q2Y Value for C = 0.07847599703514611 is 0.5943931866572036\n",
      "Q2Y Value for C = 0.1623776739188721 is 0.5943931866572036\n",
      "Q2Y Value for C = 0.3359818286283781 is 0.5943931866572036\n",
      "Q2Y Value for C = 0.6951927961775606 is 0.5943931866572036\n",
      "Q2Y Value for C = 1.438449888287663 is 0.5943931866572036\n",
      "Q2Y Value for C = 2.976351441631316 is 0.5943931866572036\n",
      "Q2Y Value for C = 6.158482110660261 is 0.5943931866572036\n",
      "Q2Y Value for C = 12.742749857031322 is 0.5943931866572036\n",
      "Q2Y Value for C = 26.366508987303554 is 0.5943931866572036\n",
      "Q2Y Value for C = 54.555947811685144 is 0.5943931866572036\n",
      "Q2Y Value for C = 112.88378916846884 is 0.5943931866572036\n",
      "Q2Y Value for C = 233.57214690901213 is 0.5943931866572036\n",
      "Q2Y Value for C = 483.2930238571752 is 0.5943931866572036\n",
      "Q2Y Value for C = 1000.0 is 0.5943931866572036\n"
     ]
    }
   ],
   "source": [
    "# C parameter Tuning\n",
    "\n",
    "#Vary the C hyperparameter from 10^(-3) to 10(^3)\n",
    "a=np.logspace(-3,3,num=20)\n",
    "Q=np.empty(20)#Variable to store my Q2Y values in\n",
    "\n",
    "for i in range(20):\n",
    "    y_true, y_pred = np.zeros(2818), np.zeros(2818)\n",
    "    kf = KFold(n_splits=10)\n",
    "    \n",
    "    for train_index, test_index in kf.split(filt_right_left_data_2.T):\n",
    "        X_train, X_test = filt_right_left_data_2.T[train_index], filt_right_left_data_2.T[test_index]\n",
    "        Y_train, Y_test = filt_right_left_labels_2[train_index], filt_right_left_labels_2[test_index]\n",
    "    \n",
    "        #Create SVM model with RBF kernel\n",
    "        model_SVM_r=SVC(kernel=\"rbf\",C=a[i])\n",
    "\n",
    "        #Fit the model to training set \n",
    "        model_SVM_r.fit(X_train,Y_train)\n",
    "\n",
    "        #Predict Tapping from SVM model\n",
    "        tap_p=model_SVM_r.predict(X_test >= 0.5).astype('uint8') #Binary Cancer predictions\n",
    "    \n",
    "        #Store predicted vs true values\n",
    "        y_true[test_index]=Y_test\n",
    "        y_pred[test_index]=tap_p #Storing our tapping predictions\n",
    "        \n",
    "    Q2Y=accuracy_score(y_pred,y_true)\n",
    "    Q[i]=Q2Y\n",
    "    print(\"Q2Y Value for C =\", a[i],\"is\",Q[i])"
   ]
  },
  {
   "cell_type": "code",
   "execution_count": 104,
   "id": "e6dc7b01",
   "metadata": {},
   "outputs": [
    {
     "data": {
      "text/plain": [
       "Text(0.5, 1.0, \"Effects of Varying C Parameter on SVM Model's Prediction Accuracy\")"
      ]
     },
     "execution_count": 104,
     "metadata": {},
     "output_type": "execute_result"
    },
    {
     "data": {
      "image/png": "[encoded data removed]",
      "text/plain": [
       "<Figure size 432x288 with 1 Axes>"
      ]
     },
     "metadata": {
      "needs_background": "light"
     },
     "output_type": "display_data"
    }
   ],
   "source": [
    "#Plot\n",
    "plt.plot(a,Q)\n",
    "plt.xlabel(\"C Value\")\n",
    "plt.ylabel(\"Prediction Accuracy\")\n",
    "plt.title(\"Effects of Varying C Parameter on SVM Model's Prediction Accuracy\")"
   ]
  },
  {
   "cell_type": "code",
   "execution_count": null,
   "id": "dba2dae0",
   "metadata": {},
   "outputs": [],
   "source": []
  }
 ],
 "metadata": {
  "kernelspec": {
   "display_name": "Python 3",
   "language": "python",
   "name": "python3"
  },
  "language_info": {
   "codemirror_mode": {
    "name": "ipython",
    "version": 3
   },
   "file_extension": ".py",
   "mimetype": "text/x-python",
   "name": "python",
   "nbconvert_exporter": "python",
   "pygments_lexer": "ipython3",
   "version": "3.8.8"
  }
 },
 "nbformat": 4,
 "nbformat_minor": 5
}
