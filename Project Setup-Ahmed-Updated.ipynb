{
 "cells": [
  {
   "cell_type": "code",
   "execution_count": 1,
   "id": "000f8e2f",
   "metadata": {},
   "outputs": [],
   "source": [
    "# Imports\n",
    "from mne.io.snirf import read_raw_snirf\n",
    "import matplotlib.pyplot as plt\n",
    "import pandas as pd\n",
    "import numpy as np\n",
    "from sklearn.linear_model import LogisticRegression\n",
    "from sklearn.metrics import classification_report, confusion_matrix\n",
    "from sklearn.metrics import accuracy_score,precision_score,recall_score\n",
    "from sklearn.model_selection import cross_val_score\n",
    "from sklearn.model_selection import KFold\n",
    "from sklearn.model_selection import StratifiedKFold\n",
    "from sklearn.preprocessing import scale\n",
    "from sklearn.svm import SVC\n",
    "from sklearn.cross_decomposition import PLSRegression\n",
    "from scipy.signal import butter, lfilter, freqz\n",
    "import warnings\n",
    "warnings.filterwarnings('ignore')"
   ]
  },
  {
   "cell_type": "markdown",
   "id": "74011f68",
   "metadata": {},
   "source": [
    "## Loading Data Sets"
   ]
  },
  {
   "cell_type": "code",
   "execution_count": 2,
   "id": "07199052",
   "metadata": {},
   "outputs": [
    {
     "name": "stdout",
     "output_type": "stream",
     "text": [
      "Loading /Users/soulaimanebentaleb/mne-python/f096049-Hb_Moments.snirf\n",
      "Loading /Users/soulaimanebentaleb/mne-python/1745f1d-Hb_Moments.snirf\n",
      "Loading /Users/soulaimanebentaleb/mne-python/157dcb4-Hb_Moments.snirf\n"
     ]
    }
   ],
   "source": [
    "# Reading the data files\n",
    "path_to_snirf = \"f096049-Hb_Moments.snirf\" #Patient 1 Run 1 data\n",
    "path_to_snirf_1 = \"1745f1d-Hb_Moments.snirf\" #Patient 1 Run 2 data\n",
    "path_to_snirf_2 = \"157dcb4-Hb_Moments.snirf\" #Patient 2 data\n",
    "snirf = read_raw_snirf(path_to_snirf)\n",
    "snirf_1 = read_raw_snirf(path_to_snirf_1)\n",
    "snirf_2 = read_raw_snirf(path_to_snirf_2)"
   ]
  },
  {
   "cell_type": "code",
   "execution_count": 3,
   "id": "fbe472ce",
   "metadata": {},
   "outputs": [],
   "source": [
    "# Obtaining NIRS data\n",
    "data = snirf.get_data() #Patient 1 Run 1\n",
    "data_1 = snirf_1.get_data() #Patient 1 Run 2\n",
    "data_2 = snirf_2.get_data() #Patient 2 "
   ]
  },
  {
   "cell_type": "code",
   "execution_count": 4,
   "id": "b8f3dfa0",
   "metadata": {},
   "outputs": [],
   "source": [
    "# Obtaining channels' names and locations\n",
    "channel_names = [x['ch_name'] for x in snirf.info['chs']] #Patient 1 Run 1 channel names\n",
    "channel_names_1 = [x['ch_name'] for x in snirf_1.info['chs']] #Patient 1 Run 2 channel names\n",
    "channel_names_2 = [x['ch_name'] for x in snirf_2.info['chs']] #Patient 2 channel names\n",
    "\n",
    "channel_locations_3d = [x['loc'][:3] for x in snirf.info['chs']] \n",
    "channel_locations_3d_1 = [x['loc'][:3] for x in snirf_1.info['chs']] \n",
    "channel_locations_3d_2 = [x['loc'][:3] for x in snirf_2.info['chs']] \n",
    "\n",
    "assert len(channel_names)==len(channel_locations_3d)"
   ]
  },
  {
   "cell_type": "code",
   "execution_count": 5,
   "id": "5a27210f",
   "metadata": {},
   "outputs": [],
   "source": [
    "#Channel labels array: each element is 'True' if channel is Hbo or 'False' if it is HbR\n",
    "is_hbo = np.array([1 if channel_name.endswith('hbo') else 0 for channel_name in channel_names], dtype=bool)\n",
    "is_hbo_1 = np.array([1 if channel_name_1.endswith('hbo') else 0 for channel_name_1 in channel_names_1], dtype=bool)\n",
    "is_hbo_2 = np.array([1 if channel_name_2.endswith('hbo') else 0 for channel_name_2 in channel_names_2], dtype=bool)"
   ]
  },
  {
   "cell_type": "markdown",
   "id": "9c33b499",
   "metadata": {},
   "source": [
    "Note: Channel endings will either be 'HbO' or 'hbo' depending on dataloading properties."
   ]
  },
  {
   "cell_type": "code",
   "execution_count": 6,
   "id": "43853547",
   "metadata": {},
   "outputs": [
    {
     "name": "stdout",
     "output_type": "stream",
     "text": [
      "For patient 1 run 1, there are 2206 channels. Each channel outputs HbO data (Oxygenated Hemoglobin) and HbR data (Deoxygenated Hemoglobin).\n"
     ]
    }
   ],
   "source": [
    "#Patient 1 Run 1 number of channels\n",
    "print('For patient 1 run 1, there are '+str(len(data[is_hbo, :]))+' channels. Each channel outputs HbO data (Oxygenated Hemoglobin) and HbR data (Deoxygenated Hemoglobin).')"
   ]
  },
  {
   "cell_type": "code",
   "execution_count": 7,
   "id": "a2ff6b5f",
   "metadata": {},
   "outputs": [
    {
     "name": "stdout",
     "output_type": "stream",
     "text": [
      "For patient 1 run 2, there are 2206 channels. Each channel outputs HbO data (Oxygenated Hemoglobin) and HbR data (Deoxygenated Hemoglobin).\n"
     ]
    }
   ],
   "source": [
    "#Patient 1 Run 2 number of channels\n",
    "print('For patient 1 run 2, there are '+str(len(data_1[is_hbo_1, :]))+' channels. Each channel outputs HbO data (Oxygenated Hemoglobin) and HbR data (Deoxygenated Hemoglobin).')"
   ]
  },
  {
   "cell_type": "code",
   "execution_count": 8,
   "id": "d0612bb0",
   "metadata": {},
   "outputs": [
    {
     "name": "stdout",
     "output_type": "stream",
     "text": [
      "For patient 2, there are 2206 channels. Each channel outputs HbO data (Oxygenated Hemoglobin) and HbR data (Deoxygenated Hemoglobin).\n"
     ]
    }
   ],
   "source": [
    "#Patient 2 number of channels\n",
    "print('For patient 2, there are '+str(len(data_2[is_hbo_2, :]))+' channels. Each channel outputs HbO data (Oxygenated Hemoglobin) and HbR data (Deoxygenated Hemoglobin).')"
   ]
  },
  {
   "cell_type": "markdown",
   "id": "a81a7067",
   "metadata": {},
   "source": [
    "## Raw Data Plotting"
   ]
  },
  {
   "cell_type": "code",
   "execution_count": 9,
   "id": "6409c89b",
   "metadata": {},
   "outputs": [
    {
     "data": {
      "image/png": "[encoded data removed]",
      "text/plain": [
       "<Figure size 720x360 with 2 Axes>"
      ]
     },
     "metadata": {
      "needs_background": "light"
     },
     "output_type": "display_data"
    }
   ],
   "source": [
    "# Plotting raw data from patient 1 run 1\n",
    "_, ax = plt.subplots(ncols=2, figsize=(10, 5))\n",
    "ax[0].pcolor(snirf.times, np.arange(np.sum(is_hbo)), data[is_hbo, :], shading='nearest', color='green')\n",
    "ax[0].set_title('HbO')\n",
    "ax[0].set_xlabel('Time [s]')\n",
    "ax[0].set_ylabel('Channel number')\n",
    "ax[1].pcolor(snirf.times, np.arange(np.sum(~is_hbo)), data[~is_hbo, :], shading='nearest', color='darkblue')\n",
    "ax[1].set_title('HbR')\n",
    "ax[1].set_xlabel('Time [s]')\n",
    "plt.show() "
   ]
  },
  {
   "cell_type": "code",
   "execution_count": 10,
   "id": "a4c60849",
   "metadata": {},
   "outputs": [
    {
     "data": {
      "image/png": "[encoded data removed]",
      "text/plain": [
       "<Figure size 720x360 with 2 Axes>"
      ]
     },
     "metadata": {
      "needs_background": "light"
     },
     "output_type": "display_data"
    }
   ],
   "source": [
    "# Plotting raw data from patient 1 run 2\n",
    "_, ax = plt.subplots(ncols=2, figsize=(10, 5))\n",
    "ax[0].pcolor(snirf_1.times, np.arange(np.sum(is_hbo_1)), data_1[is_hbo_1, :], shading='nearest', color='green')\n",
    "ax[0].set_title('HbO')\n",
    "ax[0].set_xlabel('Time [s]')\n",
    "ax[0].set_ylabel('Channel number')\n",
    "ax[1].pcolor(snirf_1.times, np.arange(np.sum(~is_hbo_1)), data_1[~is_hbo_1, :], shading='nearest', color='darkblue')\n",
    "ax[1].set_title('HbR')\n",
    "ax[1].set_xlabel('Time [s]')\n",
    "plt.show() "
   ]
  },
  {
   "cell_type": "code",
   "execution_count": 11,
   "id": "4f46a266",
   "metadata": {},
   "outputs": [
    {
     "data": {
      "image/png": "[encoded data removed]",
      "text/plain": [
       "<Figure size 720x360 with 2 Axes>"
      ]
     },
     "metadata": {
      "needs_background": "light"
     },
     "output_type": "display_data"
    }
   ],
   "source": [
    "# Plotting raw data from patient 2\n",
    "_, ax = plt.subplots(ncols=2, figsize=(10, 5))\n",
    "ax[0].pcolor(snirf_2.times, np.arange(np.sum(is_hbo_2)), data_2[is_hbo_2, :], shading='nearest', color='green')\n",
    "ax[0].set_title('HbO')\n",
    "ax[0].set_xlabel('Time [s]')\n",
    "ax[0].set_ylabel('Channel number')\n",
    "ax[1].pcolor(snirf_2.times, np.arange(np.sum(~is_hbo_2)), data_2[~is_hbo_2, :], shading='nearest', color='darkblue')\n",
    "ax[1].set_title('HbR')\n",
    "ax[1].set_xlabel('Time [s]')\n",
    "plt.show() "
   ]
  },
  {
   "cell_type": "code",
   "execution_count": 12,
   "id": "75a65fd0",
   "metadata": {},
   "outputs": [
    {
     "name": "stdout",
     "output_type": "stream",
     "text": [
      "[nan nan nan ... nan nan nan]\n",
      "[nan nan nan ... nan nan nan]\n",
      "[nan nan nan ... nan nan nan]\n"
     ]
    }
   ],
   "source": [
    "#Identifying Channels with no Data \n",
    "print(data[is_hbo, :][2000])\n",
    "print(data_1[is_hbo_1,:][2000])\n",
    "print(data_2[is_hbo_2, :][2000])"
   ]
  },
  {
   "cell_type": "markdown",
   "id": "9fb61542",
   "metadata": {},
   "source": [
    "We can see on the plots above that some channels do not have any data, such as channel 2000. Let's remove all of these channels from our data arrays."
   ]
  },
  {
   "cell_type": "markdown",
   "id": "825f85fe",
   "metadata": {},
   "source": [
    "## Data Preprocessing"
   ]
  },
  {
   "cell_type": "code",
   "execution_count": 13,
   "id": "2ac716c6",
   "metadata": {},
   "outputs": [],
   "source": [
    "#Creating array that has the indices of the channels without data\n",
    "nan_index=[]\n",
    "for i in range(len(data)):\n",
    "    if np.isnan(data[i][0])==True:\n",
    "            nan_index.append(i)\n",
    "            \n",
    "nan_index_1=[]\n",
    "for i in range(len(data_1)):\n",
    "    if np.isnan(data_1[i][0])==True:\n",
    "            nan_index_1.append(i)\n",
    "    \n",
    "nan_index_2=[]\n",
    "for i in range(len(data_2)):\n",
    "    if np.isnan(data_2[i][0])==True:\n",
    "            nan_index_2.append(i)"
   ]
  },
  {
   "cell_type": "code",
   "execution_count": 14,
   "id": "3e82d64f",
   "metadata": {},
   "outputs": [],
   "source": [
    "#Creating data array that only has channels with data\n",
    "real_data=np.delete(data, nan_index, 0)\n",
    "real_data_1=np.delete(data_1, nan_index_1, 0)\n",
    "real_data_2=np.delete(data_2, nan_index_2, 0)\n",
    "\n",
    "#Creating channel label array that only has channels with data\n",
    "real_is_hbo=np.delete(is_hbo, nan_index, 0)\n",
    "real_is_hbo_1=np.delete(is_hbo_1, nan_index_1, 0)\n",
    "real_is_hbo_2=np.delete(is_hbo_2, nan_index_2, 0)\n",
    "\n",
    "assert len(real_data)==len(data)-len(nan_index)\n",
    "assert len(real_data)==len(is_hbo)-len(nan_index)\n",
    "assert len(real_data)==len(real_is_hbo)"
   ]
  },
  {
   "cell_type": "code",
   "execution_count": 15,
   "id": "0f713a50",
   "metadata": {},
   "outputs": [],
   "source": [
    "#Checking that our new data arrays have no NaN elements\n",
    "for i in range(len(real_data)):\n",
    "    assert np.isnan(real_data[i][0])==False\n",
    "for i in range(len(real_data_1)):\n",
    "    assert np.isnan(real_data_1[i][0])==False\n",
    "for i in range(len(real_data_2)):\n",
    "    assert np.isnan(real_data_2[i][0])==False"
   ]
  },
  {
   "cell_type": "code",
   "execution_count": 16,
   "id": "9ff6905d",
   "metadata": {},
   "outputs": [
    {
     "name": "stdout",
     "output_type": "stream",
     "text": [
      "For patient 1 run 1, only 1145 channels actually carry data.\n"
     ]
    }
   ],
   "source": [
    "#Patient 1 Run 1 number of channels with data\n",
    "print('For patient 1 run 1, only '+str(len(real_data[real_is_hbo, :]))+' channels actually carry data.')"
   ]
  },
  {
   "cell_type": "code",
   "execution_count": 17,
   "id": "2acae653",
   "metadata": {},
   "outputs": [
    {
     "name": "stdout",
     "output_type": "stream",
     "text": [
      "For patient 1 run 2, only 1195 channels actually carry data.\n"
     ]
    }
   ],
   "source": [
    "#Patien 1 Run 2 number of channels with data\n",
    "print('For patient 1 run 2, only '+str(len(real_data_1[real_is_hbo_1, :]))+' channels actually carry data.')"
   ]
  },
  {
   "cell_type": "code",
   "execution_count": 18,
   "id": "ba87506d",
   "metadata": {},
   "outputs": [
    {
     "name": "stdout",
     "output_type": "stream",
     "text": [
      "For patient 2, only 666 channels actually carry data.\n"
     ]
    }
   ],
   "source": [
    "#Patient 2 number of channels with data\n",
    "print('For patient 2, only '+str(len(real_data_2[real_is_hbo_2, :]))+' channels actually carry data.')"
   ]
  },
  {
   "cell_type": "code",
   "execution_count": 19,
   "id": "5733cfa4",
   "metadata": {},
   "outputs": [],
   "source": [
    "#Creating HbO data and HbR data arrays\n",
    "hbo_data=real_data[real_is_hbo, :]\n",
    "hbo_data_1=real_data_1[real_is_hbo_1, :]\n",
    "hbo_data_2=real_data_2[real_is_hbo_2, :]\n",
    "\n",
    "hbr_data=real_data[~real_is_hbo, :]\n",
    "hbr_data_1=real_data_1[~real_is_hbo_1, :]\n",
    "hbr_data_2=real_data_2[~real_is_hbo_2, :]"
   ]
  },
  {
   "cell_type": "code",
   "execution_count": 20,
   "id": "ed37d905",
   "metadata": {},
   "outputs": [
    {
     "data": {
      "image/png": "[encoded data removed]",
      "text/plain": [
       "<Figure size 720x360 with 2 Axes>"
      ]
     },
     "metadata": {
      "needs_background": "light"
     },
     "output_type": "display_data"
    }
   ],
   "source": [
    "# Plotting preprocessed data from patient 1 run 1\n",
    "_, ax = plt.subplots(ncols=2, figsize=(10, 5))\n",
    "ax[0].pcolor(snirf.times, np.arange(np.sum(real_is_hbo)), hbo_data, shading='nearest', color='green')\n",
    "ax[0].set_title('HbO')\n",
    "ax[0].set_xlabel('Time [s]')\n",
    "ax[0].set_ylabel('Channel number')\n",
    "ax[1].pcolor(snirf.times, np.arange(np.sum(~real_is_hbo)), hbr_data, shading='nearest', color='darkblue')\n",
    "ax[1].set_title('HbR')\n",
    "ax[1].set_xlabel('Time [s]')\n",
    "plt.show() "
   ]
  },
  {
   "cell_type": "code",
   "execution_count": 21,
   "id": "8df17c01",
   "metadata": {},
   "outputs": [
    {
     "data": {
      "image/png": "[encoded data removed]",
      "text/plain": [
       "<Figure size 720x360 with 2 Axes>"
      ]
     },
     "metadata": {
      "needs_background": "light"
     },
     "output_type": "display_data"
    }
   ],
   "source": [
    "# Plotting preprocessed data from patient 2\n",
    "_, ax = plt.subplots(ncols=2, figsize=(10, 5))\n",
    "ax[0].pcolor(snirf_2.times, np.arange(np.sum(real_is_hbo_2)), hbo_data_2, shading='nearest', color='green')\n",
    "ax[0].set_title('HbO')\n",
    "ax[0].set_xlabel('Time [s]')\n",
    "ax[0].set_ylabel('Channel number')\n",
    "ax[1].pcolor(snirf_2.times, np.arange(np.sum(~real_is_hbo_2)), hbr_data_2, shading='nearest', color='darkblue')\n",
    "ax[1].set_title('HbR')\n",
    "ax[1].set_xlabel('Time [s]')\n",
    "plt.show() "
   ]
  },
  {
   "cell_type": "markdown",
   "id": "e31870f6",
   "metadata": {},
   "source": [
    "This again confirms that we successfully removed all of the channels that didn't output any data."
   ]
  },
  {
   "cell_type": "markdown",
   "id": "dd7dd8b4",
   "metadata": {},
   "source": [
    "## Labels Setup"
   ]
  },
  {
   "cell_type": "code",
   "execution_count": 22,
   "id": "ed83af7a",
   "metadata": {},
   "outputs": [
    {
     "name": "stdout",
     "output_type": "stream",
     "text": [
      "      timestamp             event    duration experiment_type  block  \\\n",
      "0      0.000000  start_experiment  765.820445  finger_tapping    NaN   \n",
      "1      0.023790        start_rest   20.016572  finger_tapping    NaN   \n",
      "2     20.040460       start_block   17.449732  finger_tapping    1.0   \n",
      "3     20.057623         start_ITI    0.571394  finger_tapping    1.0   \n",
      "4     20.629174       start_trial    0.764179  finger_tapping    1.0   \n",
      "..          ...               ...         ...             ...    ...   \n",
      "577  743.459083       start_trial    0.757581  finger_tapping   20.0   \n",
      "578  744.233133         start_ITI    0.044801  finger_tapping   20.0   \n",
      "579  744.278074       start_trial    0.755891  finger_tapping   20.0   \n",
      "580  745.050503         start_ITI    0.721257  finger_tapping   20.0   \n",
      "581  745.801224        start_rest   20.019134  finger_tapping    NaN   \n",
      "\n",
      "    block_type  trial trial_type  \n",
      "0          NaN    NaN        NaN  \n",
      "1          NaN    NaN        NaN  \n",
      "2        right    NaN        NaN  \n",
      "3        right    NaN        NaN  \n",
      "4        right    1.0       ring  \n",
      "..         ...    ...        ...  \n",
      "577       left  259.0      pinky  \n",
      "578       left    NaN        NaN  \n",
      "579       left  260.0       ring  \n",
      "580       left    NaN        NaN  \n",
      "581        NaN    NaN        NaN  \n",
      "\n",
      "[582 rows x 8 columns]\n"
     ]
    }
   ],
   "source": [
    "#Reading event task files\n",
    "task_events_df = pd.read_csv('f096049_task_events.tsv', sep='\\t') #Patient 1 Run 1 task events\n",
    "task_events_df_1 = pd.read_csv('1745f1d_task_events.tsv', sep='\\t') #Patient 1 Run 2 task events\n",
    "task_events_df_2 = pd.read_csv('157dcb4_task_events.tsv', sep='\\t') #Patient 2 task events\n",
    "\n",
    "#Printing task events dataframe for Patient 1 Run 1 \n",
    "print(task_events_df_2)"
   ]
  },
  {
   "cell_type": "markdown",
   "id": "08fee3f5",
   "metadata": {},
   "source": [
    "Here we are writing code to create our labels array to include a total of 5653 datapoints since this many datapoints are recorded in the snirf files. We were given right and left tapping labels in an excel sheet for only 583 datapoints in a time interval of about 800 seconds. We need to take in our 5653 snirf datapoints and assign them to left and right taps. "
   ]
  },
  {
   "cell_type": "code",
   "execution_count": 23,
   "id": "c8cebb8c",
   "metadata": {},
   "outputs": [],
   "source": [
    "# Labels Array for Patient 1 Run 1 data\n",
    "blocks_labels=np.zeros(snirf.times.size, dtype='int') #5653 #This is a 0 (right-tapping block) or 1 (left-tapping block) array\n",
    "rest_index=[]\n",
    "last_event=0\n",
    "next_event=0\n",
    "task_events=task_events_df.loc[:,'block_type']\n",
    "task_events.fillna('No', inplace=True)\n",
    "task_event_times=task_events_df.loc[:,'timestamp']\n",
    "\n",
    "for i in range(len(snirf.times)): #0 to 5653\n",
    "    if snirf.times[i,]>=task_event_times[next_event]:\n",
    "        last_event=next_event\n",
    "        for x in range(next_event, task_events.size):\n",
    "            if task_events[x] != task_events[last_event]:\n",
    "                next_event=x\n",
    "                break\n",
    "    event=task_events[last_event]\n",
    "    if event=='right':\n",
    "        blocks_labels[i]=0\n",
    "    elif event=='left':\n",
    "        blocks_labels[i]=1\n",
    "    else:\n",
    "        blocks_labels[i]=2\n",
    "        rest_index.append(i)"
   ]
  },
  {
   "cell_type": "code",
   "execution_count": 24,
   "id": "5a72455d",
   "metadata": {},
   "outputs": [],
   "source": [
    "# Labels Array for Patient 1 Run 2 data\n",
    "blocks_labels_1=np.zeros(snirf_1.times.size) #5653 #This is a 0 (right-tapping block) or 1 (left-tapping block) array\n",
    "rest_index_1=[]\n",
    "last_event_1=0\n",
    "next_event_1=0\n",
    "task_events_1=task_events_df_1.loc[:,'block_type']\n",
    "task_events_1.fillna('No', inplace=True)\n",
    "task_event_times_1=task_events_df_1.loc[:,'timestamp']\n",
    "\n",
    "for i in range(len(snirf_1.times)): #0 to 5653\n",
    "    if snirf_1.times[i,]>=task_event_times[next_event_1]:\n",
    "        last_event_1=next_event_1\n",
    "        for x in range(next_event_1, task_events_1.size):\n",
    "            if task_events_1[x] != task_events_1[last_event_1]:\n",
    "                next_event_1=x\n",
    "                break\n",
    "    event=task_events_1[last_event_1]\n",
    "    if event=='right':\n",
    "        blocks_labels_1[i]=0\n",
    "    elif event=='left':\n",
    "        blocks_labels_1[i]=1\n",
    "    else:\n",
    "        blocks_labels_1[i]=2\n",
    "        rest_index_1.append(i)"
   ]
  },
  {
   "cell_type": "code",
   "execution_count": 25,
   "id": "c91470c8",
   "metadata": {},
   "outputs": [],
   "source": [
    "# Labels Array for Patient 2 data\n",
    "blocks_labels_2=np.empty(snirf_2.times.size) #This is a 0 (right-tapping block) or 1 (left-tapping block) array of length 5493, which is the number of timestamps\n",
    "rest_index_2=[]\n",
    "last_event=0\n",
    "next_event=0\n",
    "task_events_2=task_events_df_1.loc[:,'block_type']\n",
    "task_events_2.fillna('No', inplace=True)\n",
    "task_event_times_2=task_events_df_1.loc[:,'timestamp']\n",
    "\n",
    "for i in range(len(snirf_2.times)): #0 to 5653\n",
    "    if snirf_2.times[i,]>=task_event_times_2[next_event]:\n",
    "        last_event=next_event\n",
    "        for x in range(next_event, task_events_2.size):\n",
    "            if task_events_2[x] != task_events_2[last_event]:\n",
    "                next_event=x\n",
    "                break\n",
    "    event=task_events_2[last_event]\n",
    "    if event=='right':\n",
    "        blocks_labels_2[i]=0\n",
    "    elif event=='left':\n",
    "        blocks_labels_2[i]=1\n",
    "    else:\n",
    "        blocks_labels_2[i]=2\n",
    "        rest_index_2.append(i)"
   ]
  },
  {
   "cell_type": "code",
   "execution_count": 26,
   "id": "2937ff2f",
   "metadata": {},
   "outputs": [],
   "source": [
    "#Patient 1 Run 1\n",
    "#Creating array of data only from left and right tapping blocks\n",
    "right_left_data=np.delete(real_data, rest_index, 1) #Remove rest indicies\n",
    "\n",
    "#Creating label array of data only from left and right tapping blocks\n",
    "right_left_labels=np.delete(blocks_labels, rest_index)\n",
    "\n",
    "assert len(blocks_labels)-len(rest_index)==len(right_left_labels)\n",
    "assert len(right_left_labels)==len(right_left_data[0])"
   ]
  },
  {
   "cell_type": "code",
   "execution_count": 27,
   "id": "a2c4d501",
   "metadata": {},
   "outputs": [],
   "source": [
    "#Repeat for Patient 1 Run 2\n",
    "right_left_data_1=np.delete(real_data_1, rest_index_1, 1) #Remove rest indicies\n",
    "right_left_labels_1=np.delete(blocks_labels_1, rest_index_1)\n",
    "\n",
    "assert len(blocks_labels_1)-len(rest_index_1)==len(right_left_labels_1)\n",
    "assert len(right_left_labels_1)==len(right_left_data_1[0])"
   ]
  },
  {
   "cell_type": "code",
   "execution_count": 28,
   "id": "710f7e21",
   "metadata": {},
   "outputs": [],
   "source": [
    "#Repeat for Patient 2\n",
    "right_left_data_2=np.delete(real_data_2, rest_index_2, 1)\n",
    "\n",
    "right_left_labels_2=np.delete(blocks_labels_2, rest_index_2) #Remove rest indicies\n",
    "\n",
    "assert len(blocks_labels_2)-len(rest_index_2)==len(right_left_labels_2)\n",
    "assert len(right_left_labels_2)==len(right_left_data_2[0])"
   ]
  },
  {
   "cell_type": "code",
   "execution_count": 29,
   "id": "75aa8754",
   "metadata": {},
   "outputs": [
    {
     "name": "stdout",
     "output_type": "stream",
     "text": [
      "For patient 1 run 1, each channel now has 2610 data points.\n"
     ]
    }
   ],
   "source": [
    "#Patient 1 Run 1, number of data points per channel\n",
    "print('For patient 1 run 1, each channel now has '+str(len(right_left_labels))+' data points.')"
   ]
  },
  {
   "cell_type": "code",
   "execution_count": 30,
   "id": "e7b1c7b5",
   "metadata": {},
   "outputs": [
    {
     "name": "stdout",
     "output_type": "stream",
     "text": [
      "For patient 1 run 2, each channel now has 3045 data points.\n"
     ]
    }
   ],
   "source": [
    "#Patient 1 Run 2, number of data points per channel\n",
    "print('For patient 1 run 2, each channel now has '+str(len(right_left_labels_1))+' data points.')"
   ]
  },
  {
   "cell_type": "code",
   "execution_count": 31,
   "id": "44e8db65",
   "metadata": {},
   "outputs": [
    {
     "name": "stdout",
     "output_type": "stream",
     "text": [
      "For patient 2, each channel now has 2524 data points.\n"
     ]
    }
   ],
   "source": [
    "#Patient 2, number of data points per channel\n",
    "print('For patient 2, each channel now has '+str(len(right_left_labels_2))+' data points.')"
   ]
  },
  {
   "cell_type": "code",
   "execution_count": null,
   "id": "d73a065f",
   "metadata": {},
   "outputs": [],
   "source": [
    "#Note: this only works if Sara runs this\n",
    "df = pd.read_excel('f096049_task_events.xlsx', sheet_name='f096049_task_events')\n",
    "display(df)\n",
    "\n",
    "#Extract the timestamp and block_type columns\n",
    "time_stamps=df[\"timestamp\"] #582 timestamps\n",
    "block_type=df[\"block_type\"]"
   ]
  },
  {
   "cell_type": "code",
   "execution_count": 33,
   "id": "fad370a2",
   "metadata": {},
   "outputs": [],
   "source": [
    "#Defining moving average function\n",
    "def movingaverage (values, window):\n",
    "    weights = np.repeat(1.0, window)/window\n",
    "    return np.convolve(np.squeeze(values), weights, 'valid')"
   ]
  },
  {
   "cell_type": "markdown",
   "id": "c0e86454",
   "metadata": {},
   "source": [
    "#### Setting Up Separate Labels Array for Running Logistic Regression on only one Channel"
   ]
  },
  {
   "cell_type": "code",
   "execution_count": 34,
   "id": "3766c39e",
   "metadata": {},
   "outputs": [],
   "source": [
    "# Labels Array for Training Datatset\n",
    "\n",
    "avg=movingaverage(snirf.times,100)\n",
    "blocks=np.empty(avg.size) #5554 #This is a 0 or 1 array representing the y_train\n",
    "last_event=0\n",
    "next_event=0\n",
    "rest_index_train=[]\n",
    "\n",
    "for i in range(len(avg)): #0 to 5653\n",
    "    if avg[i,]>=task_event_times[next_event]:\n",
    "        last_event=next_event\n",
    "        for x in range(next_event, task_events.size):\n",
    "            if task_events[x] != task_events[last_event]:\n",
    "                next_event= x\n",
    "                break\n",
    "    event=task_events[last_event]\n",
    "    if event=='right':\n",
    "        blocks[i]=0\n",
    "    elif event=='left':\n",
    "        blocks[i]=1\n",
    "    else:\n",
    "        blocks[i]=2\n",
    "        rest_index_train.append(i)\n",
    "blocks=np.delete(blocks, rest_index_train)"
   ]
  },
  {
   "cell_type": "code",
   "execution_count": 35,
   "id": "b01993b1",
   "metadata": {},
   "outputs": [
    {
     "name": "stdout",
     "output_type": "stream",
     "text": [
      "Loading /Users/soulaimanebentaleb/mne-python/157dcb4-Hb_Moments.snirf\n"
     ]
    }
   ],
   "source": [
    "#Read in Test DataSet\n",
    "path = \"157dcb4-Hb_Moments.snirf\" #Patient 2 data\n",
    "snirf_test = read_raw_snirf(path)\n",
    "#Labels Array for Test Dataset\n",
    "avg=movingaverage(snirf_test.times,100)\n",
    "y_test=np.empty(avg.size) #5394 #This is a 0,1 array representing the y_test\n",
    "last_event=0\n",
    "next_event=0\n",
    "rest_index_test=[]\n",
    "\n",
    "for i in range(len(avg)): #0 to 5653\n",
    "    if avg[i,]>=task_event_times_2[next_event]:\n",
    "        last_event=next_event\n",
    "        for x in range(next_event, task_events_2.size):\n",
    "            if task_events_2[x] != task_events_2[last_event]:\n",
    "                next_event= x\n",
    "                break\n",
    "    event=task_events_2[last_event]\n",
    "    if event=='right':\n",
    "        y_test[i]=0\n",
    "    elif event=='left':\n",
    "        y_test[i]=1\n",
    "    else:\n",
    "        y_test[i]=2\n",
    "        rest_index_test.append(i)\n",
    "y_test=np.delete(y_test, rest_index_test)"
   ]
  },
  {
   "cell_type": "markdown",
   "id": "4cacfa21",
   "metadata": {},
   "source": [
    "## Data Processing"
   ]
  },
  {
   "cell_type": "code",
   "execution_count": 36,
   "id": "ad7fbf83",
   "metadata": {},
   "outputs": [],
   "source": [
    "#Patient 1 Run 1\n",
    "#Creating an array of the moving average of the data from right and left blocks\n",
    "avg_right_left_data=[np.empty(movingaverage(right_left_data[0], 100).shape)]\n",
    "\n",
    "for i in range(len(right_left_data)):\n",
    "    avg_right_left_data=np.append(avg_right_left_data,[movingaverage(right_left_data[i], 100).tolist()],axis=0)\n",
    "    \n",
    "avg_right_left_data=np.delete(avg_right_left_data, 0, 0)\n",
    "\n",
    "assert len(avg_right_left_data)==len(right_left_data)"
   ]
  },
  {
   "cell_type": "code",
   "execution_count": 37,
   "id": "b57883a6",
   "metadata": {},
   "outputs": [],
   "source": [
    "#Repeat for Patient 1 Run 2\n",
    "avg_right_left_data_1=[np.empty(movingaverage(right_left_data_1[0], 100).shape)]\n",
    "\n",
    "for i in range(len(right_left_data_1)):\n",
    "    avg_right_left_data_1=np.append(avg_right_left_data_1,[movingaverage(right_left_data_1[i], 100).tolist()],axis=0)\n",
    "    \n",
    "avg_right_left_data_1=np.delete(avg_right_left_data_1, 0, 0)\n",
    "\n",
    "assert len(avg_right_left_data_1)==len(right_left_data_1)"
   ]
  },
  {
   "cell_type": "code",
   "execution_count": 38,
   "id": "b06a87a1",
   "metadata": {},
   "outputs": [],
   "source": [
    "#Repeat for Patient 2\n",
    "avg_right_left_data_2=[np.empty(movingaverage(right_left_data_2[0], 100).shape)]\n",
    "\n",
    "for i in range(len(right_left_data_2)):\n",
    "    avg_right_left_data_2=np.append(avg_right_left_data_2,[movingaverage(right_left_data_2[i], 100).tolist()],axis=0)\n",
    "    \n",
    "avg_right_left_data_2=np.delete(avg_right_left_data_2, 0, 0)\n",
    "\n",
    "assert len(avg_right_left_data_2)==len(right_left_data_2)"
   ]
  },
  {
   "cell_type": "code",
   "execution_count": 39,
   "id": "301ed3bb",
   "metadata": {},
   "outputs": [],
   "source": [
    "#Patient 1 Run 1\n",
    "#Creating an array of the moving average of the labels for right and left blocks\n",
    "avg_right_left_labels=movingaverage(right_left_labels, 100)\n",
    "\n",
    "assert len(avg_right_left_labels)==len(avg_right_left_data[0])"
   ]
  },
  {
   "cell_type": "code",
   "execution_count": 40,
   "id": "d1d77cdd",
   "metadata": {},
   "outputs": [],
   "source": [
    "#Repeat for Patient 1 Run 2 \n",
    "avg_right_left_labels_1=movingaverage(right_left_labels_1, 100)\n",
    "assert len(avg_right_left_labels_1)==len(avg_right_left_data_1[0])"
   ]
  },
  {
   "cell_type": "code",
   "execution_count": 41,
   "id": "47a6d8a8",
   "metadata": {},
   "outputs": [],
   "source": [
    "#Repeat for Patient 2\n",
    "avg_right_left_labels_2=movingaverage(right_left_labels_2, 100)\n",
    "\n",
    "assert len(avg_right_left_labels_2)==len(avg_right_left_data_2[0])"
   ]
  },
  {
   "cell_type": "code",
   "execution_count": 42,
   "id": "0b5fa990",
   "metadata": {},
   "outputs": [
    {
     "data": {
      "text/plain": [
       "2511"
      ]
     },
     "execution_count": 42,
     "metadata": {},
     "output_type": "execute_result"
    }
   ],
   "source": [
    "#Patient 1 Run 1\n",
    "#Printing number of data points per channel\n",
    "len(avg_right_left_labels)"
   ]
  },
  {
   "cell_type": "code",
   "execution_count": 43,
   "id": "7720e958",
   "metadata": {},
   "outputs": [
    {
     "data": {
      "text/plain": [
       "2946"
      ]
     },
     "execution_count": 43,
     "metadata": {},
     "output_type": "execute_result"
    }
   ],
   "source": [
    "#Repeat for Patient 1 Run 1\n",
    "len(avg_right_left_labels_1)"
   ]
  },
  {
   "cell_type": "code",
   "execution_count": 44,
   "id": "00205ada",
   "metadata": {},
   "outputs": [
    {
     "data": {
      "text/plain": [
       "2425"
      ]
     },
     "execution_count": 44,
     "metadata": {},
     "output_type": "execute_result"
    }
   ],
   "source": [
    "#Repeat for Patient 2\n",
    "len(avg_right_left_labels_2)"
   ]
  },
  {
   "cell_type": "code",
   "execution_count": 45,
   "id": "2c46c80b",
   "metadata": {},
   "outputs": [
    {
     "data": {
      "text/plain": [
       "0.74"
      ]
     },
     "execution_count": 45,
     "metadata": {},
     "output_type": "execute_result"
    }
   ],
   "source": [
    "#Patient 1 Run 1\n",
    "#Showing that labels array has values different than 0 or 1\n",
    "avg_right_left_labels[100]"
   ]
  },
  {
   "cell_type": "code",
   "execution_count": 46,
   "id": "3024a96b",
   "metadata": {},
   "outputs": [
    {
     "data": {
      "text/plain": [
       "0.54"
      ]
     },
     "execution_count": 46,
     "metadata": {},
     "output_type": "execute_result"
    }
   ],
   "source": [
    "#Repeat for Patient 1 Run 1 \n",
    "avg_right_left_labels_1[100]"
   ]
  },
  {
   "cell_type": "code",
   "execution_count": 47,
   "id": "42c08f0e",
   "metadata": {},
   "outputs": [
    {
     "data": {
      "text/plain": [
       "0.74"
      ]
     },
     "execution_count": 47,
     "metadata": {},
     "output_type": "execute_result"
    }
   ],
   "source": [
    "#Repeat for Patient 2\n",
    "avg_right_left_labels_2[100]"
   ]
  },
  {
   "cell_type": "markdown",
   "id": "9cd4ce77",
   "metadata": {},
   "source": [
    "Each channel now has 2424,2818 data points for patient 1(2 Runs) and 2274 for patient 2. However, our labels array now has averaged values that are neither 0 nor 1 but all of these values are greater than 0 and less than 0. Therefore, let's fix this by having all values greaer than or equal to 0.5 be 1 and all values less than 0.5 be 0."
   ]
  },
  {
   "cell_type": "code",
   "execution_count": 48,
   "id": "bbb83ca8",
   "metadata": {},
   "outputs": [],
   "source": [
    "#Patient 1 Run 1\n",
    "#Creating label array of size 2274 with labels 0 (right-tapping) or 1 (left-tapping)\n",
    "filt_right_left_labels=np.array([])\n",
    "\n",
    "for i in avg_right_left_labels:\n",
    "    if i>=0.5:\n",
    "        filt_right_left_labels=np.append(filt_right_left_labels,1)\n",
    "    else:\n",
    "        filt_right_left_labels=np.append(filt_right_left_labels,0)\n",
    "        \n",
    "assert len(filt_right_left_labels)==len(avg_right_left_labels)"
   ]
  },
  {
   "cell_type": "code",
   "execution_count": 49,
   "id": "552e3d79",
   "metadata": {},
   "outputs": [],
   "source": [
    "#Patient 1 Run 2\n",
    "#Creating label array of size 2274 with labels 0 (right-tapping) or 1 (left-tapping)\n",
    "filt_right_left_labels_1=np.array([])\n",
    "\n",
    "for i in avg_right_left_labels_1:\n",
    "    if i>=0.5:\n",
    "        filt_right_left_labels_1=np.append(filt_right_left_labels_1,1)\n",
    "    else:\n",
    "        filt_right_left_labels_1=np.append(filt_right_left_labels_1,0)\n",
    "        \n",
    "assert len(filt_right_left_labels_1)==len(avg_right_left_labels_1)"
   ]
  },
  {
   "cell_type": "code",
   "execution_count": 50,
   "id": "cc5c9fed",
   "metadata": {},
   "outputs": [],
   "source": [
    "#Repeat for Patient 2\n",
    "filt_right_left_labels_2=np.array([])\n",
    "\n",
    "for i in avg_right_left_labels_2:\n",
    "    if i>=0.5:\n",
    "        filt_right_left_labels_2=np.append(filt_right_left_labels_2,1)\n",
    "    else:\n",
    "        filt_right_left_labels_2=np.append(filt_right_left_labels_2,0)\n",
    "        \n",
    "assert len(filt_right_left_labels_2)==len(avg_right_left_labels_2)"
   ]
  },
  {
   "cell_type": "code",
   "execution_count": 51,
   "id": "2c65dd71",
   "metadata": {},
   "outputs": [
    {
     "data": {
      "image/png": "[encoded data removed]",
      "text/plain": [
       "<Figure size 432x288 with 1 Axes>"
      ]
     },
     "metadata": {
      "needs_background": "light"
     },
     "output_type": "display_data"
    }
   ],
   "source": [
    "#Low Pass Filter\n",
    "def butter_lowpass(cutoff, fs, order=5):\n",
    "    nyq = 0.5 * fs\n",
    "    normal_cutoff = cutoff / nyq\n",
    "    b, a = butter(order, normal_cutoff, btype='low', analog=False)\n",
    "    return b, a\n",
    "\n",
    "def butter_lowpass_filter(data, cutoff, fs, order=5):\n",
    "    b, a = butter_lowpass(cutoff, fs, order=order)\n",
    "    y = lfilter(b, a, data)\n",
    "    return y\n",
    "\n",
    "# Setting standard filter requirements.\n",
    "order = 6\n",
    "fs = 10   #This is the sampling rate I derived from the cutoff frequency they used(0.1=Fs/2)(Sampling Frequency has to be greater than 0.2)   \n",
    "cutoff = 0.1  \n",
    "\n",
    "b, a = butter_lowpass(cutoff, fs, order)\n",
    "\n",
    "# Plotting the frequency response.\n",
    "w, h = freqz(b, a, worN=8000)\n",
    "plt.plot(0.5*fs*w/np.pi, np.abs(h), 'b')\n",
    "plt.plot(cutoff, 0.5*np.sqrt(2), 'ko')\n",
    "plt.axvline(cutoff, color='k')\n",
    "plt.xlim(0, 0.5*fs)\n",
    "plt.title(\"Lowpass Filter Frequency Response\")\n",
    "plt.xlabel('Frequency [Hz]')\n",
    "plt.grid()"
   ]
  },
  {
   "cell_type": "code",
   "execution_count": 52,
   "id": "4b65313b",
   "metadata": {},
   "outputs": [],
   "source": [
    "#Patient 1 Run 1\n",
    "#Creating an array of the filtered moving average of the data from right and left blocks\n",
    "filt_right_left_data=[np.empty(len(avg_right_left_labels))]\n",
    "\n",
    "for i in range(len(avg_right_left_data)):\n",
    "    filt_right_left_data=np.append(filt_right_left_data,[butter_lowpass_filter(avg_right_left_data[i], cutoff, fs, order).tolist()],axis=0)\n",
    "    \n",
    "filt_right_left_data=np.delete(filt_right_left_data, 0, 0)\n",
    "\n",
    "assert len(filt_right_left_data)==len(avg_right_left_data)"
   ]
  },
  {
   "cell_type": "code",
   "execution_count": 53,
   "id": "5affac77",
   "metadata": {},
   "outputs": [],
   "source": [
    "#Repeat for Patient 1 Run 2\n",
    "filt_right_left_data_1=[np.empty(len(avg_right_left_labels_1))]\n",
    "\n",
    "for i in range(len(avg_right_left_data_1)):\n",
    "    filt_right_left_data_1=np.append(filt_right_left_data_1,[butter_lowpass_filter(avg_right_left_data_1[i], cutoff, fs, order).tolist()],axis=0)\n",
    "    \n",
    "filt_right_left_data_1=np.delete(filt_right_left_data_1, 0, 0)\n",
    "\n",
    "assert len(filt_right_left_data_1)==len(avg_right_left_data_1)"
   ]
  },
  {
   "cell_type": "code",
   "execution_count": 54,
   "id": "907fb43b",
   "metadata": {},
   "outputs": [],
   "source": [
    "#Repeat for Patient 2\n",
    "filt_right_left_data_2=[np.empty(len(avg_right_left_labels_2))]\n",
    "\n",
    "for i in range(len(avg_right_left_data_2)):\n",
    "    filt_right_left_data_2=np.append(filt_right_left_data_2,[butter_lowpass_filter(avg_right_left_data_2[i], cutoff, fs, order).tolist()],axis=0)\n",
    "    \n",
    "filt_right_left_data_2=np.delete(filt_right_left_data_2, 0, 0)\n",
    "\n",
    "assert len(filt_right_left_data_2)==len(avg_right_left_data_2)"
   ]
  },
  {
   "cell_type": "markdown",
   "id": "27e253ee",
   "metadata": {},
   "source": [
    "## Sample Signal Visualization"
   ]
  },
  {
   "cell_type": "code",
   "execution_count": 55,
   "id": "b273c0a3",
   "metadata": {},
   "outputs": [
    {
     "data": {
      "text/plain": [
       "Text(0, 0.5, 'Left Channel')"
      ]
     },
     "execution_count": 55,
     "metadata": {},
     "output_type": "execute_result"
    },
    {
     "data": {
      "image/png": "[encoded data removed]",
      "text/plain": [
       "<Figure size 432x288 with 2 Axes>"
      ]
     },
     "metadata": {
      "needs_background": "light"
     },
     "output_type": "display_data"
    }
   ],
   "source": [
    "#Patient 1 Run 1, Obtaining 2 HbO Channels (Left and Right of Brain)\n",
    "\n",
    "#Right Channel HbO Signal\n",
    "assert(is_hbo[8])== True #Make sure we are choosing a HbO signal (Oxygenated Hemoglobin)\n",
    "assert(snirf.get_data().shape)==(4412,5653) #4412 channels by 5653 signal points per channel\n",
    "snirf_d=snirf.get_data()\n",
    "d=snirf_d[8,:] #Extract the 8th channel signal\n",
    "fig, axs = plt.subplots(2)\n",
    "fig.suptitle('Patient 1 Trial 1 Right and Left Sample Raw Signals')\n",
    "axs[0].plot(d,color=\"blue\",label=\"Right\")\n",
    "axs[0].set_ylabel(\"Right Channel\")\n",
    "\n",
    "#Left Channel HbO Signal\n",
    "assert(is_hbo[4380])== True #Make sure we are choosing a HbO signal (Oxygenated Hemoglobin)\n",
    "f=snirf_d[4380,:] #Extract the 4380th channel signal\n",
    "axs[1].plot(f,color=\"blue\",label=\"Left\")\n",
    "axs[1].set_ylabel(\"Left Channel\")"
   ]
  },
  {
   "cell_type": "code",
   "execution_count": 56,
   "id": "ec4bd72e",
   "metadata": {},
   "outputs": [
    {
     "data": {
      "text/plain": [
       "Text(0, 0.5, 'Left Channel')"
      ]
     },
     "execution_count": 56,
     "metadata": {},
     "output_type": "execute_result"
    },
    {
     "data": {
      "image/png": "[encoded data removed]",
      "text/plain": [
       "<Figure size 432x288 with 2 Axes>"
      ]
     },
     "metadata": {
      "needs_background": "light"
     },
     "output_type": "display_data"
    }
   ],
   "source": [
    "#Apply Moving Average to the data\n",
    "def movingaverage (values, window):\n",
    "    weights = np.repeat(1.0, window)/window\n",
    "    return np.convolve(np.squeeze(values), weights, 'valid')\n",
    "\n",
    "fig, axs = plt.subplots(2)\n",
    "fig.suptitle('Patient 1 Trial 1 Right and Left Moving Average Signals')\n",
    "axs[0].plot(movingaverage(d, 100),color=\"blue\",label=\"Right\")\n",
    "axs[0].set_ylabel(\"Right Channel\")\n",
    "\n",
    "#Left Channel HbO Signal\n",
    "assert(is_hbo[4380])== True #Make sure we are choosing a HbO signal (Oxygenated Hemoglobin)\n",
    "f=snirf_d[4380,:] #Extract the 8th channel signal\n",
    "axs[1].plot(movingaverage(f, 100),color=\"blue\",label=\"Left\")\n",
    "axs[1].set_ylabel(\"Left Channel\")"
   ]
  },
  {
   "cell_type": "code",
   "execution_count": 57,
   "id": "c313de85",
   "metadata": {},
   "outputs": [
    {
     "data": {
      "image/png": "[encoded data removed]",
      "text/plain": [
       "<Figure size 432x288 with 2 Axes>"
      ]
     },
     "metadata": {
      "needs_background": "light"
     },
     "output_type": "display_data"
    }
   ],
   "source": [
    "# Filter Setup\n",
    "T = 800         # value taken in seconds\n",
    "t = np.linspace(0, T, 5653, endpoint=False)\n",
    "\n",
    "# Filtering and plotting\n",
    "p1_rf = butter_lowpass_filter(movingaverage(d,100), cutoff, fs, order) #patient 1 right filtered signal\n",
    "plt.subplot(2, 1, 1)\n",
    "plt.title(\"Patient 1 Right Channel Signals\")\n",
    "plt.plot(movingaverage(d,100), 'b-', label='Moving Average data')\n",
    "plt.plot(p1_rf, 'r-', linewidth=2, label='Moving Average+Filtered data')\n",
    "plt.grid()\n",
    "plt.legend(bbox_to_anchor=(1.05, 1))\n",
    "plt.subplot(2, 1, 2)\n",
    "plt.plot(p1_rf, 'r-', linewidth=2, label='Moving Average+Filtered data')\n",
    "plt.xlabel('Time [sec]')\n",
    "plt.grid()\n",
    "plt.subplots_adjust(hspace=0.35)"
   ]
  },
  {
   "cell_type": "code",
   "execution_count": 58,
   "id": "2e084db4",
   "metadata": {},
   "outputs": [
    {
     "data": {
      "text/plain": [
       "Text(0.5, 0, 'Time [sec]')"
      ]
     },
     "execution_count": 58,
     "metadata": {},
     "output_type": "execute_result"
    },
    {
     "data": {
      "image/png": "[encoded data removed]",
      "text/plain": [
       "<Figure size 432x288 with 2 Axes>"
      ]
     },
     "metadata": {
      "needs_background": "light"
     },
     "output_type": "display_data"
    }
   ],
   "source": [
    "# Filtering and plotting\n",
    "p1_lf = butter_lowpass_filter(movingaverage(f,100), cutoff, fs, order) #patient 1 left filtered signal\n",
    "plt.subplot(2, 1, 1)\n",
    "plt.plot(movingaverage(f,100), 'b-', label='Moving Average data')\n",
    "plt.plot(p1_lf, 'r-', linewidth=2,label='Moving Average+Filtered data')\n",
    "plt.title(\"Patient 1 Left Channel Signals\")\n",
    "plt.grid()\n",
    "plt.legend(bbox_to_anchor=(1.05, 1))\n",
    "plt.subplot(2, 1, 2)\n",
    "plt.plot(p1_lf, 'r-', linewidth=2, label='Moving Average+Filtered data')\n",
    "plt.grid()\n",
    "plt.subplots_adjust(hspace=0.35)\n",
    "plt.xlabel('Time [sec]')"
   ]
  },
  {
   "cell_type": "code",
   "execution_count": 59,
   "id": "d1393c0d",
   "metadata": {},
   "outputs": [
    {
     "name": "stdout",
     "output_type": "stream",
     "text": [
      "(5554,)\n",
      "(5554,)\n",
      "(5653,)\n",
      "(5653,)\n",
      "(5554,)\n"
     ]
    }
   ],
   "source": [
    "print(p1_lf.shape)\n",
    "print(movingaverage(f,100).shape)\n",
    "print(f.shape)\n",
    "print(snirf.times.shape)\n",
    "print(movingaverage(snirf.times,100).shape)"
   ]
  },
  {
   "cell_type": "code",
   "execution_count": 64,
   "id": "5f3f2e42",
   "metadata": {},
   "outputs": [
    {
     "name": "stdout",
     "output_type": "stream",
     "text": [
      "Loading /Users/soulaimanebentaleb/mne-python/157dcb4-Hb_Moments.snirf\n"
     ]
    }
   ],
   "source": [
    "#Read in Test DataSet\n",
    "path = \"157dcb4-Hb_Moments.snirf\" #Patient 1 Run 1 data\n",
    "snirf_test = read_raw_snirf(path)\n",
    "\n",
    "channel_names_test = [z['ch_name'] for z in snirf.info['chs']]\n",
    "is_hbo_test = np.array([1 if channel_name.endswith('hbo') else 0 for channel_name in channel_names_test], dtype=bool)\n",
    "channel_locations_3d_test = [z['loc'][:3] for z in snirf_test.info['chs']] "
   ]
  },
  {
   "cell_type": "code",
   "execution_count": 65,
   "id": "a6596b2e",
   "metadata": {},
   "outputs": [
    {
     "data": {
      "text/plain": [
       "Text(0, 0.5, 'Left Channel')"
      ]
     },
     "execution_count": 65,
     "metadata": {},
     "output_type": "execute_result"
    },
    {
     "data": {
      "image/png": "[encoded data removed]",
      "text/plain": [
       "<Figure size 432x288 with 2 Axes>"
      ]
     },
     "metadata": {
      "needs_background": "light"
     },
     "output_type": "display_data"
    }
   ],
   "source": [
    "#Right Channel HbO Signal\n",
    "assert(is_hbo_test[8])== True #Make sure we are choosing a HbO signal (Oxygenated Hemoglobin)\n",
    "snirf_t=snirf_test.get_data()\n",
    "test_r=snirf_t[8,:] #Extract the 9th channel signal\n",
    "\n",
    "#Left Channel HbO Signal\n",
    "assert(is_hbo_test[152])== True #Make sure we are choosing a HbO signal (Oxygenated Hemoglobin)\n",
    "test_l=snirf_t[152,:] #Extract the 151th channel signal \n",
    "\n",
    "#Apply Moving Average and Filter\n",
    "p_test_r=butter_lowpass_filter(movingaverage(test_r,100), cutoff, fs, order)\n",
    "p_test_l=butter_lowpass_filter(movingaverage(test_l,100), cutoff, fs, order)\n",
    "\n",
    "#Plot\n",
    "fig, axs = plt.subplots(2)\n",
    "fig.suptitle('Patient 2 (test) Right and Left Processed Data')\n",
    "axs[0].plot(p_test_r,color=\"blue\",label=\"Right\")\n",
    "axs[0].set_ylabel(\"Right Channel\")\n",
    "\n",
    "#Left Channel HbO Signal\n",
    "axs[1].plot(p_test_l,color=\"blue\",label=\"Left\")\n",
    "axs[1].set_ylabel(\"Left Channel\")"
   ]
  },
  {
   "cell_type": "code",
   "execution_count": 66,
   "id": "4b1ab6a4",
   "metadata": {},
   "outputs": [
    {
     "name": "stdout",
     "output_type": "stream",
     "text": [
      "(5493,)\n",
      "(5653,)\n"
     ]
    }
   ],
   "source": [
    "print(snirf_test.times.shape)\n",
    "print(snirf.times.shape) #Our timestamps are different for training and testing data"
   ]
  },
  {
   "cell_type": "markdown",
   "id": "524af7ae",
   "metadata": {},
   "source": [
    "## Logistic Regression Initial Model with One Channel for Training"
   ]
  },
  {
   "cell_type": "code",
   "execution_count": 67,
   "id": "ffb599dd",
   "metadata": {},
   "outputs": [
    {
     "name": "stdout",
     "output_type": "stream",
     "text": [
      "Our Labels Are: [0. 1.]\n",
      "Our Models Intercept is: [0.01751837]\n",
      "Our Models Coefficients are: [[-2.44332532]]\n"
     ]
    },
    {
     "data": {
      "text/html": [
       "<div>\n",
       "<style scoped>\n",
       "    .dataframe tbody tr th:only-of-type {\n",
       "        vertical-align: middle;\n",
       "    }\n",
       "\n",
       "    .dataframe tbody tr th {\n",
       "        vertical-align: top;\n",
       "    }\n",
       "\n",
       "    .dataframe thead th {\n",
       "        text-align: right;\n",
       "    }\n",
       "</style>\n",
       "<table border=\"1\" class=\"dataframe\">\n",
       "  <thead>\n",
       "    <tr style=\"text-align: right;\">\n",
       "      <th></th>\n",
       "      <th>Right Tap(0)</th>\n",
       "      <th>Left Tap(1)</th>\n",
       "    </tr>\n",
       "  </thead>\n",
       "  <tbody>\n",
       "    <tr>\n",
       "      <th>0</th>\n",
       "      <td>0.522716</td>\n",
       "      <td>0.477284</td>\n",
       "    </tr>\n",
       "    <tr>\n",
       "      <th>1</th>\n",
       "      <td>0.523812</td>\n",
       "      <td>0.476188</td>\n",
       "    </tr>\n",
       "    <tr>\n",
       "      <th>2</th>\n",
       "      <td>0.524919</td>\n",
       "      <td>0.475081</td>\n",
       "    </tr>\n",
       "    <tr>\n",
       "      <th>3</th>\n",
       "      <td>0.526036</td>\n",
       "      <td>0.473964</td>\n",
       "    </tr>\n",
       "    <tr>\n",
       "      <th>4</th>\n",
       "      <td>0.527161</td>\n",
       "      <td>0.472839</td>\n",
       "    </tr>\n",
       "    <tr>\n",
       "      <th>...</th>\n",
       "      <td>...</td>\n",
       "      <td>...</td>\n",
       "    </tr>\n",
       "    <tr>\n",
       "      <th>2523</th>\n",
       "      <td>0.118428</td>\n",
       "      <td>0.881572</td>\n",
       "    </tr>\n",
       "    <tr>\n",
       "      <th>2524</th>\n",
       "      <td>0.119317</td>\n",
       "      <td>0.880683</td>\n",
       "    </tr>\n",
       "    <tr>\n",
       "      <th>2525</th>\n",
       "      <td>0.120220</td>\n",
       "      <td>0.879780</td>\n",
       "    </tr>\n",
       "    <tr>\n",
       "      <th>2526</th>\n",
       "      <td>0.121136</td>\n",
       "      <td>0.878864</td>\n",
       "    </tr>\n",
       "    <tr>\n",
       "      <th>2527</th>\n",
       "      <td>0.122066</td>\n",
       "      <td>0.877934</td>\n",
       "    </tr>\n",
       "  </tbody>\n",
       "</table>\n",
       "<p>2528 rows × 2 columns</p>\n",
       "</div>"
      ],
      "text/plain": [
       "      Right Tap(0)   Left Tap(1)\n",
       "0          0.522716     0.477284\n",
       "1          0.523812     0.476188\n",
       "2          0.524919     0.475081\n",
       "3          0.526036     0.473964\n",
       "4          0.527161     0.472839\n",
       "...             ...          ...\n",
       "2523       0.118428     0.881572\n",
       "2524       0.119317     0.880683\n",
       "2525       0.120220     0.879780\n",
       "2526       0.121136     0.878864\n",
       "2527       0.122066     0.877934\n",
       "\n",
       "[2528 rows x 2 columns]"
      ]
     },
     "metadata": {},
     "output_type": "display_data"
    },
    {
     "data": {
      "text/html": [
       "<div>\n",
       "<style scoped>\n",
       "    .dataframe tbody tr th:only-of-type {\n",
       "        vertical-align: middle;\n",
       "    }\n",
       "\n",
       "    .dataframe tbody tr th {\n",
       "        vertical-align: top;\n",
       "    }\n",
       "\n",
       "    .dataframe thead th {\n",
       "        text-align: right;\n",
       "    }\n",
       "</style>\n",
       "<table border=\"1\" class=\"dataframe\">\n",
       "  <thead>\n",
       "    <tr style=\"text-align: right;\">\n",
       "      <th></th>\n",
       "      <th>Model Prediction</th>\n",
       "    </tr>\n",
       "  </thead>\n",
       "  <tbody>\n",
       "    <tr>\n",
       "      <th>0</th>\n",
       "      <td>0.0</td>\n",
       "    </tr>\n",
       "    <tr>\n",
       "      <th>1</th>\n",
       "      <td>0.0</td>\n",
       "    </tr>\n",
       "    <tr>\n",
       "      <th>2</th>\n",
       "      <td>0.0</td>\n",
       "    </tr>\n",
       "    <tr>\n",
       "      <th>3</th>\n",
       "      <td>0.0</td>\n",
       "    </tr>\n",
       "    <tr>\n",
       "      <th>4</th>\n",
       "      <td>0.0</td>\n",
       "    </tr>\n",
       "    <tr>\n",
       "      <th>...</th>\n",
       "      <td>...</td>\n",
       "    </tr>\n",
       "    <tr>\n",
       "      <th>2523</th>\n",
       "      <td>1.0</td>\n",
       "    </tr>\n",
       "    <tr>\n",
       "      <th>2524</th>\n",
       "      <td>1.0</td>\n",
       "    </tr>\n",
       "    <tr>\n",
       "      <th>2525</th>\n",
       "      <td>1.0</td>\n",
       "    </tr>\n",
       "    <tr>\n",
       "      <th>2526</th>\n",
       "      <td>1.0</td>\n",
       "    </tr>\n",
       "    <tr>\n",
       "      <th>2527</th>\n",
       "      <td>1.0</td>\n",
       "    </tr>\n",
       "  </tbody>\n",
       "</table>\n",
       "<p>2528 rows × 1 columns</p>\n",
       "</div>"
      ],
      "text/plain": [
       "      Model Prediction\n",
       "0                  0.0\n",
       "1                  0.0\n",
       "2                  0.0\n",
       "3                  0.0\n",
       "4                  0.0\n",
       "...                ...\n",
       "2523               1.0\n",
       "2524               1.0\n",
       "2525               1.0\n",
       "2526               1.0\n",
       "2527               1.0\n",
       "\n",
       "[2528 rows x 1 columns]"
      ]
     },
     "metadata": {},
     "output_type": "display_data"
    },
    {
     "name": "stdout",
     "output_type": "stream",
     "text": [
      "Accuracy: 0.5316455696202531\n",
      "Precision: 0.5322694071211512\n",
      "Recall: 0.5316455696202531\n",
      "Cross Validation prediction error for liblinear solver with a l2 penalty is 0.5977216676453316\n"
     ]
    }
   ],
   "source": [
    "#Logistic Regression Model 1 (right channel data)\n",
    "\n",
    "#Set Inputs\n",
    "x1=p1_lf.reshape(-1,1) #left channel\n",
    "x2=p1_rf.reshape(-1,1) #right channel\n",
    "x2= np.delete(x2,rest_index_train)\n",
    "x2= x2.reshape(-1,1)\n",
    "p_test_r=np.delete(p_test_r, rest_index_test)\n",
    "\n",
    "#Make the Model\n",
    "model_r = LogisticRegression(solver='liblinear',random_state=0)\n",
    "\n",
    "#Fit the Model\n",
    "model_r.fit(x2,blocks) #Blocks is y_train\n",
    "\n",
    "#Model Attributes\n",
    "print(\"Our Labels Are:\",model_r.classes_)\n",
    "print(\"Our Models Intercept is:\", model_r.intercept_)\n",
    "print(\"Our Models Coefficients are:\",model_r.coef_)\n",
    "\n",
    "#Evaluate Model's Performance on Test Dataset\n",
    "display(pd.DataFrame(model_r.predict_proba(p_test_r.reshape(-1,1)),columns=['Right Tap(0) ','Left Tap(1)']))\n",
    "display(pd.DataFrame(model_r.predict(p_test_r.reshape(-1,1)),columns=['Model Prediction']))\n",
    "y_pred=model_r.predict(p_test_r.reshape(-1,1)) #Predict tapping for test dataset\n",
    "print(\"Accuracy:\",accuracy_score(y_test, y_pred)) #Accuracy on Completely New Dataset\n",
    "print(\"Precision:\",precision_score(y_test, y_pred,average='weighted'))\n",
    "print(\"Recall:\",recall_score(y_test, y_pred,average='weighted'))\n",
    "\n",
    "#Cross Validation Score for l1 Penalty\n",
    "scores = cross_val_score(model_r,x2,blocks,cv=20)\n",
    "print(\"Cross Validation prediction error for liblinear solver with a l2 penalty is\",scores.mean())"
   ]
  },
  {
   "cell_type": "code",
   "execution_count": 68,
   "id": "9ef5683b",
   "metadata": {
    "scrolled": true
   },
   "outputs": [
    {
     "data": {
      "image/png": "[encoded data removed]",
      "text/plain": [
       "<Figure size 576x576 with 1 Axes>"
      ]
     },
     "metadata": {
      "needs_background": "light"
     },
     "output_type": "display_data"
    }
   ],
   "source": [
    "#More Evaluation Metrics\n",
    "cm = confusion_matrix(y_test,y_pred)\n",
    "\n",
    "fig, ax = plt.subplots(figsize=(8, 8))\n",
    "ax.imshow(cm)\n",
    "ax.grid(False)\n",
    "ax.xaxis.set(ticks=(0, 1), ticklabels=('Predicted 0s', 'Predicted 1s'))\n",
    "ax.yaxis.set(ticks=(0, 1), ticklabels=('Actual 0s', 'Actual 1s'))\n",
    "ax.set_ylim(1.5, -0.5)\n",
    "for i in range(2):\n",
    "    for j in range(2):\n",
    "        ax.text(j, i, cm[i, j], ha='center', va='center', color='red')\n",
    "plt.show()"
   ]
  },
  {
   "cell_type": "markdown",
   "id": "3a8630b2",
   "metadata": {},
   "source": [
    "## Hyperparameter Tuning Using Cross Validation"
   ]
  },
  {
   "cell_type": "code",
   "execution_count": 69,
   "id": "d0ca60b2",
   "metadata": {},
   "outputs": [
    {
     "name": "stdout",
     "output_type": "stream",
     "text": [
      "Accuracy for liblinear solver with a l1 penalty is: 0.8125675189052934\n",
      "Precision for liblinear solver with a l1 penalty is: 0.8181667455292889\n",
      "Recall for liblinear solver with a l1 penalty is: 0.8125675189052934\n",
      "Accuracy for saga solver with a elasticnet penalty is: 0.8122074180770615\n",
      "Precision for saga solver with a elasticnet penalty is: 0.8179266665542647\n",
      "Recall for saga solver with a elasticnet penalty is: 0.8122074180770615\n"
     ]
    }
   ],
   "source": [
    "# Regularization penalty optimization\n",
    "p=np.array(['l1','elasticnet']) #penalty array\n",
    "s=np.array(['liblinear','saga']) #solver array\n",
    "r=np.array([None,0.8])\n",
    "\n",
    "for i in range(2):\n",
    "    skf = StratifiedKFold(n_splits=20, shuffle=True, random_state=1,)\n",
    "    y_true, y_pred = np.zeros(5554), np.zeros(5554)\n",
    "\n",
    "    for train_index, test_index in skf.split(x2,blocks):\n",
    "        X_train, X_test = x2[train_index], x2[test_index]\n",
    "        y_train, y_test = blocks[train_index], blocks[test_index]\n",
    "     \n",
    "        #Create Linear Regression model with varying solver and associated penalty\n",
    "        model_r = LogisticRegression(penalty=p[i],solver=s[i],l1_ratio=r[i],random_state=0)\n",
    "\n",
    "        #Fit the Model to training set\n",
    "        model_r.fit(x2[train_index],blocks[train_index]) #Blocks is y_train\n",
    "\n",
    "        #Predict Tapping \n",
    "        pred=model_r.predict(x2[test_index]) \n",
    "    \n",
    "        #Store predicted vs true values\n",
    "        y_true[test_index]=y_test\n",
    "        y_pred[test_index]=pred #Storing our tapping predictions\n",
    "    \n",
    "    print(\"Accuracy for\", s[i],\"solver with a\",p[i],\"penalty is:\",accuracy_score(y_true, y_pred))\n",
    "    print(\"Precision for\",s[i],\"solver with a\",p[i],\"penalty is:\",precision_score(y_true, y_pred,average='weighted'))\n",
    "    print(\"Recall for\", s[i],\"solver with a\",p[i],\"penalty is:\", recall_score(y_true, y_pred,average='weighted'))"
   ]
  },
  {
   "cell_type": "code",
   "execution_count": 70,
   "id": "876ecf5a",
   "metadata": {},
   "outputs": [
    {
     "name": "stdout",
     "output_type": "stream",
     "text": [
      "Accuracy Value for liblinear solver with a l1 penalty is 0.5984879624192601\n",
      "Accuracy Value for saga solver with a elasticnet penalty is 0.5977216676453316\n"
     ]
    }
   ],
   "source": [
    "# Regularization penalty optimization\n",
    "\n",
    "#Easier Way to Perform Cross Validation\n",
    "from sklearn.model_selection import cross_val_score\n",
    "for i in range(2):\n",
    "    clf = LogisticRegression(penalty=p[i],solver=s[i],l1_ratio=r[i],random_state=0)\n",
    "    scores = cross_val_score(clf, x2,blocks , cv=20)\n",
    "    print(\"Accuracy Value for\", s[i],\"solver with a\",p[i],\"penalty is\",scores.mean())"
   ]
  },
  {
   "cell_type": "markdown",
   "id": "168977c0",
   "metadata": {},
   "source": [
    "No significant change in accuracy was observed when we changed the regularization penalty from l2 (defualt) to l1 and elasticnet. "
   ]
  },
  {
   "cell_type": "code",
   "execution_count": 71,
   "id": "aed0146b",
   "metadata": {},
   "outputs": [
    {
     "data": {
      "text/plain": [
       "<matplotlib.legend.Legend at 0x7fb4f6bede20>"
      ]
     },
     "execution_count": 71,
     "metadata": {},
     "output_type": "execute_result"
    },
    {
     "data": {
      "image/png": "[encoded data removed]",
      "text/plain": [
       "<Figure size 432x288 with 1 Axes>"
      ]
     },
     "metadata": {
      "needs_background": "light"
     },
     "output_type": "display_data"
    }
   ],
   "source": [
    "# C parameter optimization\n",
    "c=np.logspace(-3,0,num=20)\n",
    "ac=np.empty(20)\n",
    "\n",
    "for i in range(20):\n",
    "    clf = LogisticRegression(solver='liblinear',C=c[i],random_state=0)\n",
    "    score = cross_val_score(clf, x2,blocks , cv=20)\n",
    "    ac[i]=score.mean()\n",
    "#Plot Accuracy as a Function of Varying C values\n",
    "plt.plot(c,ac,'r-',label=\"Q2Y\")\n",
    "#plt.plot(a,p,'b-',label=\"R2Y\")\n",
    "plt.xlabel(\"C Value\")\n",
    "plt.ylabel(\"Prediction Accuracy\")\n",
    "plt.title(\"Effects of Varying Gamma on Model's Prediction Accuracy\")\n",
    "plt.legend()"
   ]
  },
  {
   "cell_type": "markdown",
   "id": "a84ae17c",
   "metadata": {},
   "source": [
    "We observe that there is no effect of varying C value on the model's ability to predict."
   ]
  },
  {
   "cell_type": "markdown",
   "id": "52e7b33b",
   "metadata": {},
   "source": [
    "https://realpython.com/logistic-regression-python/"
   ]
  },
  {
   "cell_type": "markdown",
   "id": "e9fa22b5",
   "metadata": {},
   "source": [
    "## Logistic Regression Models Trained on All Channels"
   ]
  },
  {
   "cell_type": "code",
   "execution_count": 72,
   "id": "1ca3ea2e",
   "metadata": {},
   "outputs": [
    {
     "data": {
      "image/png": "[encoded data removed]",
      "text/plain": [
       "<Figure size 576x576 with 1 Axes>"
      ]
     },
     "metadata": {
      "needs_background": "light"
     },
     "output_type": "display_data"
    },
    {
     "name": "stdout",
     "output_type": "stream",
     "text": [
      "Our logistic regression model's accuracy for Patient 1 Run 1 is 0.4846674631620868.\n"
     ]
    }
   ],
   "source": [
    "#Patient 1 Run 1\n",
    "#10-Fold Cross Validation\n",
    "CV_predicted_Y_array_reg = []\n",
    "Y_test_array_reg = []\n",
    "\n",
    "kf = KFold(n_splits=10)\n",
    "for train_index, test_index in kf.split(filt_right_left_data.T):\n",
    "    X_train, X_test = filt_right_left_data.T[train_index], filt_right_left_data.T[test_index]\n",
    "    Y_train, Y_test = filt_right_left_labels[train_index], filt_right_left_labels[test_index]\n",
    "    Y_test_array_reg.append(Y_test)\n",
    "    reg = LogisticRegression(solver='liblinear',random_state=0)\n",
    "    reg.fit(X_train, Y_train)\n",
    "    CV_predicted_Y_array_reg.append(reg.predict(X_test))\n",
    "    \n",
    "Y_test_total_reg=[]\n",
    "\n",
    "for i in range(len(Y_test_array_reg)):\n",
    "    for s in range(len(Y_test_array_reg[i])):\n",
    "        Y_test_total_reg.append(Y_test_array_reg[i][s])\n",
    "        \n",
    "CV_predicted_Y_total_reg=[]\n",
    "\n",
    "for i in range(len(CV_predicted_Y_array_reg)):\n",
    "    for s in range(len(CV_predicted_Y_array_reg[i])):\n",
    "        CV_predicted_Y_total_reg.append(CV_predicted_Y_array_reg[i][s])\n",
    "                \n",
    "#Confusion Matrix\n",
    "cm = confusion_matrix(Y_test_total_reg,CV_predicted_Y_total_reg)\n",
    "\n",
    "fig, ax = plt.subplots(figsize=(8, 8))\n",
    "ax.imshow(cm)\n",
    "ax.grid(False)\n",
    "ax.xaxis.set(ticks=(0, 1), ticklabels=('Predicted 0s', 'Predicted 1s'))\n",
    "ax.yaxis.set(ticks=(0, 1), ticklabels=('Actual 0s', 'Actual 1s'))\n",
    "ax.set_ylim(1.5, -0.5)\n",
    "for i in range(2):\n",
    "    for j in range(2):\n",
    "        ax.text(j, i, cm[i, j], ha='center', va='center', color='red')\n",
    "plt.show()\n",
    "\n",
    "print(\"Our logistic regression model's accuracy for Patient 1 Run 1 is \" + str(accuracy_score(Y_test_total_reg,CV_predicted_Y_total_reg)) + \".\")"
   ]
  },
  {
   "cell_type": "code",
   "execution_count": 98,
   "id": "a6d5efe1",
   "metadata": {},
   "outputs": [
    {
     "data": {
      "image/png": "[encoded data removed]",
      "text/plain": [
       "<Figure size 576x576 with 1 Axes>"
      ]
     },
     "metadata": {
      "needs_background": "light"
     },
     "output_type": "display_data"
    },
    {
     "name": "stdout",
     "output_type": "stream",
     "text": [
      "Our logistic regression model's accuracy for Patient 1 Run 1's HbO data is 0.49860613301473516.\n"
     ]
    }
   ],
   "source": [
    "#Patient 1 Run 1- HbO Only\n",
    "#10-Fold Cross Validation\n",
    "CV_predicted_Y_array_reg = []\n",
    "Y_test_array_reg = []\n",
    "filt_hbo= filt_right_left_data[real_is_hbo]\n",
    "\n",
    "kf = KFold(n_splits=10)\n",
    "for train_index, test_index in kf.split(filt_hbo.T):\n",
    "    X_train, X_test = filt_hbo.T[train_index], filt_hbo.T[test_index]\n",
    "    Y_train, Y_test = filt_right_left_labels[train_index], filt_right_left_labels[test_index]\n",
    "    Y_test_array_reg.append(Y_test)\n",
    "    reg = LogisticRegression(solver='liblinear',random_state=0)\n",
    "    reg.fit(X_train, Y_train)\n",
    "    CV_predicted_Y_array_reg.append(reg.predict(X_test))\n",
    "    \n",
    "Y_test_total_reg=[]\n",
    "\n",
    "for i in range(len(Y_test_array_reg)):\n",
    "    for s in range(len(Y_test_array_reg[i])):\n",
    "        Y_test_total_reg.append(Y_test_array_reg[i][s])\n",
    "        \n",
    "CV_predicted_Y_total_reg=[]\n",
    "\n",
    "for i in range(len(CV_predicted_Y_array_reg)):\n",
    "    for s in range(len(CV_predicted_Y_array_reg[i])):\n",
    "        CV_predicted_Y_total_reg.append(CV_predicted_Y_array_reg[i][s])\n",
    "                \n",
    "#Confusion Matrix\n",
    "cm = confusion_matrix(Y_test_total_reg,CV_predicted_Y_total_reg)\n",
    "\n",
    "fig, ax = plt.subplots(figsize=(8, 8))\n",
    "ax.imshow(cm)\n",
    "ax.grid(False)\n",
    "ax.xaxis.set(ticks=(0, 1), ticklabels=('Predicted 0s', 'Predicted 1s'))\n",
    "ax.yaxis.set(ticks=(0, 1), ticklabels=('Actual 0s', 'Actual 1s'))\n",
    "ax.set_ylim(1.5, -0.5)\n",
    "for i in range(2):\n",
    "    for j in range(2):\n",
    "        ax.text(j, i, cm[i, j], ha='center', va='center', color='red')\n",
    "plt.show()\n",
    "\n",
    "print(\"Our logistic regression model's accuracy for Patient 1 Run 1's HbO data is \" + str(accuracy_score(Y_test_total_reg,CV_predicted_Y_total_reg)) + \".\")"
   ]
  },
  {
   "cell_type": "code",
   "execution_count": 99,
   "id": "10a3937c",
   "metadata": {},
   "outputs": [
    {
     "data": {
      "image/png": "[encoded data removed]",
      "text/plain": [
       "<Figure size 576x576 with 1 Axes>"
      ]
     },
     "metadata": {
      "needs_background": "light"
     },
     "output_type": "display_data"
    },
    {
     "name": "stdout",
     "output_type": "stream",
     "text": [
      "Our logistic regression model's accuracy for Patient 1 Run 1's HbR data is 0.5718837116686579.\n"
     ]
    }
   ],
   "source": [
    "#Patient 1 Run 1- HbR Only\n",
    "#10-Fold Cross Validation\n",
    "CV_predicted_Y_array_reg = []\n",
    "Y_test_array_reg = []\n",
    "filt_hbr= filt_right_left_data[real_is_hbo==False]\n",
    "\n",
    "kf = KFold(n_splits=10)\n",
    "for train_index, test_index in kf.split(filt_hbr.T):\n",
    "    X_train, X_test = filt_hbr.T[train_index], filt_hbr.T[test_index]\n",
    "    Y_train, Y_test = filt_right_left_labels[train_index], filt_right_left_labels[test_index]\n",
    "    Y_test_array_reg.append(Y_test)\n",
    "    reg = LogisticRegression(solver='liblinear',random_state=0)\n",
    "    reg.fit(X_train, Y_train)\n",
    "    CV_predicted_Y_array_reg.append(reg.predict(X_test))\n",
    "    \n",
    "Y_test_total_reg=[]\n",
    "\n",
    "for i in range(len(Y_test_array_reg)):\n",
    "    for s in range(len(Y_test_array_reg[i])):\n",
    "        Y_test_total_reg.append(Y_test_array_reg[i][s])\n",
    "        \n",
    "CV_predicted_Y_total_reg=[]\n",
    "\n",
    "for i in range(len(CV_predicted_Y_array_reg)):\n",
    "    for s in range(len(CV_predicted_Y_array_reg[i])):\n",
    "        CV_predicted_Y_total_reg.append(CV_predicted_Y_array_reg[i][s])\n",
    "                \n",
    "#Confusion Matrix\n",
    "cm = confusion_matrix(Y_test_total_reg,CV_predicted_Y_total_reg)\n",
    "\n",
    "fig, ax = plt.subplots(figsize=(8, 8))\n",
    "ax.imshow(cm)\n",
    "ax.grid(False)\n",
    "ax.xaxis.set(ticks=(0, 1), ticklabels=('Predicted 0s', 'Predicted 1s'))\n",
    "ax.yaxis.set(ticks=(0, 1), ticklabels=('Actual 0s', 'Actual 1s'))\n",
    "ax.set_ylim(1.5, -0.5)\n",
    "for i in range(2):\n",
    "    for j in range(2):\n",
    "        ax.text(j, i, cm[i, j], ha='center', va='center', color='red')\n",
    "plt.show()\n",
    "\n",
    "print(\"Our logistic regression model's accuracy for Patient 1 Run 1's HbR data is \" + str(accuracy_score(Y_test_total_reg,CV_predicted_Y_total_reg)) + \".\")"
   ]
  },
  {
   "cell_type": "code",
   "execution_count": 75,
   "id": "139a44c1",
   "metadata": {},
   "outputs": [
    {
     "data": {
      "image/png": "[encoded data removed]",
      "text/plain": [
       "<Figure size 576x576 with 1 Axes>"
      ]
     },
     "metadata": {
      "needs_background": "light"
     },
     "output_type": "display_data"
    },
    {
     "name": "stdout",
     "output_type": "stream",
     "text": [
      "Our logistic regression model's accuracy for Patient 1 Run 2 is 0.5885947046843177.\n"
     ]
    }
   ],
   "source": [
    "#Patient 1 Run 2\n",
    "#10-Fold Cross Validation\n",
    "CV_predicted_Y_array_reg_1 = []\n",
    "Y_test_array_reg_1 = []\n",
    "\n",
    "kf = KFold(n_splits=10)\n",
    "for train_index, test_index in kf.split(filt_right_left_data_1.T):\n",
    "    X_train, X_test = filt_right_left_data_1.T[train_index], filt_right_left_data_1.T[test_index]\n",
    "    Y_train, Y_test = filt_right_left_labels_1[train_index], filt_right_left_labels_1[test_index]\n",
    "    Y_test_array_reg_1.append(Y_test)\n",
    "    reg = LogisticRegression(solver='liblinear',random_state=0)\n",
    "    reg.fit(X_train, Y_train)\n",
    "    CV_predicted_Y_array_reg_1.append(reg.predict(X_test))\n",
    "    \n",
    "Y_test_total_reg_1=[]\n",
    "\n",
    "for i in range(len(Y_test_array_reg_1)):\n",
    "    for s in range(len(Y_test_array_reg_1[i])):\n",
    "        Y_test_total_reg_1.append(Y_test_array_reg_1[i][s])\n",
    "        \n",
    "CV_predicted_Y_total_reg_1=[]\n",
    "\n",
    "for i in range(len(CV_predicted_Y_array_reg_1)):\n",
    "    for s in range(len(CV_predicted_Y_array_reg_1[i])):\n",
    "        CV_predicted_Y_total_reg_1.append(CV_predicted_Y_array_reg_1[i][s])\n",
    "                \n",
    "#SVM Confusion Matrix\n",
    "cm = confusion_matrix(Y_test_total_reg_1,CV_predicted_Y_total_reg_1)\n",
    "\n",
    "fig, ax = plt.subplots(figsize=(8, 8))\n",
    "ax.imshow(cm)\n",
    "ax.grid(False)\n",
    "ax.xaxis.set(ticks=(0, 1), ticklabels=('Predicted 0s', 'Predicted 1s'))\n",
    "ax.yaxis.set(ticks=(0, 1), ticklabels=('Actual 0s', 'Actual 1s'))\n",
    "ax.set_ylim(1.5, -0.5)\n",
    "for i in range(2):\n",
    "    for j in range(2):\n",
    "        ax.text(j, i, cm[i, j], ha='center', va='center', color='red')\n",
    "plt.show()\n",
    "\n",
    "print(\"Our logistic regression model's accuracy for Patient 1 Run 2 is \" + str(accuracy_score(Y_test_total_reg_1,CV_predicted_Y_total_reg_1)) + \".\")"
   ]
  },
  {
   "cell_type": "code",
   "execution_count": 100,
   "id": "919bc285",
   "metadata": {},
   "outputs": [
    {
     "data": {
      "image/png": "[encoded data removed]",
      "text/plain": [
       "<Figure size 576x576 with 1 Axes>"
      ]
     },
     "metadata": {
      "needs_background": "light"
     },
     "output_type": "display_data"
    },
    {
     "name": "stdout",
     "output_type": "stream",
     "text": [
      "Our logistic regression model's accuracy for Patient 1 Run 2's HbO's data is 0.5773930753564155.\n"
     ]
    }
   ],
   "source": [
    "#Patient 1 Run 2- HbO Only\n",
    "#10-Fold Cross Validation\n",
    "CV_predicted_Y_array_reg_1 = []\n",
    "Y_test_array_reg_1 = []\n",
    "filt_hbo_1= filt_right_left_data_1[real_is_hbo_1]\n",
    "\n",
    "kf = KFold(n_splits=10)\n",
    "for train_index, test_index in kf.split(filt_hbo_1.T):\n",
    "    X_train, X_test = filt_hbo_1.T[train_index], filt_hbo_1.T[test_index]\n",
    "    Y_train, Y_test = filt_right_left_labels_1[train_index], filt_right_left_labels_1[test_index]\n",
    "    Y_test_array_reg_1.append(Y_test)\n",
    "    reg = LogisticRegression(solver='liblinear',random_state=0)\n",
    "    reg.fit(X_train, Y_train)\n",
    "    CV_predicted_Y_array_reg_1.append(reg.predict(X_test))\n",
    "    \n",
    "Y_test_total_reg_1=[]\n",
    "\n",
    "for i in range(len(Y_test_array_reg_1)):\n",
    "    for s in range(len(Y_test_array_reg_1[i])):\n",
    "        Y_test_total_reg_1.append(Y_test_array_reg_1[i][s])\n",
    "        \n",
    "CV_predicted_Y_total_reg_1=[]\n",
    "\n",
    "for i in range(len(CV_predicted_Y_array_reg_1)):\n",
    "    for s in range(len(CV_predicted_Y_array_reg_1[i])):\n",
    "        CV_predicted_Y_total_reg_1.append(CV_predicted_Y_array_reg_1[i][s])\n",
    "                \n",
    "#SVM Confusion Matrix\n",
    "cm = confusion_matrix(Y_test_total_reg_1,CV_predicted_Y_total_reg_1)\n",
    "\n",
    "fig, ax = plt.subplots(figsize=(8, 8))\n",
    "ax.imshow(cm)\n",
    "ax.grid(False)\n",
    "ax.xaxis.set(ticks=(0, 1), ticklabels=('Predicted 0s', 'Predicted 1s'))\n",
    "ax.yaxis.set(ticks=(0, 1), ticklabels=('Actual 0s', 'Actual 1s'))\n",
    "ax.set_ylim(1.5, -0.5)\n",
    "for i in range(2):\n",
    "    for j in range(2):\n",
    "        ax.text(j, i, cm[i, j], ha='center', va='center', color='red')\n",
    "plt.show()\n",
    "\n",
    "print(\"Our logistic regression model's accuracy for Patient 1 Run 2's HbO's data is \" + str(accuracy_score(Y_test_total_reg_1,CV_predicted_Y_total_reg_1)) + \".\")"
   ]
  },
  {
   "cell_type": "code",
   "execution_count": 101,
   "id": "f680487c",
   "metadata": {},
   "outputs": [
    {
     "data": {
      "image/png": "[encoded data removed]",
      "text/plain": [
       "<Figure size 576x576 with 1 Axes>"
      ]
     },
     "metadata": {
      "needs_background": "light"
     },
     "output_type": "display_data"
    },
    {
     "name": "stdout",
     "output_type": "stream",
     "text": [
      "Our logistic regression model's accuracy for Patient 1 Run 2's HbR data is 0.5858791581805839.\n"
     ]
    }
   ],
   "source": [
    "#Patient 1 Run 2- HbR Only\n",
    "#10-Fold Cross Validation\n",
    "CV_predicted_Y_array_reg_1 = []\n",
    "Y_test_array_reg_1 = []\n",
    "filt_hbr_1= filt_right_left_data_1[real_is_hbo_1==False]\n",
    "\n",
    "kf = KFold(n_splits=10)\n",
    "for train_index, test_index in kf.split(filt_hbr_1.T):\n",
    "    X_train, X_test = filt_hbr_1.T[train_index], filt_hbr_1.T[test_index]\n",
    "    Y_train, Y_test = filt_right_left_labels_1[train_index], filt_right_left_labels_1[test_index]\n",
    "    Y_test_array_reg_1.append(Y_test)\n",
    "    reg = LogisticRegression(solver='liblinear',random_state=0)\n",
    "    reg.fit(X_train, Y_train)\n",
    "    CV_predicted_Y_array_reg_1.append(reg.predict(X_test))\n",
    "    \n",
    "Y_test_total_reg_1=[]\n",
    "\n",
    "for i in range(len(Y_test_array_reg_1)):\n",
    "    for s in range(len(Y_test_array_reg_1[i])):\n",
    "        Y_test_total_reg_1.append(Y_test_array_reg_1[i][s])\n",
    "        \n",
    "CV_predicted_Y_total_reg_1=[]\n",
    "\n",
    "for i in range(len(CV_predicted_Y_array_reg_1)):\n",
    "    for s in range(len(CV_predicted_Y_array_reg_1[i])):\n",
    "        CV_predicted_Y_total_reg_1.append(CV_predicted_Y_array_reg_1[i][s])\n",
    "                \n",
    "#SVM Confusion Matrix\n",
    "cm = confusion_matrix(Y_test_total_reg_1,CV_predicted_Y_total_reg_1)\n",
    "\n",
    "fig, ax = plt.subplots(figsize=(8, 8))\n",
    "ax.imshow(cm)\n",
    "ax.grid(False)\n",
    "ax.xaxis.set(ticks=(0, 1), ticklabels=('Predicted 0s', 'Predicted 1s'))\n",
    "ax.yaxis.set(ticks=(0, 1), ticklabels=('Actual 0s', 'Actual 1s'))\n",
    "ax.set_ylim(1.5, -0.5)\n",
    "for i in range(2):\n",
    "    for j in range(2):\n",
    "        ax.text(j, i, cm[i, j], ha='center', va='center', color='red')\n",
    "plt.show()\n",
    "\n",
    "print(\"Our logistic regression model's accuracy for Patient 1 Run 2's HbR data is \" + str(accuracy_score(Y_test_total_reg_1,CV_predicted_Y_total_reg_1)) + \".\")"
   ]
  },
  {
   "cell_type": "code",
   "execution_count": 102,
   "id": "38efc996",
   "metadata": {},
   "outputs": [
    {
     "data": {
      "image/png": "[encoded data removed]",
      "text/plain": [
       "<Figure size 576x576 with 1 Axes>"
      ]
     },
     "metadata": {
      "needs_background": "light"
     },
     "output_type": "display_data"
    },
    {
     "name": "stdout",
     "output_type": "stream",
     "text": [
      "Our logistic regression model's accuracy for Patient 2 is 0.5884536082474227.\n"
     ]
    }
   ],
   "source": [
    "#Patient 2\n",
    "#10-Fold Cross Validation\n",
    "CV_predicted_Y_array_reg_2 = []\n",
    "Y_test_array_reg_2 = []\n",
    "\n",
    "kf = KFold(n_splits=10)\n",
    "for train_index, test_index in kf.split(filt_right_left_data_2.T):\n",
    "    X_train, X_test = filt_right_left_data_2.T[train_index], filt_right_left_data_2.T[test_index]\n",
    "    Y_train, Y_test = filt_right_left_labels_2[train_index], filt_right_left_labels_2[test_index]\n",
    "    Y_test_array_reg_2.append(Y_test)\n",
    "    reg = LogisticRegression(solver='liblinear',random_state=0)\n",
    "    reg.fit(X_train, Y_train)\n",
    "    CV_predicted_Y_array_reg_2.append(reg.predict(X_test))\n",
    "    \n",
    "Y_test_total_reg_2=[]\n",
    "\n",
    "for i in range(len(Y_test_array_reg_2)):\n",
    "    for s in range(len(Y_test_array_reg_2[i])):\n",
    "        Y_test_total_reg_2.append(Y_test_array_reg_2[i][s])\n",
    "        \n",
    "CV_predicted_Y_total_reg_2=[]\n",
    "\n",
    "for i in range(len(CV_predicted_Y_array_reg_2)):\n",
    "    for s in range(len(CV_predicted_Y_array_reg_2[i])):\n",
    "        CV_predicted_Y_total_reg_2.append(CV_predicted_Y_array_reg_2[i][s])\n",
    "                \n",
    "#SVM Confusion Matrix\n",
    "cm = confusion_matrix(Y_test_total_reg_2,CV_predicted_Y_total_reg_2)\n",
    "\n",
    "fig, ax = plt.subplots(figsize=(8, 8))\n",
    "ax.imshow(cm)\n",
    "ax.grid(False)\n",
    "ax.xaxis.set(ticks=(0, 1), ticklabels=('Predicted 0s', 'Predicted 1s'))\n",
    "ax.yaxis.set(ticks=(0, 1), ticklabels=('Actual 0s', 'Actual 1s'))\n",
    "ax.set_ylim(1.5, -0.5)\n",
    "for i in range(2):\n",
    "    for j in range(2):\n",
    "        ax.text(j, i, cm[i, j], ha='center', va='center', color='red')\n",
    "plt.show()\n",
    "\n",
    "print(\"Our logistic regression model's accuracy for Patient 2 is \" + str(accuracy_score(Y_test_total_reg_2,CV_predicted_Y_total_reg_2)) + \".\")"
   ]
  },
  {
   "cell_type": "code",
   "execution_count": 103,
   "id": "190f5b37",
   "metadata": {},
   "outputs": [
    {
     "data": {
      "image/png": "[encoded data removed]",
      "text/plain": [
       "<Figure size 576x576 with 1 Axes>"
      ]
     },
     "metadata": {
      "needs_background": "light"
     },
     "output_type": "display_data"
    },
    {
     "name": "stdout",
     "output_type": "stream",
     "text": [
      "Our logistic regression model's accuracy for Patient 2's HbO data is 0.5855670103092784.\n"
     ]
    }
   ],
   "source": [
    "#Patient 2- HbO\n",
    "#10-Fold Cross Validation\n",
    "CV_predicted_Y_array_reg_2 = []\n",
    "Y_test_array_reg_2 = []\n",
    "filt_hbo_2= filt_right_left_data_2[real_is_hbo_2]\n",
    "\n",
    "kf = KFold(n_splits=10)\n",
    "for train_index, test_index in kf.split(filt_hbo_2.T):\n",
    "    X_train, X_test = filt_hbo_2.T[train_index], filt_hbo_2.T[test_index]\n",
    "    Y_train, Y_test = filt_right_left_labels_2[train_index], filt_right_left_labels_2[test_index]\n",
    "    Y_test_array_reg_2.append(Y_test)\n",
    "    reg = LogisticRegression(solver='liblinear',random_state=0)\n",
    "    reg.fit(X_train, Y_train)\n",
    "    CV_predicted_Y_array_reg_2.append(reg.predict(X_test))\n",
    "    \n",
    "Y_test_total_reg_2=[]\n",
    "\n",
    "for i in range(len(Y_test_array_reg_2)):\n",
    "    for s in range(len(Y_test_array_reg_2[i])):\n",
    "        Y_test_total_reg_2.append(Y_test_array_reg_2[i][s])\n",
    "        \n",
    "CV_predicted_Y_total_reg_2=[]\n",
    "\n",
    "for i in range(len(CV_predicted_Y_array_reg_2)):\n",
    "    for s in range(len(CV_predicted_Y_array_reg_2[i])):\n",
    "        CV_predicted_Y_total_reg_2.append(CV_predicted_Y_array_reg_2[i][s])\n",
    "                \n",
    "#SVM Confusion Matrix\n",
    "cm = confusion_matrix(Y_test_total_reg_2,CV_predicted_Y_total_reg_2)\n",
    "\n",
    "fig, ax = plt.subplots(figsize=(8, 8))\n",
    "ax.imshow(cm)\n",
    "ax.grid(False)\n",
    "ax.xaxis.set(ticks=(0, 1), ticklabels=('Predicted 0s', 'Predicted 1s'))\n",
    "ax.yaxis.set(ticks=(0, 1), ticklabels=('Actual 0s', 'Actual 1s'))\n",
    "ax.set_ylim(1.5, -0.5)\n",
    "for i in range(2):\n",
    "    for j in range(2):\n",
    "        ax.text(j, i, cm[i, j], ha='center', va='center', color='red')\n",
    "plt.show()\n",
    "\n",
    "print(\"Our logistic regression model's accuracy for Patient 2's HbO data is \" + str(accuracy_score(Y_test_total_reg_2,CV_predicted_Y_total_reg_2)) + \".\")"
   ]
  },
  {
   "cell_type": "code",
   "execution_count": 105,
   "id": "28cc05d7",
   "metadata": {},
   "outputs": [
    {
     "data": {
      "image/png": "[encoded data removed]",
      "text/plain": [
       "<Figure size 576x576 with 1 Axes>"
      ]
     },
     "metadata": {
      "needs_background": "light"
     },
     "output_type": "display_data"
    },
    {
     "name": "stdout",
     "output_type": "stream",
     "text": [
      "Our logistic regression model's accuracy for Patient 2's HbR data is 0.6090721649484536.\n"
     ]
    }
   ],
   "source": [
    "#Patient 2- HbR\n",
    "#10-Fold Cross Validation\n",
    "CV_predicted_Y_array_reg_2 = []\n",
    "Y_test_array_reg_2 = []\n",
    "filt_hbr_2= filt_right_left_data_2[real_is_hbo_2==False]\n",
    "\n",
    "kf = KFold(n_splits=10)\n",
    "for train_index, test_index in kf.split(filt_hbr_2.T):\n",
    "    X_train, X_test = filt_hbr_2.T[train_index], filt_hbr_2.T[test_index]\n",
    "    Y_train, Y_test = filt_right_left_labels_2[train_index], filt_right_left_labels_2[test_index]\n",
    "    Y_test_array_reg_2.append(Y_test)\n",
    "    reg = LogisticRegression(solver='liblinear',random_state=0)\n",
    "    reg.fit(X_train, Y_train)\n",
    "    CV_predicted_Y_array_reg_2.append(reg.predict(X_test))\n",
    "    \n",
    "Y_test_total_reg_2=[]\n",
    "\n",
    "for i in range(len(Y_test_array_reg_2)):\n",
    "    for s in range(len(Y_test_array_reg_2[i])):\n",
    "        Y_test_total_reg_2.append(Y_test_array_reg_2[i][s])\n",
    "        \n",
    "CV_predicted_Y_total_reg_2=[]\n",
    "\n",
    "for i in range(len(CV_predicted_Y_array_reg_2)):\n",
    "    for s in range(len(CV_predicted_Y_array_reg_2[i])):\n",
    "        CV_predicted_Y_total_reg_2.append(CV_predicted_Y_array_reg_2[i][s])\n",
    "                \n",
    "#SVM Confusion Matrix\n",
    "cm = confusion_matrix(Y_test_total_reg_2,CV_predicted_Y_total_reg_2)\n",
    "\n",
    "fig, ax = plt.subplots(figsize=(8, 8))\n",
    "ax.imshow(cm)\n",
    "ax.grid(False)\n",
    "ax.xaxis.set(ticks=(0, 1), ticklabels=('Predicted 0s', 'Predicted 1s'))\n",
    "ax.yaxis.set(ticks=(0, 1), ticklabels=('Actual 0s', 'Actual 1s'))\n",
    "ax.set_ylim(1.5, -0.5)\n",
    "for i in range(2):\n",
    "    for j in range(2):\n",
    "        ax.text(j, i, cm[i, j], ha='center', va='center', color='red')\n",
    "plt.show()\n",
    "\n",
    "print(\"Our logistic regression model's accuracy for Patient 2's HbR data is \" + str(accuracy_score(Y_test_total_reg_2,CV_predicted_Y_total_reg_2)) + \".\")"
   ]
  },
  {
   "cell_type": "code",
   "execution_count": 81,
   "id": "a2f298a5",
   "metadata": {},
   "outputs": [
    {
     "name": "stdout",
     "output_type": "stream",
     "text": [
      "(2290, 2511)\n"
     ]
    }
   ],
   "source": [
    "print(filt_right_left_data.shape)"
   ]
  },
  {
   "cell_type": "markdown",
   "id": "bc096f2e",
   "metadata": {},
   "source": [
    "## PLS-DA Models"
   ]
  },
  {
   "cell_type": "code",
   "execution_count": 82,
   "id": "fb44d999",
   "metadata": {},
   "outputs": [
    {
     "name": "stdout",
     "output_type": "stream",
     "text": [
      "(2511, 2290)\n",
      "(2511,)\n"
     ]
    },
    {
     "data": {
      "text/plain": [
       "2290"
      ]
     },
     "execution_count": 82,
     "metadata": {},
     "output_type": "execute_result"
    }
   ],
   "source": [
    "print(filt_right_left_data.T.shape)\n",
    "print(filt_right_left_labels.shape)\n",
    "plsr_test=PLSRegression(n_components=2)\n",
    "plsr_test.fit(filt_right_left_data.T, filt_right_left_labels)\n",
    "plsr_test.n_features_in_"
   ]
  },
  {
   "cell_type": "code",
   "execution_count": 106,
   "id": "82a44ace",
   "metadata": {},
   "outputs": [
    {
     "data": {
      "image/png": "[encoded data removed]",
      "text/plain": [
       "<Figure size 576x576 with 1 Axes>"
      ]
     },
     "metadata": {
      "needs_background": "light"
     },
     "output_type": "display_data"
    },
    {
     "name": "stdout",
     "output_type": "stream",
     "text": [
      "Our PLS-DA model's accuracy for Patient 1 Run 1 is 0.5021903624054161.\n"
     ]
    }
   ],
   "source": [
    "#Patient 1 Run 1\n",
    "#10-Fold Cross Validation\n",
    "CV_predicted_Y_array_plsr = []\n",
    "Y_test_array_plsr = []\n",
    "\n",
    "kf = KFold(n_splits=10)\n",
    "for train_index, test_index in kf.split(filt_right_left_data.T):\n",
    "    X_train, X_test = filt_right_left_data.T[train_index], filt_right_left_data.T[test_index]\n",
    "    Y_train, Y_test = filt_right_left_labels[train_index], filt_right_left_labels[test_index]\n",
    "    Y_test_array_plsr.append(Y_test)\n",
    "    plsr=PLSRegression(n_components=2)\n",
    "    plsr.fit(X_train, Y_train)\n",
    "    CV_predicted_Y_array_plsr.append(plsr.predict(X_test))\n",
    "    \n",
    "Y_test_total_plsr=[]\n",
    "\n",
    "for i in range(len(Y_test_array_plsr)):\n",
    "    for s in range(len(Y_test_array_plsr[i])):\n",
    "        Y_test_total_plsr.append(Y_test_array_plsr[i][s])\n",
    "        \n",
    "CV_predicted_Y_total_plsr=[]\n",
    "\n",
    "for i in range(len(CV_predicted_Y_array_plsr)):\n",
    "    for s in range(len(CV_predicted_Y_array_plsr[i])):\n",
    "        CV_predicted_Y_total_plsr.append(CV_predicted_Y_array_plsr[i][s])\n",
    "        \n",
    "CV_predicted_Y_plsr=[]\n",
    "\n",
    "for i in CV_predicted_Y_total_plsr:\n",
    "    if i>=0.5:\n",
    "        CV_predicted_Y_plsr.append(1)\n",
    "    else:\n",
    "        CV_predicted_Y_plsr.append(0)\n",
    "        \n",
    "assert len(CV_predicted_Y_plsr)==len(CV_predicted_Y_total_plsr)\n",
    "        \n",
    "#PLSR Confusion Matrix\n",
    "cm = confusion_matrix(Y_test_total_plsr,CV_predicted_Y_plsr)\n",
    "\n",
    "fig, ax = plt.subplots(figsize=(8, 8))\n",
    "ax.imshow(cm)\n",
    "ax.grid(False)\n",
    "ax.xaxis.set(ticks=(0, 1), ticklabels=('Predicted 0s', 'Predicted 1s'))\n",
    "ax.yaxis.set(ticks=(0, 1), ticklabels=('Actual 0s', 'Actual 1s'))\n",
    "ax.set_ylim(1.5, -0.5)\n",
    "for i in range(2):\n",
    "    for j in range(2):\n",
    "        ax.text(j, i, cm[i, j], ha='center', va='center', color='red')\n",
    "plt.show()\n",
    "\n",
    "print(\"Our PLS-DA model's accuracy for Patient 1 Run 1 is \" + str(accuracy_score(Y_test_total_plsr,CV_predicted_Y_plsr)) + \".\")"
   ]
  },
  {
   "cell_type": "code",
   "execution_count": 107,
   "id": "b7bb14c8",
   "metadata": {},
   "outputs": [
    {
     "data": {
      "image/png": "[encoded data removed]",
      "text/plain": [
       "<Figure size 576x576 with 1 Axes>"
      ]
     },
     "metadata": {
      "needs_background": "light"
     },
     "output_type": "display_data"
    },
    {
     "name": "stdout",
     "output_type": "stream",
     "text": [
      "Our PLS-DA model's accuracy for Patient 1 Run 1's HbO data is 0.49382716049382713.\n"
     ]
    }
   ],
   "source": [
    "#Patient 1 Run 1- HbO only\n",
    "#10-Fold Cross Validation\n",
    "\n",
    "CV_predicted_Y_array_plsr = []\n",
    "Y_test_array_plsr = []\n",
    "\n",
    "kf = KFold(n_splits=10)\n",
    "for train_index, test_index in kf.split(filt_hbo.T):\n",
    "    X_train, X_test = filt_hbo.T[train_index], filt_hbo.T[test_index]\n",
    "    Y_train, Y_test = filt_right_left_labels[train_index], filt_right_left_labels[test_index]\n",
    "    Y_test_array_plsr.append(Y_test)\n",
    "    plsr=PLSRegression(n_components=2)\n",
    "    plsr.fit(X_train, Y_train)\n",
    "    CV_predicted_Y_array_plsr.append(plsr.predict(X_test))\n",
    "    \n",
    "Y_test_total_plsr=[]\n",
    "\n",
    "for i in range(len(Y_test_array_plsr)):\n",
    "    for s in range(len(Y_test_array_plsr[i])):\n",
    "        Y_test_total_plsr.append(Y_test_array_plsr[i][s])\n",
    "        \n",
    "CV_predicted_Y_total_plsr=[]\n",
    "\n",
    "for i in range(len(CV_predicted_Y_array_plsr)):\n",
    "    for s in range(len(CV_predicted_Y_array_plsr[i])):\n",
    "        CV_predicted_Y_total_plsr.append(CV_predicted_Y_array_plsr[i][s])\n",
    "        \n",
    "CV_predicted_Y_plsr=[]\n",
    "\n",
    "for i in CV_predicted_Y_total_plsr:\n",
    "    if i>=0.5:\n",
    "        CV_predicted_Y_plsr.append(1)\n",
    "    else:\n",
    "        CV_predicted_Y_plsr.append(0)\n",
    "        \n",
    "assert len(CV_predicted_Y_plsr)==len(CV_predicted_Y_total_plsr)\n",
    "        \n",
    "#PLSR Confusion Matrix\n",
    "cm = confusion_matrix(Y_test_total_plsr,CV_predicted_Y_plsr)\n",
    "\n",
    "fig, ax = plt.subplots(figsize=(8, 8))\n",
    "ax.imshow(cm)\n",
    "ax.grid(False)\n",
    "ax.xaxis.set(ticks=(0, 1), ticklabels=('Predicted 0s', 'Predicted 1s'))\n",
    "ax.yaxis.set(ticks=(0, 1), ticklabels=('Actual 0s', 'Actual 1s'))\n",
    "ax.set_ylim(1.5, -0.5)\n",
    "for i in range(2):\n",
    "    for j in range(2):\n",
    "        ax.text(j, i, cm[i, j], ha='center', va='center', color='red')\n",
    "plt.show()\n",
    "\n",
    "print(\"Our PLS-DA model's accuracy for Patient 1 Run 1's HbO data is \" + str(accuracy_score(Y_test_total_plsr,CV_predicted_Y_plsr)) + \".\")"
   ]
  },
  {
   "cell_type": "code",
   "execution_count": 108,
   "id": "75e70acd",
   "metadata": {},
   "outputs": [
    {
     "data": {
      "image/png": "[encoded data removed]",
      "text/plain": [
       "<Figure size 576x576 with 1 Axes>"
      ]
     },
     "metadata": {
      "needs_background": "light"
     },
     "output_type": "display_data"
    },
    {
     "name": "stdout",
     "output_type": "stream",
     "text": [
      "Our PLS-DA model's accuracy for Patient 1 Run 1's HbR data is 0.49183592194344883.\n"
     ]
    }
   ],
   "source": [
    "#Patient 1 Run 1- HbR only\n",
    "#10-Fold Cross Validation\n",
    "\n",
    "CV_predicted_Y_array_plsr = []\n",
    "Y_test_array_plsr = []\n",
    "\n",
    "kf = KFold(n_splits=10)\n",
    "for train_index, test_index in kf.split(filt_hbr.T):\n",
    "    X_train, X_test = filt_hbr.T[train_index], filt_hbr.T[test_index]\n",
    "    Y_train, Y_test = filt_right_left_labels[train_index], filt_right_left_labels[test_index]\n",
    "    Y_test_array_plsr.append(Y_test)\n",
    "    plsr=PLSRegression(n_components=2)\n",
    "    plsr.fit(X_train, Y_train)\n",
    "    CV_predicted_Y_array_plsr.append(plsr.predict(X_test))\n",
    "    \n",
    "Y_test_total_plsr=[]\n",
    "\n",
    "for i in range(len(Y_test_array_plsr)):\n",
    "    for s in range(len(Y_test_array_plsr[i])):\n",
    "        Y_test_total_plsr.append(Y_test_array_plsr[i][s])\n",
    "        \n",
    "CV_predicted_Y_total_plsr=[]\n",
    "\n",
    "for i in range(len(CV_predicted_Y_array_plsr)):\n",
    "    for s in range(len(CV_predicted_Y_array_plsr[i])):\n",
    "        CV_predicted_Y_total_plsr.append(CV_predicted_Y_array_plsr[i][s])\n",
    "        \n",
    "CV_predicted_Y_plsr=[]\n",
    "\n",
    "for i in CV_predicted_Y_total_plsr:\n",
    "    if i>=0.5:\n",
    "        CV_predicted_Y_plsr.append(1)\n",
    "    else:\n",
    "        CV_predicted_Y_plsr.append(0)\n",
    "        \n",
    "assert len(CV_predicted_Y_plsr)==len(CV_predicted_Y_total_plsr)\n",
    "        \n",
    "#PLSR Confusion Matrix\n",
    "cm = confusion_matrix(Y_test_total_plsr,CV_predicted_Y_plsr)\n",
    "\n",
    "fig, ax = plt.subplots(figsize=(8, 8))\n",
    "ax.imshow(cm)\n",
    "ax.grid(False)\n",
    "ax.xaxis.set(ticks=(0, 1), ticklabels=('Predicted 0s', 'Predicted 1s'))\n",
    "ax.yaxis.set(ticks=(0, 1), ticklabels=('Actual 0s', 'Actual 1s'))\n",
    "ax.set_ylim(1.5, -0.5)\n",
    "for i in range(2):\n",
    "    for j in range(2):\n",
    "        ax.text(j, i, cm[i, j], ha='center', va='center', color='red')\n",
    "plt.show()\n",
    "\n",
    "print(\"Our PLS-DA model's accuracy for Patient 1 Run 1's HbR data is \" + str(accuracy_score(Y_test_total_plsr,CV_predicted_Y_plsr)) + \".\")"
   ]
  },
  {
   "cell_type": "code",
   "execution_count": 109,
   "id": "d21240a6",
   "metadata": {},
   "outputs": [
    {
     "data": {
      "image/png": "[encoded data removed]",
      "text/plain": [
       "<Figure size 576x576 with 1 Axes>"
      ]
     },
     "metadata": {
      "needs_background": "light"
     },
     "output_type": "display_data"
    },
    {
     "name": "stdout",
     "output_type": "stream",
     "text": [
      "Our PLS-DA model's accuracy for Patient 1 Run 2 is 0.5162932790224033.\n"
     ]
    }
   ],
   "source": [
    "#Patient 1 Run 2\n",
    "#10-Fold Cross Validation\n",
    "CV_predicted_Y_array_plsr_1 = []\n",
    "Y_test_array_plsr_1 = []\n",
    "\n",
    "kf = KFold(n_splits=10)\n",
    "for train_index, test_index in kf.split(filt_right_left_data_1.T):\n",
    "    X_train, X_test = filt_right_left_data_1.T[train_index], filt_right_left_data_1.T[test_index]\n",
    "    Y_train, Y_test = filt_right_left_labels_1[train_index], filt_right_left_labels_1[test_index]\n",
    "    Y_test_array_plsr_1.append(Y_test)\n",
    "    plsr=PLSRegression(n_components=2)\n",
    "    plsr.fit(X_train, Y_train)\n",
    "    CV_predicted_Y_array_plsr_1.append(plsr.predict(X_test))\n",
    "    \n",
    "Y_test_total_plsr_1=[]\n",
    "\n",
    "for i in range(len(Y_test_array_plsr_1)):\n",
    "    for s in range(len(Y_test_array_plsr_1[i])):\n",
    "        Y_test_total_plsr_1.append(Y_test_array_plsr_1[i][s])\n",
    "        \n",
    "CV_predicted_Y_total_plsr_1=[]\n",
    "\n",
    "for i in range(len(CV_predicted_Y_array_plsr_1)):\n",
    "    for s in range(len(CV_predicted_Y_array_plsr_1[i])):\n",
    "        CV_predicted_Y_total_plsr_1.append(CV_predicted_Y_array_plsr_1[i][s])\n",
    "        \n",
    "CV_predicted_Y_plsr_1=[]\n",
    "\n",
    "for i in CV_predicted_Y_total_plsr_1:\n",
    "    if i>=0.5:\n",
    "        CV_predicted_Y_plsr_1.append(1)\n",
    "    else:\n",
    "        CV_predicted_Y_plsr_1.append(0)\n",
    "        \n",
    "assert len(CV_predicted_Y_plsr_1)==len(CV_predicted_Y_total_plsr_1)\n",
    "        \n",
    "#PLSR Confusion Matrix\n",
    "cm = confusion_matrix(Y_test_total_plsr_1,CV_predicted_Y_plsr_1)\n",
    "\n",
    "fig, ax = plt.subplots(figsize=(8, 8))\n",
    "ax.imshow(cm)\n",
    "ax.grid(False)\n",
    "ax.xaxis.set(ticks=(0, 1), ticklabels=('Predicted 0s', 'Predicted 1s'))\n",
    "ax.yaxis.set(ticks=(0, 1), ticklabels=('Actual 0s', 'Actual 1s'))\n",
    "ax.set_ylim(1.5, -0.5)\n",
    "for i in range(2):\n",
    "    for j in range(2):\n",
    "        ax.text(j, i, cm[i, j], ha='center', va='center', color='red')\n",
    "plt.show()\n",
    "\n",
    "print(\"Our PLS-DA model's accuracy for Patient 1 Run 2 is \" + str(accuracy_score(Y_test_total_plsr_1,CV_predicted_Y_plsr_1)) + \".\")"
   ]
  },
  {
   "cell_type": "code",
   "execution_count": 110,
   "id": "526b61b9",
   "metadata": {},
   "outputs": [
    {
     "data": {
      "image/png": "[encoded data removed]",
      "text/plain": [
       "<Figure size 576x576 with 1 Axes>"
      ]
     },
     "metadata": {
      "needs_background": "light"
     },
     "output_type": "display_data"
    },
    {
     "name": "stdout",
     "output_type": "stream",
     "text": [
      "Our PLS-DA model's accuracy for Patient 1 Run 2's HbO data is 0.5227427019687713.\n"
     ]
    }
   ],
   "source": [
    "#Patient 1 Run 2- HbO only\n",
    "#10-Fold Cross Validation\n",
    "CV_predicted_Y_array_plsr_1 = []\n",
    "Y_test_array_plsr_1 = []\n",
    "\n",
    "kf = KFold(n_splits=10)\n",
    "for train_index, test_index in kf.split(filt_hbo_1.T):\n",
    "    X_train, X_test = filt_hbo_1.T[train_index], filt_hbo_1.T[test_index]\n",
    "    Y_train, Y_test = filt_right_left_labels_1[train_index], filt_right_left_labels_1[test_index]\n",
    "    Y_test_array_plsr_1.append(Y_test)\n",
    "    plsr=PLSRegression(n_components=2)\n",
    "    plsr.fit(X_train, Y_train)\n",
    "    CV_predicted_Y_array_plsr_1.append(plsr.predict(X_test))\n",
    "    \n",
    "Y_test_total_plsr_1=[]\n",
    "\n",
    "for i in range(len(Y_test_array_plsr_1)):\n",
    "    for s in range(len(Y_test_array_plsr_1[i])):\n",
    "        Y_test_total_plsr_1.append(Y_test_array_plsr_1[i][s])\n",
    "        \n",
    "CV_predicted_Y_total_plsr_1=[]\n",
    "\n",
    "for i in range(len(CV_predicted_Y_array_plsr_1)):\n",
    "    for s in range(len(CV_predicted_Y_array_plsr_1[i])):\n",
    "        CV_predicted_Y_total_plsr_1.append(CV_predicted_Y_array_plsr_1[i][s])\n",
    "        \n",
    "CV_predicted_Y_plsr_1=[]\n",
    "\n",
    "for i in CV_predicted_Y_total_plsr_1:\n",
    "    if i>=0.5:\n",
    "        CV_predicted_Y_plsr_1.append(1)\n",
    "    else:\n",
    "        CV_predicted_Y_plsr_1.append(0)\n",
    "        \n",
    "assert len(CV_predicted_Y_plsr_1)==len(CV_predicted_Y_total_plsr_1)\n",
    "        \n",
    "#PLSR Confusion Matrix\n",
    "cm = confusion_matrix(Y_test_total_plsr_1,CV_predicted_Y_plsr_1)\n",
    "\n",
    "fig, ax = plt.subplots(figsize=(8, 8))\n",
    "ax.imshow(cm)\n",
    "ax.grid(False)\n",
    "ax.xaxis.set(ticks=(0, 1), ticklabels=('Predicted 0s', 'Predicted 1s'))\n",
    "ax.yaxis.set(ticks=(0, 1), ticklabels=('Actual 0s', 'Actual 1s'))\n",
    "ax.set_ylim(1.5, -0.5)\n",
    "for i in range(2):\n",
    "    for j in range(2):\n",
    "        ax.text(j, i, cm[i, j], ha='center', va='center', color='red')\n",
    "plt.show()\n",
    "\n",
    "print(\"Our PLS-DA model's accuracy for Patient 1 Run 2's HbO data is \" + str(accuracy_score(Y_test_total_plsr_1,CV_predicted_Y_plsr_1)) + \".\")"
   ]
  },
  {
   "cell_type": "code",
   "execution_count": 111,
   "id": "fabe6b0b",
   "metadata": {},
   "outputs": [
    {
     "data": {
      "image/png": "[encoded data removed]",
      "text/plain": [
       "<Figure size 576x576 with 1 Axes>"
      ]
     },
     "metadata": {
      "needs_background": "light"
     },
     "output_type": "display_data"
    },
    {
     "name": "stdout",
     "output_type": "stream",
     "text": [
      "Our PLS-DA model's accuracy for Patient 1 Run 2's HbR data is 0.5241004752206382.\n"
     ]
    }
   ],
   "source": [
    "#Patient 1 Run 2- HbR only\n",
    "#10-Fold Cross Validation\n",
    "CV_predicted_Y_array_plsr_1 = []\n",
    "Y_test_array_plsr_1 = []\n",
    "\n",
    "kf = KFold(n_splits=10)\n",
    "for train_index, test_index in kf.split(filt_hbr_1.T):\n",
    "    X_train, X_test = filt_hbr_1.T[train_index], filt_hbr_1.T[test_index]\n",
    "    Y_train, Y_test = filt_right_left_labels_1[train_index], filt_right_left_labels_1[test_index]\n",
    "    Y_test_array_plsr_1.append(Y_test)\n",
    "    plsr=PLSRegression(n_components=2)\n",
    "    plsr.fit(X_train, Y_train)\n",
    "    CV_predicted_Y_array_plsr_1.append(plsr.predict(X_test))\n",
    "    \n",
    "Y_test_total_plsr_1=[]\n",
    "\n",
    "for i in range(len(Y_test_array_plsr_1)):\n",
    "    for s in range(len(Y_test_array_plsr_1[i])):\n",
    "        Y_test_total_plsr_1.append(Y_test_array_plsr_1[i][s])\n",
    "        \n",
    "CV_predicted_Y_total_plsr_1=[]\n",
    "\n",
    "for i in range(len(CV_predicted_Y_array_plsr_1)):\n",
    "    for s in range(len(CV_predicted_Y_array_plsr_1[i])):\n",
    "        CV_predicted_Y_total_plsr_1.append(CV_predicted_Y_array_plsr_1[i][s])\n",
    "        \n",
    "CV_predicted_Y_plsr_1=[]\n",
    "\n",
    "for i in CV_predicted_Y_total_plsr_1:\n",
    "    if i>=0.5:\n",
    "        CV_predicted_Y_plsr_1.append(1)\n",
    "    else:\n",
    "        CV_predicted_Y_plsr_1.append(0)\n",
    "        \n",
    "assert len(CV_predicted_Y_plsr_1)==len(CV_predicted_Y_total_plsr_1)\n",
    "        \n",
    "#PLSR Confusion Matrix\n",
    "cm = confusion_matrix(Y_test_total_plsr_1,CV_predicted_Y_plsr_1)\n",
    "\n",
    "fig, ax = plt.subplots(figsize=(8, 8))\n",
    "ax.imshow(cm)\n",
    "ax.grid(False)\n",
    "ax.xaxis.set(ticks=(0, 1), ticklabels=('Predicted 0s', 'Predicted 1s'))\n",
    "ax.yaxis.set(ticks=(0, 1), ticklabels=('Actual 0s', 'Actual 1s'))\n",
    "ax.set_ylim(1.5, -0.5)\n",
    "for i in range(2):\n",
    "    for j in range(2):\n",
    "        ax.text(j, i, cm[i, j], ha='center', va='center', color='red')\n",
    "plt.show()\n",
    "\n",
    "print(\"Our PLS-DA model's accuracy for Patient 1 Run 2's HbR data is \" + str(accuracy_score(Y_test_total_plsr_1,CV_predicted_Y_plsr_1)) + \".\")"
   ]
  },
  {
   "cell_type": "code",
   "execution_count": 112,
   "id": "f1c59e7d",
   "metadata": {},
   "outputs": [
    {
     "data": {
      "image/png": "[encoded data removed]",
      "text/plain": [
       "<Figure size 576x576 with 1 Axes>"
      ]
     },
     "metadata": {
      "needs_background": "light"
     },
     "output_type": "display_data"
    },
    {
     "name": "stdout",
     "output_type": "stream",
     "text": [
      "Our PLS-DA model's accuracy for Patient 2 is 0.5397938144329897.\n"
     ]
    }
   ],
   "source": [
    "#Patient 2\n",
    "#10-Fold Cross Validation\n",
    "CV_predicted_Y_array_plsr_2 = []\n",
    "Y_test_array_plsr_2 = []\n",
    "\n",
    "kf = KFold(n_splits=10)\n",
    "for train_index, test_index in kf.split(filt_right_left_data_2.T):\n",
    "    X_train, X_test = filt_right_left_data_2.T[train_index], filt_right_left_data_2.T[test_index]\n",
    "    Y_train, Y_test = filt_right_left_labels_2[train_index], filt_right_left_labels_2[test_index]\n",
    "    Y_test_array_plsr_2.append(Y_test)\n",
    "    plsr=PLSRegression(n_components=2)\n",
    "    plsr.fit(X_train, Y_train)\n",
    "    CV_predicted_Y_array_plsr_2.append(plsr.predict(X_test))\n",
    "    \n",
    "Y_test_total_plsr_2=[]\n",
    "\n",
    "for i in range(len(Y_test_array_plsr_2)):\n",
    "    for s in range(len(Y_test_array_plsr_2[i])):\n",
    "        Y_test_total_plsr_2.append(Y_test_array_plsr_2[i][s])\n",
    "        \n",
    "CV_predicted_Y_total_plsr_2=[]\n",
    "\n",
    "for i in range(len(CV_predicted_Y_array_plsr_2)):\n",
    "    for s in range(len(CV_predicted_Y_array_plsr_2[i])):\n",
    "        CV_predicted_Y_total_plsr_2.append(CV_predicted_Y_array_plsr_2[i][s])\n",
    "        \n",
    "CV_predicted_Y_plsr_2=[]\n",
    "\n",
    "for i in CV_predicted_Y_total_plsr_2:\n",
    "    if i>=0.5:\n",
    "        CV_predicted_Y_plsr_2.append(1)\n",
    "    else:\n",
    "        CV_predicted_Y_plsr_2.append(0)\n",
    "        \n",
    "assert len(CV_predicted_Y_plsr_2)==len(CV_predicted_Y_total_plsr_2)\n",
    "        \n",
    "#PLSR Confusion Matrix\n",
    "cm = confusion_matrix(Y_test_total_plsr_2,CV_predicted_Y_plsr_2)\n",
    "\n",
    "fig, ax = plt.subplots(figsize=(8, 8))\n",
    "ax.imshow(cm)\n",
    "ax.grid(False)\n",
    "ax.xaxis.set(ticks=(0, 1), ticklabels=('Predicted 0s', 'Predicted 1s'))\n",
    "ax.yaxis.set(ticks=(0, 1), ticklabels=('Actual 0s', 'Actual 1s'))\n",
    "ax.set_ylim(1.5, -0.5)\n",
    "for i in range(2):\n",
    "    for j in range(2):\n",
    "        ax.text(j, i, cm[i, j], ha='center', va='center', color='red')\n",
    "plt.show()\n",
    "\n",
    "print(\"Our PLS-DA model's accuracy for Patient 2 is \" + str(accuracy_score(Y_test_total_plsr_2,CV_predicted_Y_plsr_2)) + \".\")"
   ]
  },
  {
   "cell_type": "code",
   "execution_count": 113,
   "id": "ae85db0d",
   "metadata": {},
   "outputs": [
    {
     "data": {
      "image/png": "[encoded data removed]",
      "text/plain": [
       "<Figure size 576x576 with 1 Axes>"
      ]
     },
     "metadata": {
      "needs_background": "light"
     },
     "output_type": "display_data"
    },
    {
     "name": "stdout",
     "output_type": "stream",
     "text": [
      "Our PLS-DA model's accuracy for Patient 2's HbO data is 0.5436603984360454.\n"
     ]
    }
   ],
   "source": [
    "#Patient 2- HbO only\n",
    "#10-Fold Cross Validation\n",
    "CV_predicted_Y_array_plsr_2 = []\n",
    "Y_test_array_plsr_2 = []\n",
    "\n",
    "kf = KFold(n_splits=10)\n",
    "for train_index, test_index in kf.split(filt_hbo_2.T):\n",
    "    X_train, X_test = filt_hbo_2.T[train_index], filt_hbo_2.T[test_index]\n",
    "    Y_train, Y_test = filt_right_left_labels_1[train_index], filt_right_left_labels_1[test_index]\n",
    "    Y_test_array_plsr_1.append(Y_test)\n",
    "    plsr=PLSRegression(n_components=2)\n",
    "    plsr.fit(X_train, Y_train)\n",
    "    CV_predicted_Y_array_plsr_1.append(plsr.predict(X_test))\n",
    "    \n",
    "Y_test_total_plsr_1=[]\n",
    "\n",
    "for i in range(len(Y_test_array_plsr_1)):\n",
    "    for s in range(len(Y_test_array_plsr_1[i])):\n",
    "        Y_test_total_plsr_1.append(Y_test_array_plsr_1[i][s])\n",
    "        \n",
    "CV_predicted_Y_total_plsr_1=[]\n",
    "\n",
    "for i in range(len(CV_predicted_Y_array_plsr_1)):\n",
    "    for s in range(len(CV_predicted_Y_array_plsr_1[i])):\n",
    "        CV_predicted_Y_total_plsr_1.append(CV_predicted_Y_array_plsr_1[i][s])\n",
    "        \n",
    "CV_predicted_Y_plsr_1=[]\n",
    "\n",
    "for i in CV_predicted_Y_total_plsr_1:\n",
    "    if i>=0.5:\n",
    "        CV_predicted_Y_plsr_1.append(1)\n",
    "    else:\n",
    "        CV_predicted_Y_plsr_1.append(0)\n",
    "        \n",
    "assert len(CV_predicted_Y_plsr_1)==len(CV_predicted_Y_total_plsr_1)\n",
    "        \n",
    "#PLSR Confusion Matrix\n",
    "cm = confusion_matrix(Y_test_total_plsr_1,CV_predicted_Y_plsr_1)\n",
    "\n",
    "fig, ax = plt.subplots(figsize=(8, 8))\n",
    "ax.imshow(cm)\n",
    "ax.grid(False)\n",
    "ax.xaxis.set(ticks=(0, 1), ticklabels=('Predicted 0s', 'Predicted 1s'))\n",
    "ax.yaxis.set(ticks=(0, 1), ticklabels=('Actual 0s', 'Actual 1s'))\n",
    "ax.set_ylim(1.5, -0.5)\n",
    "for i in range(2):\n",
    "    for j in range(2):\n",
    "        ax.text(j, i, cm[i, j], ha='center', va='center', color='red')\n",
    "plt.show()\n",
    "\n",
    "print(\"Our PLS-DA model's accuracy for Patient 2's HbO data is \" + str(accuracy_score(Y_test_total_plsr_1,CV_predicted_Y_plsr_1)) + \".\")"
   ]
  },
  {
   "cell_type": "code",
   "execution_count": 114,
   "id": "29e3c5c4",
   "metadata": {},
   "outputs": [
    {
     "data": {
      "image/png": "[encoded data removed]",
      "text/plain": [
       "<Figure size 576x576 with 1 Axes>"
      ]
     },
     "metadata": {
      "needs_background": "light"
     },
     "output_type": "display_data"
    },
    {
     "name": "stdout",
     "output_type": "stream",
     "text": [
      "Our PLS-DA model's accuracy for Patient 2's HbR data is 0.5101334017444844.\n"
     ]
    }
   ],
   "source": [
    "#Patient 2- HbR only\n",
    "#10-Fold Cross Validation\n",
    "CV_predicted_Y_array_plsr_2 = []\n",
    "Y_test_array_plsr_2 = []\n",
    "\n",
    "kf = KFold(n_splits=10)\n",
    "for train_index, test_index in kf.split(filt_hbr_2.T):\n",
    "    X_train, X_test = filt_hbr_2.T[train_index], filt_hbr_2.T[test_index]\n",
    "    Y_train, Y_test = filt_right_left_labels_1[train_index], filt_right_left_labels_1[test_index]\n",
    "    Y_test_array_plsr_1.append(Y_test)\n",
    "    plsr=PLSRegression(n_components=2)\n",
    "    plsr.fit(X_train, Y_train)\n",
    "    CV_predicted_Y_array_plsr_1.append(plsr.predict(X_test))\n",
    "    \n",
    "Y_test_total_plsr_1=[]\n",
    "\n",
    "for i in range(len(Y_test_array_plsr_1)):\n",
    "    for s in range(len(Y_test_array_plsr_1[i])):\n",
    "        Y_test_total_plsr_1.append(Y_test_array_plsr_1[i][s])\n",
    "        \n",
    "CV_predicted_Y_total_plsr_1=[]\n",
    "\n",
    "for i in range(len(CV_predicted_Y_array_plsr_1)):\n",
    "    for s in range(len(CV_predicted_Y_array_plsr_1[i])):\n",
    "        CV_predicted_Y_total_plsr_1.append(CV_predicted_Y_array_plsr_1[i][s])\n",
    "        \n",
    "CV_predicted_Y_plsr_1=[]\n",
    "\n",
    "for i in CV_predicted_Y_total_plsr_1:\n",
    "    if i>=0.5:\n",
    "        CV_predicted_Y_plsr_1.append(1)\n",
    "    else:\n",
    "        CV_predicted_Y_plsr_1.append(0)\n",
    "        \n",
    "assert len(CV_predicted_Y_plsr_1)==len(CV_predicted_Y_total_plsr_1)\n",
    "        \n",
    "#PLSR Confusion Matrix\n",
    "cm = confusion_matrix(Y_test_total_plsr_1,CV_predicted_Y_plsr_1)\n",
    "\n",
    "fig, ax = plt.subplots(figsize=(8, 8))\n",
    "ax.imshow(cm)\n",
    "ax.grid(False)\n",
    "ax.xaxis.set(ticks=(0, 1), ticklabels=('Predicted 0s', 'Predicted 1s'))\n",
    "ax.yaxis.set(ticks=(0, 1), ticklabels=('Actual 0s', 'Actual 1s'))\n",
    "ax.set_ylim(1.5, -0.5)\n",
    "for i in range(2):\n",
    "    for j in range(2):\n",
    "        ax.text(j, i, cm[i, j], ha='center', va='center', color='red')\n",
    "plt.show()\n",
    "\n",
    "print(\"Our PLS-DA model's accuracy for Patient 2's HbR data is \" + str(accuracy_score(Y_test_total_plsr_1,CV_predicted_Y_plsr_1)) + \".\")"
   ]
  },
  {
   "cell_type": "markdown",
   "id": "e2337729",
   "metadata": {},
   "source": [
    "## SVM Models"
   ]
  },
  {
   "cell_type": "code",
   "execution_count": 115,
   "id": "537e858c",
   "metadata": {},
   "outputs": [
    {
     "data": {
      "image/png": "[encoded data removed]",
      "text/plain": [
       "<Figure size 576x576 with 1 Axes>"
      ]
     },
     "metadata": {
      "needs_background": "light"
     },
     "output_type": "display_data"
    },
    {
     "name": "stdout",
     "output_type": "stream",
     "text": [
      "Our SVM rbf model's accuracy for Patient 1 Run 1 is 0.5256869772998806.\n"
     ]
    }
   ],
   "source": [
    "#Patient 1 Run 1\n",
    "#10-Fold Cross Validation\n",
    "CV_predicted_Y_array_svm = []\n",
    "Y_test_array_svm = []\n",
    "\n",
    "kf = KFold(n_splits=10)\n",
    "for train_index, test_index in kf.split(filt_right_left_data.T):\n",
    "    X_train, X_test = filt_right_left_data.T[train_index], filt_right_left_data.T[test_index]\n",
    "    Y_train, Y_test = filt_right_left_labels[train_index], filt_right_left_labels[test_index]\n",
    "    Y_test_array_svm.append(Y_test)\n",
    "    svm=SVC(kernel='rbf')\n",
    "    svm.fit(X_train, Y_train)\n",
    "    CV_predicted_Y_array_svm.append(svm.predict(X_test))\n",
    "    \n",
    "Y_test_total_svm=[]\n",
    "\n",
    "for i in range(len(Y_test_array_svm)):\n",
    "    for s in range(len(Y_test_array_svm[i])):\n",
    "        Y_test_total_svm.append(Y_test_array_svm[i][s])\n",
    "        \n",
    "CV_predicted_Y_total_svm=[]\n",
    "\n",
    "for i in range(len(CV_predicted_Y_array_svm)):\n",
    "    for s in range(len(CV_predicted_Y_array_svm[i])):\n",
    "        CV_predicted_Y_total_svm.append(CV_predicted_Y_array_svm[i][s])\n",
    "                \n",
    "#SVM Confusion Matrix\n",
    "cm = confusion_matrix(Y_test_total_svm,CV_predicted_Y_total_svm)\n",
    "\n",
    "fig, ax = plt.subplots(figsize=(8, 8))\n",
    "ax.imshow(cm)\n",
    "ax.grid(False)\n",
    "ax.xaxis.set(ticks=(0, 1), ticklabels=('Predicted 0s', 'Predicted 1s'))\n",
    "ax.yaxis.set(ticks=(0, 1), ticklabels=('Actual 0s', 'Actual 1s'))\n",
    "ax.set_ylim(1.5, -0.5)\n",
    "for i in range(2):\n",
    "    for j in range(2):\n",
    "        ax.text(j, i, cm[i, j], ha='center', va='center', color='red')\n",
    "plt.show()\n",
    "\n",
    "print(\"Our SVM rbf model's accuracy for Patient 1 Run 1 is \" + str(accuracy_score(Y_test_total_svm,CV_predicted_Y_total_svm)) + \".\")"
   ]
  },
  {
   "cell_type": "code",
   "execution_count": 116,
   "id": "ceb0644b",
   "metadata": {},
   "outputs": [
    {
     "data": {
      "image/png": "[encoded data removed]",
      "text/plain": [
       "<Figure size 576x576 with 1 Axes>"
      ]
     },
     "metadata": {
      "needs_background": "light"
     },
     "output_type": "display_data"
    },
    {
     "name": "stdout",
     "output_type": "stream",
     "text": [
      "Our SVM rbf model's accuracy for Patient 1 Run 1's HbO data is 0.4747112704101951.\n"
     ]
    }
   ],
   "source": [
    "#Patient 1 Run 1- HbO only\n",
    "#10-Fold Cross Validation\n",
    "CV_predicted_Y_array_svm = []\n",
    "Y_test_array_svm = []\n",
    "\n",
    "kf = KFold(n_splits=10)\n",
    "for train_index, test_index in kf.split(filt_hbo.T):\n",
    "    X_train, X_test = filt_hbo.T[train_index], filt_hbo.T[test_index]\n",
    "    Y_train, Y_test = filt_right_left_labels[train_index], filt_right_left_labels[test_index]\n",
    "    Y_test_array_svm.append(Y_test)\n",
    "    svm=SVC(kernel='rbf')\n",
    "    svm.fit(X_train, Y_train)\n",
    "    CV_predicted_Y_array_svm.append(svm.predict(X_test))\n",
    "    \n",
    "Y_test_total_svm=[]\n",
    "\n",
    "for i in range(len(Y_test_array_svm)):\n",
    "    for s in range(len(Y_test_array_svm[i])):\n",
    "        Y_test_total_svm.append(Y_test_array_svm[i][s])\n",
    "        \n",
    "CV_predicted_Y_total_svm=[]\n",
    "\n",
    "for i in range(len(CV_predicted_Y_array_svm)):\n",
    "    for s in range(len(CV_predicted_Y_array_svm[i])):\n",
    "        CV_predicted_Y_total_svm.append(CV_predicted_Y_array_svm[i][s])\n",
    "                \n",
    "#SVM Confusion Matrix\n",
    "cm = confusion_matrix(Y_test_total_svm,CV_predicted_Y_total_svm)\n",
    "\n",
    "fig, ax = plt.subplots(figsize=(8, 8))\n",
    "ax.imshow(cm)\n",
    "ax.grid(False)\n",
    "ax.xaxis.set(ticks=(0, 1), ticklabels=('Predicted 0s', 'Predicted 1s'))\n",
    "ax.yaxis.set(ticks=(0, 1), ticklabels=('Actual 0s', 'Actual 1s'))\n",
    "ax.set_ylim(1.5, -0.5)\n",
    "for i in range(2):\n",
    "    for j in range(2):\n",
    "        ax.text(j, i, cm[i, j], ha='center', va='center', color='red')\n",
    "plt.show()\n",
    "\n",
    "print(\"Our SVM rbf model's accuracy for Patient 1 Run 1's HbO data is \" + str(accuracy_score(Y_test_total_svm,CV_predicted_Y_total_svm)) + \".\")"
   ]
  },
  {
   "cell_type": "code",
   "execution_count": 117,
   "id": "d507194d",
   "metadata": {},
   "outputs": [
    {
     "data": {
      "image/png": "[encoded data removed]",
      "text/plain": [
       "<Figure size 576x576 with 1 Axes>"
      ]
     },
     "metadata": {
      "needs_background": "light"
     },
     "output_type": "display_data"
    },
    {
     "name": "stdout",
     "output_type": "stream",
     "text": [
      "Our SVM rbf model's accuracy for Patient 1 Run 1's HbR data is 0.5702907208283552.\n"
     ]
    }
   ],
   "source": [
    "#Patient 1 Run 1- HbR only\n",
    "#10-Fold Cross Validation\n",
    "CV_predicted_Y_array_svm = []\n",
    "Y_test_array_svm = []\n",
    "\n",
    "kf = KFold(n_splits=10)\n",
    "for train_index, test_index in kf.split(filt_hbo.T):\n",
    "    X_train, X_test = filt_hbr.T[train_index], filt_hbr.T[test_index]\n",
    "    Y_train, Y_test = filt_right_left_labels[train_index], filt_right_left_labels[test_index]\n",
    "    Y_test_array_svm.append(Y_test)\n",
    "    svm=SVC(kernel='rbf')\n",
    "    svm.fit(X_train, Y_train)\n",
    "    CV_predicted_Y_array_svm.append(svm.predict(X_test))\n",
    "    \n",
    "Y_test_total_svm=[]\n",
    "\n",
    "for i in range(len(Y_test_array_svm)):\n",
    "    for s in range(len(Y_test_array_svm[i])):\n",
    "        Y_test_total_svm.append(Y_test_array_svm[i][s])\n",
    "        \n",
    "CV_predicted_Y_total_svm=[]\n",
    "\n",
    "for i in range(len(CV_predicted_Y_array_svm)):\n",
    "    for s in range(len(CV_predicted_Y_array_svm[i])):\n",
    "        CV_predicted_Y_total_svm.append(CV_predicted_Y_array_svm[i][s])\n",
    "                \n",
    "#SVM Confusion Matrix\n",
    "cm = confusion_matrix(Y_test_total_svm,CV_predicted_Y_total_svm)\n",
    "\n",
    "fig, ax = plt.subplots(figsize=(8, 8))\n",
    "ax.imshow(cm)\n",
    "ax.grid(False)\n",
    "ax.xaxis.set(ticks=(0, 1), ticklabels=('Predicted 0s', 'Predicted 1s'))\n",
    "ax.yaxis.set(ticks=(0, 1), ticklabels=('Actual 0s', 'Actual 1s'))\n",
    "ax.set_ylim(1.5, -0.5)\n",
    "for i in range(2):\n",
    "    for j in range(2):\n",
    "        ax.text(j, i, cm[i, j], ha='center', va='center', color='red')\n",
    "plt.show()\n",
    "\n",
    "print(\"Our SVM rbf model's accuracy for Patient 1 Run 1's HbR data is \" + str(accuracy_score(Y_test_total_svm,CV_predicted_Y_total_svm)) + \".\")"
   ]
  },
  {
   "cell_type": "code",
   "execution_count": 118,
   "id": "1d78fab9",
   "metadata": {},
   "outputs": [
    {
     "data": {
      "image/png": "[encoded data removed]",
      "text/plain": [
       "<Figure size 576x576 with 1 Axes>"
      ]
     },
     "metadata": {
      "needs_background": "light"
     },
     "output_type": "display_data"
    },
    {
     "name": "stdout",
     "output_type": "stream",
     "text": [
      "Our SVM rbf model's accuracy for Patient 1 Run 2 is 0.6520706042090971.\n"
     ]
    }
   ],
   "source": [
    "#Patient 1 Run 2\n",
    "#10-Fold Cross Validation\n",
    "CV_predicted_Y_array_svm_1 = []\n",
    "Y_test_array_svm_1 = []\n",
    "\n",
    "kf = KFold(n_splits=10)\n",
    "for train_index, test_index in kf.split(filt_right_left_data_1.T):\n",
    "    X_train, X_test = filt_right_left_data_1.T[train_index], filt_right_left_data_1.T[test_index]\n",
    "    Y_train, Y_test = filt_right_left_labels_1[train_index], filt_right_left_labels_1[test_index]\n",
    "    Y_test_array_svm_1.append(Y_test)\n",
    "    svm=SVC(kernel='rbf')\n",
    "    svm.fit(X_train, Y_train)\n",
    "    CV_predicted_Y_array_svm_1.append(svm.predict(X_test))\n",
    "    \n",
    "Y_test_total_svm_1=[]\n",
    "\n",
    "for i in range(len(Y_test_array_svm_1)):\n",
    "    for s in range(len(Y_test_array_svm_1[i])):\n",
    "        Y_test_total_svm_1.append(Y_test_array_svm_1[i][s])\n",
    "        \n",
    "CV_predicted_Y_total_svm_1=[]\n",
    "\n",
    "for i in range(len(CV_predicted_Y_array_svm_1)):\n",
    "    for s in range(len(CV_predicted_Y_array_svm_1[i])):\n",
    "        CV_predicted_Y_total_svm_1.append(CV_predicted_Y_array_svm_1[i][s])\n",
    "                \n",
    "#SVM Confusion Matrix\n",
    "cm = confusion_matrix(Y_test_total_svm_1,CV_predicted_Y_total_svm_1)\n",
    "\n",
    "fig, ax = plt.subplots(figsize=(8, 8))\n",
    "ax.imshow(cm)\n",
    "ax.grid(False)\n",
    "ax.xaxis.set(ticks=(0, 1), ticklabels=('Predicted 0s', 'Predicted 1s'))\n",
    "ax.yaxis.set(ticks=(0, 1), ticklabels=('Actual 0s', 'Actual 1s'))\n",
    "ax.set_ylim(1.5, -0.5)\n",
    "for i in range(2):\n",
    "    for j in range(2):\n",
    "        ax.text(j, i, cm[i, j], ha='center', va='center', color='red')\n",
    "plt.show()\n",
    "\n",
    "print(\"Our SVM rbf model's accuracy for Patient 1 Run 2 is \" + str(accuracy_score(Y_test_total_svm_1,CV_predicted_Y_total_svm_1)) + \".\")"
   ]
  },
  {
   "cell_type": "code",
   "execution_count": 119,
   "id": "fef3f9b3",
   "metadata": {},
   "outputs": [
    {
     "data": {
      "image/png": "[encoded data removed]",
      "text/plain": [
       "<Figure size 576x576 with 1 Axes>"
      ]
     },
     "metadata": {
      "needs_background": "light"
     },
     "output_type": "display_data"
    },
    {
     "name": "stdout",
     "output_type": "stream",
     "text": [
      "Our SVM rbf model's accuracy for Patient 1 Run 2's HbO data is 0.6544467073998642.\n"
     ]
    }
   ],
   "source": [
    "#Patient 1 Run 2- HbO\n",
    "#10-Fold Cross Validation\n",
    "CV_predicted_Y_array_svm_1 = []\n",
    "Y_test_array_svm_1 = []\n",
    "\n",
    "kf = KFold(n_splits=10)\n",
    "for train_index, test_index in kf.split(filt_hbo_1.T):\n",
    "    X_train, X_test = filt_hbo_1.T[train_index], filt_hbo_1.T[test_index]\n",
    "    Y_train, Y_test = filt_right_left_labels_1[train_index], filt_right_left_labels_1[test_index]\n",
    "    Y_test_array_svm_1.append(Y_test)\n",
    "    svm=SVC(kernel='rbf')\n",
    "    svm.fit(X_train, Y_train)\n",
    "    CV_predicted_Y_array_svm_1.append(svm.predict(X_test))\n",
    "    \n",
    "Y_test_total_svm_1=[]\n",
    "\n",
    "for i in range(len(Y_test_array_svm_1)):\n",
    "    for s in range(len(Y_test_array_svm_1[i])):\n",
    "        Y_test_total_svm_1.append(Y_test_array_svm_1[i][s])\n",
    "        \n",
    "CV_predicted_Y_total_svm_1=[]\n",
    "\n",
    "for i in range(len(CV_predicted_Y_array_svm_1)):\n",
    "    for s in range(len(CV_predicted_Y_array_svm_1[i])):\n",
    "        CV_predicted_Y_total_svm_1.append(CV_predicted_Y_array_svm_1[i][s])\n",
    "                \n",
    "#SVM Confusion Matrix\n",
    "cm = confusion_matrix(Y_test_total_svm_1,CV_predicted_Y_total_svm_1)\n",
    "\n",
    "fig, ax = plt.subplots(figsize=(8, 8))\n",
    "ax.imshow(cm)\n",
    "ax.grid(False)\n",
    "ax.xaxis.set(ticks=(0, 1), ticklabels=('Predicted 0s', 'Predicted 1s'))\n",
    "ax.yaxis.set(ticks=(0, 1), ticklabels=('Actual 0s', 'Actual 1s'))\n",
    "ax.set_ylim(1.5, -0.5)\n",
    "for i in range(2):\n",
    "    for j in range(2):\n",
    "        ax.text(j, i, cm[i, j], ha='center', va='center', color='red')\n",
    "plt.show()\n",
    "\n",
    "print(\"Our SVM rbf model's accuracy for Patient 1 Run 2's HbO data is \" + str(accuracy_score(Y_test_total_svm_1,CV_predicted_Y_total_svm_1)) + \".\")"
   ]
  },
  {
   "cell_type": "code",
   "execution_count": 120,
   "id": "2ea34b81",
   "metadata": {},
   "outputs": [
    {
     "data": {
      "image/png": "[encoded data removed]",
      "text/plain": [
       "<Figure size 576x576 with 1 Axes>"
      ]
     },
     "metadata": {
      "needs_background": "light"
     },
     "output_type": "display_data"
    },
    {
     "name": "stdout",
     "output_type": "stream",
     "text": [
      "Our SVM rbf model's accuracy for Patient 1 Run 2's HbR data is 0.6778682959945689.\n"
     ]
    }
   ],
   "source": [
    "#Patient 1 Run 2- HbR\n",
    "#10-Fold Cross Validation\n",
    "CV_predicted_Y_array_svm_1 = []\n",
    "Y_test_array_svm_1 = []\n",
    "\n",
    "kf = KFold(n_splits=10)\n",
    "for train_index, test_index in kf.split(filt_hbr_1.T):\n",
    "    X_train, X_test = filt_hbr_1.T[train_index], filt_hbr_1.T[test_index]\n",
    "    Y_train, Y_test = filt_right_left_labels_1[train_index], filt_right_left_labels_1[test_index]\n",
    "    Y_test_array_svm_1.append(Y_test)\n",
    "    svm=SVC(kernel='rbf')\n",
    "    svm.fit(X_train, Y_train)\n",
    "    CV_predicted_Y_array_svm_1.append(svm.predict(X_test))\n",
    "    \n",
    "Y_test_total_svm_1=[]\n",
    "\n",
    "for i in range(len(Y_test_array_svm_1)):\n",
    "    for s in range(len(Y_test_array_svm_1[i])):\n",
    "        Y_test_total_svm_1.append(Y_test_array_svm_1[i][s])\n",
    "        \n",
    "CV_predicted_Y_total_svm_1=[]\n",
    "\n",
    "for i in range(len(CV_predicted_Y_array_svm_1)):\n",
    "    for s in range(len(CV_predicted_Y_array_svm_1[i])):\n",
    "        CV_predicted_Y_total_svm_1.append(CV_predicted_Y_array_svm_1[i][s])\n",
    "                \n",
    "#SVM Confusion Matrix\n",
    "cm = confusion_matrix(Y_test_total_svm_1,CV_predicted_Y_total_svm_1)\n",
    "\n",
    "fig, ax = plt.subplots(figsize=(8, 8))\n",
    "ax.imshow(cm)\n",
    "ax.grid(False)\n",
    "ax.xaxis.set(ticks=(0, 1), ticklabels=('Predicted 0s', 'Predicted 1s'))\n",
    "ax.yaxis.set(ticks=(0, 1), ticklabels=('Actual 0s', 'Actual 1s'))\n",
    "ax.set_ylim(1.5, -0.5)\n",
    "for i in range(2):\n",
    "    for j in range(2):\n",
    "        ax.text(j, i, cm[i, j], ha='center', va='center', color='red')\n",
    "plt.show()\n",
    "\n",
    "print(\"Our SVM rbf model's accuracy for Patient 1 Run 2's HbR data is \" + str(accuracy_score(Y_test_total_svm_1,CV_predicted_Y_total_svm_1)) + \".\")"
   ]
  },
  {
   "cell_type": "code",
   "execution_count": 121,
   "id": "755cf689",
   "metadata": {},
   "outputs": [
    {
     "data": {
      "image/png": "[encoded data removed]",
      "text/plain": [
       "<Figure size 576x576 with 1 Axes>"
      ]
     },
     "metadata": {
      "needs_background": "light"
     },
     "output_type": "display_data"
    },
    {
     "name": "stdout",
     "output_type": "stream",
     "text": [
      "Our SVM rbf model's accuracy for Patient 2 is 0.5806185567010309.\n"
     ]
    }
   ],
   "source": [
    "#Patient 2\n",
    "#10-Fold Cross Validation\n",
    "CV_predicted_Y_array_svm_2 = []\n",
    "Y_test_array_svm_2 = []\n",
    "\n",
    "kf = KFold(n_splits=10)\n",
    "for train_index, test_index in kf.split(filt_right_left_data_2.T):\n",
    "    X_train, X_test = filt_right_left_data_2.T[train_index], filt_right_left_data_2.T[test_index]\n",
    "    Y_train, Y_test = filt_right_left_labels_2[train_index], filt_right_left_labels_2[test_index]\n",
    "    Y_test_array_svm_2.append(Y_test)\n",
    "    svm=SVC(kernel='rbf')\n",
    "    svm.fit(X_train, Y_train)\n",
    "    CV_predicted_Y_array_svm_2.append(svm.predict(X_test))\n",
    "    \n",
    "Y_test_total_svm_2=[]\n",
    "\n",
    "for i in range(len(Y_test_array_svm_2)):\n",
    "    for s in range(len(Y_test_array_svm_2[i])):\n",
    "        Y_test_total_svm_2.append(Y_test_array_svm_2[i][s])\n",
    "        \n",
    "CV_predicted_Y_total_svm_2=[]\n",
    "\n",
    "for i in range(len(CV_predicted_Y_array_svm_2)):\n",
    "    for s in range(len(CV_predicted_Y_array_svm_2[i])):\n",
    "        CV_predicted_Y_total_svm_2.append(CV_predicted_Y_array_svm_2[i][s])\n",
    "                \n",
    "#SVM Confusion Matrix\n",
    "cm = confusion_matrix(Y_test_total_svm_2,CV_predicted_Y_total_svm_2)\n",
    "\n",
    "fig, ax = plt.subplots(figsize=(8, 8))\n",
    "ax.imshow(cm)\n",
    "ax.grid(False)\n",
    "ax.xaxis.set(ticks=(0, 1), ticklabels=('Predicted 0s', 'Predicted 1s'))\n",
    "ax.yaxis.set(ticks=(0, 1), ticklabels=('Actual 0s', 'Actual 1s'))\n",
    "ax.set_ylim(1.5, -0.5)\n",
    "for i in range(2):\n",
    "    for j in range(2):\n",
    "        ax.text(j, i, cm[i, j], ha='center', va='center', color='red')\n",
    "plt.show()\n",
    "\n",
    "print(\"Our SVM rbf model's accuracy for Patient 2 is \" + str(accuracy_score(Y_test_total_svm_2,CV_predicted_Y_total_svm_2)) + \".\")"
   ]
  },
  {
   "cell_type": "code",
   "execution_count": 122,
   "id": "9f2c4be1",
   "metadata": {},
   "outputs": [
    {
     "data": {
      "image/png": "[encoded data removed]",
      "text/plain": [
       "<Figure size 576x576 with 1 Axes>"
      ]
     },
     "metadata": {
      "needs_background": "light"
     },
     "output_type": "display_data"
    },
    {
     "name": "stdout",
     "output_type": "stream",
     "text": [
      "Our SVM rbf model's accuracy for Patient 2's HbO data is 0.6107216494845361.\n"
     ]
    }
   ],
   "source": [
    "#Patient 2- HbO\n",
    "#10-Fold Cross Validation\n",
    "CV_predicted_Y_array_svm_2 = []\n",
    "Y_test_array_svm_2 = []\n",
    "\n",
    "kf = KFold(n_splits=10)\n",
    "for train_index, test_index in kf.split(filt_hbo_2.T):\n",
    "    X_train, X_test = filt_hbo_2.T[train_index], filt_hbo_2.T[test_index]\n",
    "    Y_train, Y_test = filt_right_left_labels_2[train_index], filt_right_left_labels_2[test_index]\n",
    "    Y_test_array_svm_2.append(Y_test)\n",
    "    svm=SVC(kernel='rbf')\n",
    "    svm.fit(X_train, Y_train)\n",
    "    CV_predicted_Y_array_svm_2.append(svm.predict(X_test))\n",
    "    \n",
    "Y_test_total_svm_2=[]\n",
    "\n",
    "for i in range(len(Y_test_array_svm_2)):\n",
    "    for s in range(len(Y_test_array_svm_2[i])):\n",
    "        Y_test_total_svm_2.append(Y_test_array_svm_2[i][s])\n",
    "        \n",
    "CV_predicted_Y_total_svm_2=[]\n",
    "\n",
    "for i in range(len(CV_predicted_Y_array_svm_2)):\n",
    "    for s in range(len(CV_predicted_Y_array_svm_2[i])):\n",
    "        CV_predicted_Y_total_svm_2.append(CV_predicted_Y_array_svm_2[i][s])\n",
    "                \n",
    "#SVM Confusion Matrix\n",
    "cm = confusion_matrix(Y_test_total_svm_2,CV_predicted_Y_total_svm_2)\n",
    "\n",
    "fig, ax = plt.subplots(figsize=(8, 8))\n",
    "ax.imshow(cm)\n",
    "ax.grid(False)\n",
    "ax.xaxis.set(ticks=(0, 1), ticklabels=('Predicted 0s', 'Predicted 1s'))\n",
    "ax.yaxis.set(ticks=(0, 1), ticklabels=('Actual 0s', 'Actual 1s'))\n",
    "ax.set_ylim(1.5, -0.5)\n",
    "for i in range(2):\n",
    "    for j in range(2):\n",
    "        ax.text(j, i, cm[i, j], ha='center', va='center', color='red')\n",
    "plt.show()\n",
    "\n",
    "print(\"Our SVM rbf model's accuracy for Patient 2's HbO data is \" + str(accuracy_score(Y_test_total_svm_2,CV_predicted_Y_total_svm_2)) + \".\")"
   ]
  },
  {
   "cell_type": "code",
   "execution_count": 123,
   "id": "2ed47e40",
   "metadata": {},
   "outputs": [
    {
     "data": {
      "image/png": "[encoded data removed]",
      "text/plain": [
       "<Figure size 576x576 with 1 Axes>"
      ]
     },
     "metadata": {
      "needs_background": "light"
     },
     "output_type": "display_data"
    },
    {
     "name": "stdout",
     "output_type": "stream",
     "text": [
      "Our SVM rbf model's accuracy for Patient 1 Run 2's HbR data is 0.6074226804123711.\n"
     ]
    }
   ],
   "source": [
    "#Patient 2- HbR\n",
    "#10-Fold Cross Validation\n",
    "CV_predicted_Y_array_svm_2 = []\n",
    "Y_test_array_svm_2 = []\n",
    "\n",
    "kf = KFold(n_splits=10)\n",
    "for train_index, test_index in kf.split(filt_right_left_data_2.T):\n",
    "    X_train, X_test = filt_hbr_2.T[train_index], filt_hbr_2.T[test_index]\n",
    "    Y_train, Y_test = filt_right_left_labels_2[train_index], filt_right_left_labels_2[test_index]\n",
    "    Y_test_array_svm_2.append(Y_test)\n",
    "    svm=SVC(kernel='rbf')\n",
    "    svm.fit(X_train, Y_train)\n",
    "    CV_predicted_Y_array_svm_2.append(svm.predict(X_test))\n",
    "    \n",
    "Y_test_total_svm_2=[]\n",
    "\n",
    "for i in range(len(Y_test_array_svm_2)):\n",
    "    for s in range(len(Y_test_array_svm_2[i])):\n",
    "        Y_test_total_svm_2.append(Y_test_array_svm_2[i][s])\n",
    "        \n",
    "CV_predicted_Y_total_svm_2=[]\n",
    "\n",
    "for i in range(len(CV_predicted_Y_array_svm_2)):\n",
    "    for s in range(len(CV_predicted_Y_array_svm_2[i])):\n",
    "        CV_predicted_Y_total_svm_2.append(CV_predicted_Y_array_svm_2[i][s])\n",
    "                \n",
    "#SVM Confusion Matrix\n",
    "cm = confusion_matrix(Y_test_total_svm_2,CV_predicted_Y_total_svm_2)\n",
    "\n",
    "fig, ax = plt.subplots(figsize=(8, 8))\n",
    "ax.imshow(cm)\n",
    "ax.grid(False)\n",
    "ax.xaxis.set(ticks=(0, 1), ticklabels=('Predicted 0s', 'Predicted 1s'))\n",
    "ax.yaxis.set(ticks=(0, 1), ticklabels=('Actual 0s', 'Actual 1s'))\n",
    "ax.set_ylim(1.5, -0.5)\n",
    "for i in range(2):\n",
    "    for j in range(2):\n",
    "        ax.text(j, i, cm[i, j], ha='center', va='center', color='red')\n",
    "plt.show()\n",
    "\n",
    "print(\"Our SVM rbf model's accuracy for Patient 1 Run 2's HbR data is \" + str(accuracy_score(Y_test_total_svm_2,CV_predicted_Y_total_svm_2)) + \".\")"
   ]
  },
  {
   "cell_type": "markdown",
   "id": "1015e943",
   "metadata": {},
   "source": [
    "### Hyperparameter Tuning for SVM Model"
   ]
  },
  {
   "cell_type": "markdown",
   "id": "e60ca89f",
   "metadata": {},
   "source": [
    "#### Since our SVM model showed the highest prediction accuracy, we tried to tune some hyperparameters to improve it."
   ]
  },
  {
   "cell_type": "code",
   "execution_count": 124,
   "id": "a108ad92",
   "metadata": {},
   "outputs": [
    {
     "name": "stdout",
     "output_type": "stream",
     "text": [
      "(2946, 2390)\n",
      "(2946,)\n"
     ]
    }
   ],
   "source": [
    "print(filt_right_left_data_1.T.shape)\n",
    "print(filt_right_left_labels_1.shape)"
   ]
  },
  {
   "cell_type": "code",
   "execution_count": 126,
   "id": "4532e637",
   "metadata": {},
   "outputs": [
    {
     "name": "stdout",
     "output_type": "stream",
     "text": [
      "Q2Y Value for C = 1e-05 is 0.5443577004968062\n",
      "Q2Y Value for C = 0.0001 is 0.5443577004968062\n",
      "Q2Y Value for C = 0.001 is 0.5443577004968062\n",
      "Q2Y Value for C = 0.01 is 0.5613910574875799\n",
      "Q2Y Value for C = 0.1 is 0.5951029098651526\n",
      "Q2Y Value for C = 1.0 is 0.5951029098651526\n",
      "Q2Y Value for C = 10.0 is 0.5951029098651526\n",
      "Q2Y Value for C = 100.0 is 0.5951029098651526\n",
      "Q2Y Value for C = 1000.0 is 0.5951029098651526\n",
      "Q2Y Value for C = 10000.0 is 0.5951029098651526\n",
      "Q2Y Value for C = 100000.0 is 0.5951029098651526\n"
     ]
    }
   ],
   "source": [
    "# C parameter Tuning\n",
    "\n",
    "#Vary the C hyperparameter from 10^(-5) to 10(^5)\n",
    "a=np.array([0.00001,0.0001,0.001,0.01,0.1,1,10,100,1000,10000,100000])\n",
    "c=1\n",
    "Q=np.empty(11)#Variable to store my Q2Y values in\n",
    "\n",
    "for i in range(11):\n",
    "    y_true, y_pred = np.zeros(2818), np.zeros(2818)\n",
    "    kf = KFold(n_splits=10)\n",
    "    \n",
    "    for train_index, test_index in kf.split(filt_right_left_data_2.T):\n",
    "        X_train, X_test = filt_right_left_data_2.T[train_index], filt_right_left_data_2.T[test_index]\n",
    "        Y_train, Y_test = filt_right_left_labels_2[train_index], filt_right_left_labels_2[test_index]\n",
    "    \n",
    "        #Create SVM model with RBF kernel\n",
    "        model_SVM_r=SVC(kernel=\"rbf\",C=a[i])\n",
    "\n",
    "        #Fit the model to training set \n",
    "        model_SVM_r.fit(X_train,Y_train)\n",
    "\n",
    "        #Predict Tapping from SVM model\n",
    "        tap_p=model_SVM_r.predict(X_test >= 0.5).astype('uint8') #Binary Cancer predictions\n",
    "    \n",
    "        #Store predicted vs true values\n",
    "        y_true[test_index]=Y_test\n",
    "        y_pred[test_index]=tap_p #Storing our tapping predictions\n",
    "        \n",
    "    Q2Y=accuracy_score(y_pred,y_true)\n",
    "    Q[i]=Q2Y\n",
    "    print(\"Q2Y Value for C =\", a[i],\"is\",Q[i])"
   ]
  },
  {
   "cell_type": "code",
   "execution_count": 127,
   "id": "046612a7",
   "metadata": {},
   "outputs": [
    {
     "data": {
      "text/plain": [
       "Text(0.5, 1.0, \"Effects of Varying C Parameter on SVM Model's Prediction Accuracy\")"
      ]
     },
     "execution_count": 127,
     "metadata": {},
     "output_type": "execute_result"
    },
    {
     "data": {
      "image/png": "[encoded data removed]",
      "text/plain": [
       "<Figure size 432x288 with 1 Axes>"
      ]
     },
     "metadata": {
      "needs_background": "light"
     },
     "output_type": "display_data"
    }
   ],
   "source": [
    "#Plot\n",
    "plt.plot(a,Q)\n",
    "plt.xlabel(\"C Value\")\n",
    "plt.ylabel(\"Prediction Accuracy\")\n",
    "plt.title(\"Effects of Varying C Parameter on SVM Model's Prediction Accuracy\")"
   ]
  },
  {
   "cell_type": "code",
   "execution_count": 128,
   "id": "154b78ea",
   "metadata": {},
   "outputs": [
    {
     "name": "stdout",
     "output_type": "stream",
     "text": [
      "Q2Y Value for Gamma = 1e-05 is 0.5926188786373314\n",
      "Q2Y Value for Gamma = 0.0001 is 0.5958126330731015\n",
      "Q2Y Value for Gamma = 0.001 is 0.5951029098651526\n",
      "Q2Y Value for Gamma = 0.01 is 0.5486160397444997\n",
      "Q2Y Value for Gamma = 0.1 is 0.5443577004968062\n",
      "Q2Y Value for Gamma = 1.0 is 0.5443577004968062\n",
      "Q2Y Value for Gamma = 10.0 is 0.5443577004968062\n",
      "Q2Y Value for Gamma = 100.0 is 0.5443577004968062\n",
      "Q2Y Value for Gamma = 1000.0 is 0.5443577004968062\n",
      "Q2Y Value for Gamma = 10000.0 is 0.5443577004968062\n",
      "Q2Y Value for Gamma = 100000.0 is 0.5443577004968062\n"
     ]
    }
   ],
   "source": [
    "# Gamma parameter Tuning\n",
    "\n",
    "#Vary the Gamma hyperparameter from 10^(-5) to 10(^5)\n",
    "a=np.array([0.00001,0.0001,0.001,0.01,0.1,1,10,100,1000,10000,100000])\n",
    "Q_g=np.empty(11)#Variable to store my Q2Y values in\n",
    "\n",
    "for i in range(11):\n",
    "    y_true, y_pred = np.zeros(2818), np.zeros(2818)\n",
    "    kf = KFold(n_splits=10)\n",
    "    \n",
    "    for train_index, test_index in kf.split(filt_right_left_data_2.T):\n",
    "        X_train, X_test = filt_right_left_data_2.T[train_index], filt_right_left_data_2.T[test_index]\n",
    "        Y_train, Y_test = filt_right_left_labels_2[train_index], filt_right_left_labels_2[test_index]\n",
    "    \n",
    "        #Create SVM model with RBF kernel\n",
    "        model_SVM_r=SVC(kernel=\"rbf\",gamma=a[i])\n",
    "\n",
    "        #Fit the model to training set \n",
    "        model_SVM_r.fit(X_train,Y_train)\n",
    "\n",
    "        #Predict Tapping from SVM model\n",
    "        tap_p=model_SVM_r.predict(X_test >= 0.5).astype('uint8') #Binary Cancer predictions\n",
    "    \n",
    "        #Store predicted vs true values\n",
    "        y_true[test_index]=Y_test\n",
    "        y_pred[test_index]=tap_p #Storing our tapping predictions\n",
    "        \n",
    "    Q2Y=accuracy_score(y_pred,y_true)\n",
    "    Q_g[i]=Q2Y\n",
    "    print(\"Q2Y Value for Gamma =\", a[i],\"is\",Q_g[i])"
   ]
  },
  {
   "cell_type": "code",
   "execution_count": 129,
   "id": "04b3fa81",
   "metadata": {},
   "outputs": [
    {
     "data": {
      "text/plain": [
       "Text(0.5, 1.0, \"Effects of Varying Gamma Parameter on SVM Model's Prediction Accuracy\")"
      ]
     },
     "execution_count": 129,
     "metadata": {},
     "output_type": "execute_result"
    },
    {
     "data": {
      "image/png": "[encoded data removed]",
      "text/plain": [
       "<Figure size 432x288 with 1 Axes>"
      ]
     },
     "metadata": {
      "needs_background": "light"
     },
     "output_type": "display_data"
    }
   ],
   "source": [
    "#Plot\n",
    "plt.plot(a,Q_g)\n",
    "plt.xlabel(\"Gamma Value\")\n",
    "plt.ylabel(\"Prediction Accuracy\")\n",
    "plt.title(\"Effects of Varying Gamma Parameter on SVM Model's Prediction Accuracy\")"
   ]
  }
 ],
 "metadata": {
  "kernelspec": {
   "display_name": "Python 3 (ipykernel)",
   "language": "python",
   "name": "python3"
  },
  "language_info": {
   "codemirror_mode": {
    "name": "ipython",
    "version": 3
   },
   "file_extension": ".py",
   "mimetype": "text/x-python",
   "name": "python",
   "nbconvert_exporter": "python",
   "pygments_lexer": "ipython3",
   "version": "3.9.7"
  }
 },
 "nbformat": 4,
 "nbformat_minor": 5
}
